{
 "cells": [
  {
   "cell_type": "markdown",
   "metadata": {},
   "source": [
    "ChEn-3170: Computational Methods in Chemical Engineering Spring 2023 UMass Lowell; Prof. V. F. de Almeida **16Jan23**\n",
    "\n",
    "# 02. Python: Variables, Data Types, and Data Structures"
   ]
  },
  {
   "cell_type": "markdown",
   "metadata": {},
   "source": [
    "---\n",
    "## Table of Contents<a id=\"toc\"></a>\n",
    "* [Objectives](#obj)\n",
    "* [Introduction](#introduction)\n",
    "  \n",
    "  \n",
    "* [Variables](#variables)\n",
    " - [Boolean](#boolean)\n",
    " - [String](#string)\n",
    "   + [Indexing Operator []](#nb1)\n",
    "   + [Slicing Operator or Colon Operator [x:y:z]](#nb2)\n",
    " - [Numeric](#numeric)\n",
    "   + [Conversion](#conversion)\n",
    "   + [Operations](#operations)\n",
    " - [None](#none)\n",
    " \n",
    " \n",
    "* [Data Structures or Built-in Containers](#structures)\n",
    " - [List](#list)\n",
    " - [Dictionary](#dictionary)\n",
    " - [Tuple](#tuple)\n",
    " - [Set](#set)\n",
    " \n",
    " \n",
    "* [Summary](#summary)\n",
    "* [Interactive Help](#help)\n",
    "\n",
    "\n",
    "* [Practicing w/ Lists](#lists)\n",
    "* [Practicing w/ Dictionaries](#dictionaries)\n",
    "* [Practicing w/ Tuples](#tuples)\n",
    "* [Practicing w/ Sets](#sets)\n",
    "---"
   ]
  },
  {
   "cell_type": "markdown",
   "metadata": {},
   "source": [
    "## [Objectives](#toc)<a id=\"obj\"></a>\n",
    "\n",
    " + Learn Python variables and data types used in this course.\n",
    " + Describe native Python data structures used in this course."
   ]
  },
  {
   "cell_type": "markdown",
   "metadata": {},
   "source": [
    "## [Introduction](#toc)<a id=\"introduction\"></a>\n",
    "+ Python *Variables* are *objects* that hold data.\n",
    "+ *Types* (data types) determine what kind of data a variable is supposed to contain. Python variable types are dynamically assigned/modified at runtime. *Introspection* allows for finding the type of a variable.\n",
    "+ *Structures* are different ways of storing data\n",
    "\n",
    "#### We will use in this course 4 basic (primitive) data types (or types):\n",
    "+ **Boolean:** `True` or `False`\n",
    "* **Strings:** alphanumeric (`str`)\n",
    "- **Numeric:** integer (`int`) or float (`float`)\n",
    "- **NoneType** `None`\n",
    "\n",
    "#### [Python](https://www.python.org/) ([documentation](https://docs.python.org/3.10/contents.html)) has also a help \"utiliy\" (or built-in function) in the interpreter\n",
    "+ `help()`\n",
    "\n",
    "If you want to learn Python in a deeper way, one book I personally recommend is: [*Learning Python*](https://www.amazon.com/Learning-Python-5th-Mark-Lutz/dp/1449355730) by Mark Lutz, $5^\\text{th}$ Edition, O'Reilly, **2013**."
   ]
  },
  {
   "cell_type": "code",
   "execution_count": null,
   "metadata": {},
   "outputs": [],
   "source": [
    "'''Interactive help warning'''  # this line is a documentation string\n",
    "\n",
    "#help()  # don't leave this running on your interactive session; clear the output after running it"
   ]
  },
  {
   "cell_type": "markdown",
   "metadata": {},
   "source": [
    "You can ask help on `help()`."
   ]
  },
  {
   "cell_type": "code",
   "execution_count": null,
   "metadata": {},
   "outputs": [],
   "source": [
    "#help(help)"
   ]
  },
  {
   "cell_type": "markdown",
   "metadata": {},
   "source": [
    "There are many built-in functions in Python (e.g):"
   ]
  },
  {
   "cell_type": "code",
   "execution_count": null,
   "metadata": {},
   "outputs": [],
   "source": [
    "#help(print)"
   ]
  },
  {
   "cell_type": "markdown",
   "metadata": {},
   "source": [
    "## [Variables](#toc)<a id=\"variables\"></a>\n",
    "Standard practice in Python programming is to use *snake case* variable names, *i.e*. \n",
    "<font color=\"red\">*my_variable_name*</font>."
   ]
  },
  {
   "cell_type": "markdown",
   "metadata": {},
   "source": [
    "### [Boolean variables](#toc)<a id=\"boolean\"></a>"
   ]
  },
  {
   "cell_type": "code",
   "execution_count": null,
   "metadata": {},
   "outputs": [],
   "source": [
    "'''Creation'''\n",
    "\n",
    "hello = True # \"hello\" is a variable name and its type is boolean or the same as 1\n",
    "a = hello\n",
    "b = False    # \"b\" is a variable name and its type is boolean or the same as 0"
   ]
  },
  {
   "cell_type": "code",
   "execution_count": null,
   "metadata": {},
   "outputs": [],
   "source": [
    "'''Inspection'''\n",
    "\n",
    "# print command for output to standard output terminal\n",
    "# print( arg, arg, arg, ... )  # syntax of a print() built-in function\n",
    "\n",
    "print('a is ')\n",
    "print(a)\n",
    "print(type(a))\n",
    "\n",
    "print('a is ', a, type(a), '; b is ', b, type(b))"
   ]
  },
  {
   "cell_type": "code",
   "execution_count": null,
   "metadata": {},
   "outputs": [],
   "source": [
    "'''The \"print\" name is a reserved keyword in Python'''\n",
    "\n",
    "#help(print)"
   ]
  },
  {
   "cell_type": "markdown",
   "metadata": {},
   "source": [
    "### [String (alpha-numeric) variables](#toc)<a id = \"string\"></a>"
   ]
  },
  {
   "cell_type": "code",
   "execution_count": null,
   "metadata": {},
   "outputs": [],
   "source": [
    "'''Creating and inspecting a \"water\" string type'''\n",
    "\n",
    "water = 'H2O'  # the water variable is assigned a string using quotes\n",
    "\n",
    "print(water, ' is of type:', type(water))"
   ]
  },
  {
   "cell_type": "code",
   "execution_count": null,
   "metadata": {
    "scrolled": true
   },
   "outputs": [],
   "source": [
    "'''Creating and inspecting a \"nuclide\" string type'''\n",
    "\n",
    "nuclide = \"U-238\" # assigned to using quotes\n",
    "\n",
    "print('nuclide =', nuclide)"
   ]
  },
  {
   "cell_type": "code",
   "execution_count": null,
   "metadata": {},
   "outputs": [],
   "source": [
    "'''Help on nuclide does not dive into its type'''\n",
    "\n",
    "#help(nuclide)"
   ]
  },
  {
   "cell_type": "code",
   "execution_count": null,
   "metadata": {
    "scrolled": true
   },
   "outputs": [],
   "source": [
    "'''Help on str type will give all the information'''\n",
    "\n",
    "#help(str)"
   ]
  },
  {
   "cell_type": "code",
   "execution_count": null,
   "metadata": {},
   "outputs": [],
   "source": [
    "'''Alternatively the built-in function dir() shows a list of attributes and methods'''\n",
    "\n",
    "#dir(nuclide)"
   ]
  },
  {
   "cell_type": "markdown",
   "metadata": {},
   "source": [
    "**$\\Rightarrow$ Strings are like an array or sequence of characters.**"
   ]
  },
  {
   "cell_type": "code",
   "execution_count": null,
   "metadata": {},
   "outputs": [],
   "source": [
    "'''String data types have a \"length\"'''\n",
    "\n",
    "print('# of characters in nuclide: ', len(nuclide))  # the \"length\" of the argument in this case a string"
   ]
  },
  {
   "cell_type": "code",
   "execution_count": null,
   "metadata": {},
   "outputs": [],
   "source": [
    "#help(len) # \"len()\" is a built-in function"
   ]
  },
  {
   "cell_type": "markdown",
   "metadata": {},
   "source": [
    "### [Indexing Operator []](#toc)<a id=\"nb1\"></a>\n",
    "<div class=\"alert alert-block alert-danger\">\n",
    "NB: Bracket or Index Operator [i] where i is replaced by an offset integer number:\n",
    "    [2] is the index operator for accessing the object with offset index 2.\n",
    "</div>"
   ]
  },
  {
   "cell_type": "markdown",
   "metadata": {},
   "source": [
    "**$\\Rightarrow$  Index offset in the string \"array\" starts from zero.**"
   ]
  },
  {
   "cell_type": "code",
   "execution_count": null,
   "metadata": {},
   "outputs": [],
   "source": [
    "'''Accessing the indivicual characters of the \"nuclide\" string type'''\n",
    "\n",
    "# bracket or index operator\n",
    "# index offset in the string \"array\" starts from zero\n",
    "\n",
    "# access to each string character with indexing operator []\n",
    "print('nuclide[0] = ', nuclide[0])\n",
    "# access to each string character with indexing operator []\n",
    "print('nuclide[1] = ', nuclide[1])\n",
    "# access to each string character with indexing operator []\n",
    "print('nuclide[2] = ', nuclide[2])\n",
    "# access to each string character with indexing operator []\n",
    "print('nuclide[3] = ', nuclide[3])\n",
    "# access to each string character with indexing operator []\n",
    "print('nuclide[4] = ', nuclide[4])"
   ]
  },
  {
   "cell_type": "code",
   "execution_count": null,
   "metadata": {},
   "outputs": [],
   "source": [
    "'''Index out of range access'''\n",
    "\n",
    "nuclide[5]"
   ]
  },
  {
   "cell_type": "markdown",
   "metadata": {},
   "source": [
    "**$\\Rightarrow$  No index past 4 because there are 5 elements with indices 0, 1, 2, 3, 4.**"
   ]
  },
  {
   "cell_type": "code",
   "execution_count": null,
   "metadata": {},
   "outputs": [],
   "source": [
    "'''Reverse access [-i]'''\n",
    "\n",
    "print(nuclide[-1])"
   ]
  },
  {
   "cell_type": "code",
   "execution_count": null,
   "metadata": {},
   "outputs": [],
   "source": [
    "'''String types are immutable'''\n",
    "\n",
    "#nuclide[0] = 'P'    # let's change U to Pu; this is not allowed"
   ]
  },
  {
   "cell_type": "code",
   "execution_count": null,
   "metadata": {
    "scrolled": false
   },
   "outputs": [],
   "source": [
    "'''Applying the \"split()\" method on a string type'''\n",
    "\n",
    "# split the string at the '-' character and save the result in tmp (i.e. list)\n",
    "tmp = nuclide.split('-')\n",
    "\n",
    "print('tmp type is ', type(tmp), 'with values: ', tmp)"
   ]
  },
  {
   "cell_type": "code",
   "execution_count": null,
   "metadata": {
    "scrolled": false
   },
   "outputs": [],
   "source": [
    "'''Save results from the split() return'''\n",
    "\n",
    "nuclide_element = tmp[0]            # capture the nuclide element\n",
    "nuclide_isotope = tmp[1]            # capture the isotope number\n",
    "\n",
    "print('nuclide_element =', nuclide_element)\n",
    "print('nuclide_isotope =', nuclide_isotope)"
   ]
  },
  {
   "cell_type": "markdown",
   "metadata": {},
   "source": [
    "### [Slicing Operator or Colon Operator [x:y:z]](#toc)<a id=\"nb1\"></a>\n",
    "<a id=\"nb2\"></a>\n",
    "<div class=\"alert alert-block alert-danger\">\n",
    "NB: Slicing Operator or Colon Operator [x:y:z].\n",
    "</div>"
   ]
  },
  {
   "cell_type": "code",
   "execution_count": null,
   "metadata": {},
   "outputs": [],
   "source": [
    "'''Slice (or view) of string data type'''\n",
    "\n",
    "print('nuclide =', nuclide)"
   ]
  },
  {
   "cell_type": "markdown",
   "metadata": {},
   "source": [
    "**$\\Rightarrow$  General slice operator [x:y:z]: loop from x to y (\"NOT INCLUDING y\") in steps of z.**"
   ]
  },
  {
   "cell_type": "code",
   "execution_count": null,
   "metadata": {},
   "outputs": [],
   "source": [
    "# Example 1. slice operator [:] selects all data\n",
    "\n",
    "print('nuclide[:] =', nuclide[:])"
   ]
  },
  {
   "cell_type": "code",
   "execution_count": null,
   "metadata": {},
   "outputs": [],
   "source": [
    "# Example 2. slice operator [0:] also selects all data starting from 0\n",
    "\n",
    "print('nuclide[0:] =', nuclide[0:])"
   ]
  },
  {
   "cell_type": "markdown",
   "metadata": {},
   "source": [
    "**$\\Rightarrow$  Note above [0:] has no \"y\" end, therefore the slice will go until the last index (included).**"
   ]
  },
  {
   "cell_type": "code",
   "execution_count": null,
   "metadata": {
    "code_folding": []
   },
   "outputs": [],
   "source": [
    "# Example 3. slice operator [0:1] selects 1-0 = 1 items starting from 0\n",
    "\n",
    "print('nuclide[0:1] =', nuclide[0:1])"
   ]
  },
  {
   "cell_type": "code",
   "execution_count": null,
   "metadata": {},
   "outputs": [],
   "source": [
    "# Example 4. slice operator [1:2] selects 2-1 = 1 items starting from 1\n",
    "\n",
    "print('nuclide[1:2] =', nuclide[1:2])"
   ]
  },
  {
   "cell_type": "code",
   "execution_count": null,
   "metadata": {},
   "outputs": [],
   "source": [
    "# Example 5. slice operator [0:-1] selects items starting from 0 to \"-1\" not including it\n",
    "\n",
    "print(nuclide[0:-1])  # negative indicates counting from the back of the list (-1 is the last one)\n",
    "\n",
    "print(nuclide[0:-2])  # negative indicates counting from the back of the list (-2 is one before last)"
   ]
  },
  {
   "cell_type": "code",
   "execution_count": null,
   "metadata": {},
   "outputs": [],
   "source": [
    "# Example 5a last element on the \"back\"\n",
    "\n",
    "print(nuclide[-1])"
   ]
  },
  {
   "cell_type": "code",
   "execution_count": null,
   "metadata": {},
   "outputs": [],
   "source": [
    "# Example 6. What does this do?\n",
    "\n",
    "print(nuclide[-3:])"
   ]
  },
  {
   "cell_type": "markdown",
   "metadata": {},
   "source": [
    "**$\\Rightarrow$ Use `help(str)` to find out about other facilities available for string data types.**"
   ]
  },
  {
   "cell_type": "code",
   "execution_count": null,
   "metadata": {},
   "outputs": [],
   "source": [
    "# Note the `+` operator for concatening string variables\n",
    "\n",
    "concatenated = nuclide + ' <--> ' + water\n",
    "\n",
    "print('concatenaded strings =', concatenated)"
   ]
  },
  {
   "cell_type": "markdown",
   "metadata": {},
   "source": [
    "### [Numeric variables](#toc)<a id=\"numeric\"></a>\n",
    "\n",
    "They can be an integer, `int`, or a floating point, `float`."
   ]
  },
  {
   "cell_type": "code",
   "execution_count": null,
   "metadata": {},
   "outputs": [],
   "source": [
    "a = 10         # variable a is assigned the integer 10\n",
    "print(type(a)) # print statement to print the type of a"
   ]
  },
  {
   "cell_type": "code",
   "execution_count": null,
   "metadata": {},
   "outputs": [],
   "source": [
    "a = 1.3e4       # floating point\n",
    "print(type(a))"
   ]
  },
  {
   "cell_type": "markdown",
   "metadata": {},
   "source": [
    "NB: different types; `int` versus `float`. An important difference in rounding off or truncation error."
   ]
  },
  {
   "cell_type": "markdown",
   "metadata": {},
   "source": [
    "#### [Type conversion (implicit and explicit or casting) and dynamic type change](#toc)<a id=\"conversion\"></a>"
   ]
  },
  {
   "cell_type": "code",
   "execution_count": null,
   "metadata": {},
   "outputs": [],
   "source": [
    "'''Casting an integer to float'''\n",
    "\n",
    "a = float(5)     # an integer is casted into a float\n",
    "print(type(a),a)"
   ]
  },
  {
   "cell_type": "code",
   "execution_count": null,
   "metadata": {},
   "outputs": [],
   "source": [
    "'''Casting up'''\n",
    "\n",
    "a = 1\n",
    "b = 1.0    # note a is an integer and b is a float\n",
    "print(type(a*b))  # the result of the product is a float"
   ]
  },
  {
   "cell_type": "code",
   "execution_count": null,
   "metadata": {},
   "outputs": [],
   "source": [
    "'''Truncation casting'''\n",
    "\n",
    "a = int(5.87)         # a float is casted into a truncated integer\n",
    "b = int(5.21)         # a float is casted into a truncated integer (no rounding to the next integer)\n",
    "print('a =',a,';', type(a)) # print format statement\n",
    "print('b =',b,';', type(b)) # print format statement"
   ]
  },
  {
   "cell_type": "code",
   "execution_count": null,
   "metadata": {},
   "outputs": [],
   "source": [
    "'''Dynamic type change'''\n",
    "\n",
    "a = 10         # integer\n",
    "print(type(a))\n",
    "a = True       # now assigned to a boolean\n",
    "print(type(a))"
   ]
  },
  {
   "cell_type": "markdown",
   "metadata": {},
   "source": [
    "#### [Operations](#toc) <a id=\"operations\"></a>"
   ]
  },
  {
   "cell_type": "code",
   "execution_count": null,
   "metadata": {},
   "outputs": [],
   "source": [
    "'''Addition and subtraction'''\n",
    "\n",
    "# note: a = True turns into a = 1\n",
    "\n",
    "a = a + 1     # add one and assign to variable\n",
    "print('a =',a)\n",
    "\n",
    "a += 1        # add in place\n",
    "print('a =',a)\n",
    "\n",
    "a -= 2        # subtract in place\n",
    "print('a =',a)"
   ]
  },
  {
   "cell_type": "code",
   "execution_count": null,
   "metadata": {},
   "outputs": [],
   "source": [
    "'''Multiplication, power, etc.'''\n",
    "\n",
    "import math  # math python \"package\" import\n",
    "\n",
    "radius = 5.9\n",
    "area = math.pi * radius**2\n",
    "print('area =',area)\n",
    "\n",
    "e = math.exp(1)\n",
    "print(e)\n",
    "\n",
    "print(math.e)\n",
    "\n",
    "cte = area / radius**2 # division\n",
    "print('cte = ',cte)"
   ]
  },
  {
   "cell_type": "code",
   "execution_count": null,
   "metadata": {},
   "outputs": [],
   "source": [
    "'''Logical testing'''\n",
    "\n",
    "5 > 7 # greater than equal operator; other operators: >=, <, <="
   ]
  },
  {
   "cell_type": "code",
   "execution_count": null,
   "metadata": {},
   "outputs": [],
   "source": [
    "6 == 6 # equality or identity operator; other related operator \"not equal\": !="
   ]
  },
  {
   "cell_type": "code",
   "execution_count": null,
   "metadata": {},
   "outputs": [],
   "source": [
    "#6 = 6 # error in assignment"
   ]
  },
  {
   "cell_type": "markdown",
   "metadata": {},
   "source": [
    "### [NoneType variable](#toc)<a id=\"none\"></a>\n",
    "\n",
    "In Python a variable can be assigned the `None` type. This is no type at all, that is, type `NoneType`. \n",
    "\n",
    "1. This a convenient value for testing conditions of variables that have not been given any value. \n",
    "1. Also it is a way to free memory allocated for a previously defined variable."
   ]
  },
  {
   "cell_type": "code",
   "execution_count": null,
   "metadata": {},
   "outputs": [],
   "source": [
    "'''None type'''\n",
    "\n",
    "a = None\n",
    "\n",
    "print(type(a))\n",
    "print(a)"
   ]
  },
  {
   "cell_type": "markdown",
   "metadata": {},
   "source": [
    "## [Data Structures or Built-in Containers](#toc)<a id=\"structures\"></a>\n",
    "\n",
    "Python has **4** basic (primitive) native data structures of interest in this course:\n",
    "- **Linked lists:** `list()` (*ordered sequence* of any type of objects)\n",
    "- **Dictionary:** `dict()`   (*unordered sequence* of key-value pairs of any type of objects)\n",
    "- **Tuples:** `tuple()`      (*immutable sequence* of any type of objects)\n",
    "- **Sets:** `set()`          (*immutable group* of *unique* objects of *certain* types)"
   ]
  },
  {
   "cell_type": "code",
   "execution_count": null,
   "metadata": {},
   "outputs": [],
   "source": [
    "#help(list)"
   ]
  },
  {
   "cell_type": "markdown",
   "metadata": {},
   "source": [
    "### [List: sequence of data types](#toc)<a id=\"list\"></a>"
   ]
  },
  {
   "cell_type": "code",
   "execution_count": 1,
   "metadata": {},
   "outputs": [
    {
     "name": "stdout",
     "output_type": "stream",
     "text": [
      "atoms =  [] ; type = <class 'list'>\n"
     ]
    }
   ],
   "source": [
    "'''Creation of list types'''\n",
    "\n",
    "atoms = list()  # create empty list of atoms via list()\n",
    "atoms = []      # create empty list of atoms via brackets []\n",
    "\n",
    "print('atoms = ', atoms, '; type =', type(atoms))"
   ]
  },
  {
   "cell_type": "code",
   "execution_count": 2,
   "metadata": {},
   "outputs": [
    {
     "name": "stdout",
     "output_type": "stream",
     "text": [
      "water atoms   =  ['2 H', 'O']\n",
      "methane atoms =  ['C', '4 H']\n"
     ]
    }
   ],
   "source": [
    "'''Examples: creation of list types'''\n",
    "\n",
    "water_atoms = ['2 H', 'O']       # create list of atoms in a water molecule: use the [...] container\n",
    "methane_atoms = ['C', '4 H']     # list of atoms in a methane molecule: use the [...] container\n",
    "\n",
    "print('water atoms   = ', water_atoms)\n",
    "print('methane atoms = ', methane_atoms)"
   ]
  },
  {
   "cell_type": "code",
   "execution_count": 3,
   "metadata": {},
   "outputs": [
    {
     "name": "stdout",
     "output_type": "stream",
     "text": [
      "['2 H', 'O'] ; length =  2\n",
      "2 H\n",
      "O\n"
     ]
    }
   ],
   "source": [
    "'''Access to list items via indexing: indexing in Python uses zero offset'''\n",
    "\n",
    "print(water_atoms, '; length = ', len(water_atoms)) # note the len() method used on \"water_atoms\"\n",
    "\n",
    "print(water_atoms[0])                              # note indexing operation on \"water_atoms\"\n",
    "print(water_atoms[1])"
   ]
  },
  {
   "cell_type": "markdown",
   "metadata": {},
   "source": [
    "### [Dictionary: key-value pairs in any order](#toc)<a id='dictionary'></a>"
   ]
  },
  {
   "cell_type": "code",
   "execution_count": 4,
   "metadata": {},
   "outputs": [
    {
     "name": "stdout",
     "output_type": "stream",
     "text": [
      "species =  {} ; type = <class 'dict'>\n"
     ]
    }
   ],
   "source": [
    "'''Creation of a \"species\" dictionary type'''\n",
    "\n",
    "species = dict()    # create an empty dictionary type variable named \"species\"\n",
    "species = {}        # another way to create the same variable {} (curly brackets)\n",
    "\n",
    "print('species = ', species, '; type =', type(species))"
   ]
  },
  {
   "cell_type": "code",
   "execution_count": null,
   "metadata": {},
   "outputs": [],
   "source": [
    "'''Example: creation of a \"species\" dictionary type'''\n",
    "\n",
    "# one way to create a species dictionary {} container\n",
    "# keys and values pairs:  {key:value, key:value, ...}\n",
    "\n",
    "species = {'water': water_atoms, 'methane': methane_atoms}  \n",
    "\n",
    "print('species type =', type(species))                       \n",
    "print('species = ', species)"
   ]
  },
  {
   "cell_type": "code",
   "execution_count": null,
   "metadata": {},
   "outputs": [],
   "source": [
    "'''Example: creation of a \"species\" dictionary type'''\n",
    "\n",
    "# another way to create a species dictionary {} container\n",
    "# Must be \"string keys\" and values pairs:  dict(key:value, key:value, ...)\n",
    "\n",
    "species = dict(water=water_atoms, methane=methane_atoms) \n",
    "\n",
    "print('species type =', type(species))                       \n",
    "print('species = ', species)"
   ]
  },
  {
   "cell_type": "code",
   "execution_count": null,
   "metadata": {},
   "outputs": [],
   "source": [
    "'''Creation of a dictionary type using the key and its value directly'''\n",
    "\n",
    "species = dict()  # clear the species object and make it a dict type\n",
    "\n",
    "species['water']   = water_atoms       # insert directly into the dictionary (note: order does not matter)\n",
    "species['methane'] = methane_atoms     # insert directly into the dictionary (note: order does not matter)\n",
    "\n",
    "print('species type =', type(species))\n",
    "print('species = ', species)\n",
    "print(\"species['water'] = \", species['water'])"
   ]
  },
  {
   "cell_type": "code",
   "execution_count": null,
   "metadata": {
    "scrolled": true
   },
   "outputs": [],
   "source": [
    "#help(species)"
   ]
  },
  {
   "cell_type": "code",
   "execution_count": null,
   "metadata": {},
   "outputs": [],
   "source": [
    "#dir(species)"
   ]
  },
  {
   "cell_type": "markdown",
   "metadata": {},
   "source": [
    "### [Tuple: immutable sequence of data types](#toc)<a id=\"tuple\"></a>"
   ]
  },
  {
   "cell_type": "code",
   "execution_count": null,
   "metadata": {},
   "outputs": [],
   "source": [
    "'''Creation of a tuple type'''\n",
    "\n",
    "velocity = tuple()  # create an emtpy \"velocity\" tuple type\n",
    "velocity = ()       # another way to create an empty tuple via parenthesis ()\n",
    "\n",
    "print('velocity = ',velocity, '; type =',type(velocity))"
   ]
  },
  {
   "cell_type": "code",
   "execution_count": null,
   "metadata": {},
   "outputs": [],
   "source": [
    "'''Example: create a tuple with data directly'''\n",
    "\n",
    "velocity = (3.1, 4.5, -7.8)   # use the () container to create a tuple of any length\n",
    "\n",
    "print('velocity tuple = ', velocity)\n",
    "print('velocity type   = ', type(velocity))"
   ]
  },
  {
   "cell_type": "code",
   "execution_count": null,
   "metadata": {},
   "outputs": [],
   "source": [
    "'''Access values in the tuple'''\n",
    "\n",
    "print('velocity component 1 = ', velocity[0])    # zero offset access with indexing operator []\n",
    "print('velocity component 2 = ', velocity[1])\n",
    "print('velocity component 3 = ', velocity[2])\n",
    "#print('velocity component 4 = ',velocity[3]) # will cause an out of bounds or range error"
   ]
  },
  {
   "cell_type": "code",
   "execution_count": null,
   "metadata": {},
   "outputs": [],
   "source": [
    "'''A tuple is immutable'''\n",
    "\n",
    "#velocity[1] = 5.8      # assignment is not allowed"
   ]
  },
  {
   "cell_type": "code",
   "execution_count": null,
   "metadata": {},
   "outputs": [],
   "source": [
    "#dir(list)"
   ]
  },
  {
   "cell_type": "code",
   "execution_count": null,
   "metadata": {},
   "outputs": [],
   "source": [
    "'''Mutable element in a tuple'''\n",
    "\n",
    "velocity = (water_atoms, 4.5, -7.8)\n",
    "velocity"
   ]
  },
  {
   "cell_type": "markdown",
   "metadata": {},
   "source": [
    "### [Set: immutable group of unique data types](#toc)<a id=\"set\"></a>"
   ]
  },
  {
   "cell_type": "code",
   "execution_count": null,
   "metadata": {},
   "outputs": [],
   "source": [
    "'''Creation of a \"species\" dictionary type'''\n",
    "\n",
    "air = set()   # create an empty set type variable named \"air\"\n",
    "#air = {}     # another way to create the same variable via curly brackets {}: conflicts with dict()\n",
    "\n",
    "print('air = ',air, '; type =',type(air))"
   ]
  },
  {
   "cell_type": "code",
   "execution_count": null,
   "metadata": {},
   "outputs": [],
   "source": [
    "'''Example: creation of a \"species\" dictionary type'''\n",
    "\n",
    "air = {'water', 'water', 'methane', 'argon', 'O2', 'N2'}  # create an \"air\" set {} container\n",
    "\n",
    "print('air type =', type(air))\n",
    "print('air      = ', air)"
   ]
  },
  {
   "cell_type": "code",
   "execution_count": null,
   "metadata": {},
   "outputs": [],
   "source": [
    "air_list = ['water', 'methane', 'argon', 'O2', 'N2', 'water']\n",
    "air_list"
   ]
  },
  {
   "cell_type": "code",
   "execution_count": null,
   "metadata": {},
   "outputs": [],
   "source": [
    "'''Converting list to set'''\n",
    "\n",
    "air = set(air_list)\n",
    "air"
   ]
  },
  {
   "cell_type": "markdown",
   "metadata": {},
   "source": [
    "Example of a built-in function `sorted()` applied to `set`."
   ]
  },
  {
   "cell_type": "code",
   "execution_count": null,
   "metadata": {},
   "outputs": [],
   "source": [
    "print('sorted air = ', sorted(air)) # what is this doing?"
   ]
  },
  {
   "cell_type": "code",
   "execution_count": null,
   "metadata": {},
   "outputs": [],
   "source": [
    "#help(sorted)"
   ]
  },
  {
   "cell_type": "code",
   "execution_count": null,
   "metadata": {},
   "outputs": [],
   "source": [
    "'''A set container is not ordered thus indexing is not available'''\n",
    "\n",
    "#air[0]   # produces an error"
   ]
  },
  {
   "cell_type": "code",
   "execution_count": null,
   "metadata": {},
   "outputs": [],
   "source": [
    "'''A set type is meant to mimic a mathematical set with operations'''\n",
    "\n",
    "weird_set = set((2.3, 8, 10.1, 'O2', 'iPhone', velocity))\n",
    "# Alternatively\n",
    "#weird_set = {2.3, 8, 10.1, 'O2', 'iPhone', velocity}\n",
    "\n",
    "print('air = ', air, ' weird_set = ', weird_set)\n",
    "print('intersection =', air & weird_set)  # intersection of sets, operator \"&\"\n",
    "print('union        =', air | weird_set)  # union of sets, operator \"|\""
   ]
  },
  {
   "cell_type": "code",
   "execution_count": null,
   "metadata": {},
   "outputs": [],
   "source": [
    "'''A tuple into a set'''\n",
    "{(1,2,3)}"
   ]
  },
  {
   "cell_type": "code",
   "execution_count": null,
   "metadata": {},
   "outputs": [],
   "source": [
    "'''One element'''\n",
    "len({(1,2,3)})"
   ]
  },
  {
   "cell_type": "code",
   "execution_count": null,
   "metadata": {},
   "outputs": [],
   "source": [
    "'''A list into a set'''\n",
    "{[1,2,3]} # does not work"
   ]
  },
  {
   "cell_type": "code",
   "execution_count": null,
   "metadata": {},
   "outputs": [],
   "source": [
    "'''A list into a set'''\n",
    "set([1,2,3])"
   ]
  },
  {
   "cell_type": "code",
   "execution_count": null,
   "metadata": {},
   "outputs": [],
   "source": [
    "'''Three elements'''\n",
    "len(set([1,2,3]))"
   ]
  },
  {
   "cell_type": "code",
   "execution_count": null,
   "metadata": {},
   "outputs": [],
   "source": [
    "weird_set = {2.3, 8, 10.1, 'O2', 'iPhone'}\n",
    "weird_set\n",
    "print('intersection =', air & weird_set)  # intersection of sets, operator \"&\"\n",
    "print('union        =', air | weird_set)  # union of sets, operator \"|\""
   ]
  },
  {
   "cell_type": "code",
   "execution_count": null,
   "metadata": {},
   "outputs": [],
   "source": [
    "#help(set)"
   ]
  },
  {
   "cell_type": "code",
   "execution_count": null,
   "metadata": {},
   "outputs": [],
   "source": [
    "#dir(set)"
   ]
  },
  {
   "cell_type": "code",
   "execution_count": null,
   "metadata": {},
   "outputs": [],
   "source": [
    "air.intersection(weird_set)"
   ]
  },
  {
   "cell_type": "code",
   "execution_count": null,
   "metadata": {},
   "outputs": [],
   "source": [
    "air.union(weird_set)"
   ]
  },
  {
   "cell_type": "markdown",
   "metadata": {},
   "source": [
    "### [Summary](#toc)<a id=\"summary\"></a>"
   ]
  },
  {
   "cell_type": "code",
   "execution_count": null,
   "metadata": {},
   "outputs": [],
   "source": [
    "string = ''         # empty string (cryptic)\n",
    "string = str()      # empty string\n",
    "\n",
    "listing = []        # empty list (cryptic)\n",
    "listing = list()    # empty list\n",
    "\n",
    "dictionary = {}     # empty dictionary (cryptic)\n",
    "dictionary = dict() # empty dictionary\n",
    "\n",
    "tuple_a = ()        # empty tuple (cryptic)\n",
    "tuple_a = tuple()   # empty tuple\n",
    "\n",
    "set_a = {}          # empty set (cryptic and clashes with a dictionary)\n",
    "set_a = set()       # emtpty set"
   ]
  },
  {
   "cell_type": "markdown",
   "metadata": {},
   "source": [
    "### [Interactive Help](#toc)<a id=\"help\"></a>\n",
    "Practical help sources at the Python interactive prompt\n",
    "+ `dir()` : shows the objects in the interactive session\n",
    "+ `dir(object)` : use this built-in function on a Python *object* to obtain a list of methods\n",
    "+ `help()` : use this built-in function on anything to obtain information on what the argument does"
   ]
  },
  {
   "cell_type": "code",
   "execution_count": null,
   "metadata": {},
   "outputs": [],
   "source": [
    "#dir()  # show the local variables in the current session"
   ]
  },
  {
   "cell_type": "code",
   "execution_count": null,
   "metadata": {
    "scrolled": true
   },
   "outputs": [],
   "source": [
    "#dir(str()) # inquire about all methods and atrributes this empty str() object has to offer"
   ]
  },
  {
   "cell_type": "code",
   "execution_count": null,
   "metadata": {
    "scrolled": true
   },
   "outputs": [],
   "source": [
    "#help(str) # inquire about what the str() methods do"
   ]
  },
  {
   "cell_type": "markdown",
   "metadata": {},
   "source": [
    "## [Practicing w/ Lists](#toc)<a id=\"lists\"></a>"
   ]
  },
  {
   "cell_type": "code",
   "execution_count": null,
   "metadata": {},
   "outputs": [],
   "source": [
    "'''Getting data into a list data type'''\n",
    "\n",
    "my_data = range(10) # create a range of integers: 0 to 9\n",
    "\n",
    "print('my_data = ',my_data) # not very revealing since range() does not create data until needed\n",
    "print('type = ',type(my_data)) # not very revealing since range() does not create data until needed\n",
    "print(list(my_data))                                   # this creates a list() and reveals the data created"
   ]
  },
  {
   "cell_type": "markdown",
   "metadata": {},
   "source": [
    "Note that `my_data` is of type `range` and does not hold an explicit *range* of data (see output line 2 above). Once manipulation of data is requested (code line 6 above; when a `list` is created), data is created (0, 1, ... 9) by the `my_data` object. This is called *deferred evaluation*."
   ]
  },
  {
   "cell_type": "code",
   "execution_count": null,
   "metadata": {
    "scrolled": true
   },
   "outputs": [],
   "source": [
    "'''Getting help on \"range\"'''\n",
    "\n",
    "#help(range)  # help on range"
   ]
  },
  {
   "cell_type": "code",
   "execution_count": null,
   "metadata": {},
   "outputs": [],
   "source": [
    "'''Data with start and stop values'''\n",
    "\n",
    "list(range(4,7))     # range(i,j) = [i,i+1,...,j-1]"
   ]
  },
  {
   "cell_type": "code",
   "execution_count": null,
   "metadata": {},
   "outputs": [],
   "source": [
    "'''Data w/ equal start and stop values'''\n",
    "\n",
    "list(range(4,4))     # empty list range(4,4) = [] "
   ]
  },
  {
   "cell_type": "code",
   "execution_count": null,
   "metadata": {},
   "outputs": [],
   "source": [
    "'''Data w/ start, stop and step values'''\n",
    "\n",
    "list(range(4,8,2))   # range(4,8,2) = [4,...,8-1] in steps of 2, i.e. [4,6]"
   ]
  },
  {
   "cell_type": "code",
   "execution_count": null,
   "metadata": {},
   "outputs": [],
   "source": [
    "'''Data w/ negative start and end values'''\n",
    "\n",
    "list(range(-10,-1,2))"
   ]
  },
  {
   "cell_type": "code",
   "execution_count": null,
   "metadata": {},
   "outputs": [],
   "source": [
    "'''Indexing access of the data'''\n",
    "\n",
    "data_lst = list(range(67,136,3))       # generate a list of integers\n",
    "\n",
    "print('data =', data_lst)              # show all data\n",
    "print('data length = ', len(data_lst)) # show the length of the data\n",
    "print('data_lst[5] =', data_lst[5])    # what is the value at offset 5?\n",
    "#data_lst[24]                          # this causes an error"
   ]
  },
  {
   "cell_type": "code",
   "execution_count": null,
   "metadata": {},
   "outputs": [],
   "source": [
    "'''Changing data by assignment'''\n",
    "\n",
    "data_lst[3] = 'surprise'       # change the value of offset 3 to a string\n",
    "print('data = ',data_lst)    "
   ]
  },
  {
   "cell_type": "code",
   "execution_count": null,
   "metadata": {},
   "outputs": [],
   "source": [
    "'''Position of data using the \"index\" method'''\n",
    "\n",
    "data_lst.index('surprise')   # what is the offset (or index) of the first occurence of value 79"
   ]
  },
  {
   "cell_type": "code",
   "execution_count": null,
   "metadata": {},
   "outputs": [],
   "source": [
    "#dir(list)"
   ]
  },
  {
   "cell_type": "code",
   "execution_count": null,
   "metadata": {},
   "outputs": [],
   "source": [
    "#help(list.index)"
   ]
  },
  {
   "cell_type": "code",
   "execution_count": null,
   "metadata": {},
   "outputs": [],
   "source": [
    "'''Access the last element and backwards'''\n",
    "\n",
    "print(data_lst)\n",
    "print(data_lst[-1])   # use [-1] for last\n",
    "print(data_lst[-2])   # uset[-2] for penultimate element\n",
    "print(data_lst[-3])   # uset[-3] for 2 before last"
   ]
  },
  {
   "cell_type": "code",
   "execution_count": null,
   "metadata": {
    "scrolled": true
   },
   "outputs": [],
   "source": [
    "'''Slicing operations: use the colon operator'''\n",
    "\n",
    "print('0)',data_lst)\n",
    "print('1)',data_lst[4:6])   # access from offset 4 to up to but not including 6\n",
    "print('2)',data_lst[0:3])   # access from the beginning up to but not including 3    \n",
    "print('3)',data_lst[ :3])   # same thing but ommit 0\n",
    "print('4)',data_lst[10:-1]) # offset 10 up to but not including the last\n",
    "print('5)',data_lst[10:  ]) # offset 10 up to the last included\n",
    "print('6)',data_lst[:])     # all\n",
    "print('7)',data_lst[0:])    # all\n",
    "print('8)',data_lst[-5])    # fifth from the back\n",
    "print('9)',data_lst[-5:])   # last five"
   ]
  },
  {
   "cell_type": "code",
   "execution_count": null,
   "metadata": {},
   "outputs": [],
   "source": [
    "print(data_lst)\n",
    "print(data_lst[4:16:2])  # from offset 4 up to but not including 16 in steps of 2\n",
    "print(data_lst[-10::2])  # 10th element from the back to the end in steps of 2 (may not get the end value)"
   ]
  },
  {
   "cell_type": "code",
   "execution_count": null,
   "metadata": {},
   "outputs": [],
   "source": [
    "print(data_lst)\n",
    "print(data_lst[-10::2])"
   ]
  },
  {
   "cell_type": "code",
   "execution_count": null,
   "metadata": {},
   "outputs": [],
   "source": [
    "print(data_lst[-10:0:-2])"
   ]
  },
  {
   "cell_type": "code",
   "execution_count": null,
   "metadata": {
    "scrolled": true
   },
   "outputs": [],
   "source": [
    "print(data_lst)\n",
    "print(data_lst[-10::-1]) # 10th element from the back going backwards to the first element (including it)"
   ]
  },
  {
   "cell_type": "code",
   "execution_count": null,
   "metadata": {},
   "outputs": [],
   "source": [
    "'''Operations: be careful'''\n",
    "\n",
    "print('2 * data_lst =', 2 * data_lst)\n",
    "print('')\n",
    "print('data_lst + data_lst =', data_lst + data_lst)"
   ]
  },
  {
   "cell_type": "code",
   "execution_count": null,
   "metadata": {},
   "outputs": [],
   "source": [
    "'''Invalid operations'''\n",
    "\n",
    "#data_lst - data_lst  # error: not supported; subtraction\n",
    "#2.0 * data_lst       # error: not supported multiplication by float\n",
    "#2*data_lst/2         # error: not supported division"
   ]
  },
  {
   "cell_type": "markdown",
   "metadata": {},
   "source": [
    "## [Practicing w/ Dictionaries](#toc) <a id=\"dictionaries\"></a>"
   ]
  },
  {
   "cell_type": "code",
   "execution_count": null,
   "metadata": {},
   "outputs": [],
   "source": [
    "'''Data organization'''\n",
    "\n",
    "# example with nuclides\n",
    "\n",
    "hydrogen  = {'symbol':'H',  'atomic_number':1, 'group':1,  'period':1, 'isotopes':[1,2,3]}\n",
    "helium    = {'symbol':'He', 'atomic_number':2, 'group':18, 'period':1, 'isotopes':[3,4]}\n",
    "lithium   = {'symbol':'Li', 'atomic_number':3, 'group':1,  'period':2, 'isotopes':[6,7]}\n",
    "beryllium = {'symbol':'Be', 'atomic_number':4, 'group':2,  'period':2, 'isotopes':[9,10]}\n",
    "boron     = {'symbol':'B',  'atomic_number':5, 'group':13, 'period':2, 'isotopes':[10,11]}\n",
    "#\n",
    "print(hydrogen)\n",
    "print(helium)\n",
    "print(lithium)\n",
    "print(beryllium)\n",
    "print(boron)\n",
    "print('')\n",
    "print('H isotopes =', hydrogen['isotopes'])\n",
    "print('H atomic number =', hydrogen['atomic_number'])"
   ]
  },
  {
   "cell_type": "code",
   "execution_count": null,
   "metadata": {},
   "outputs": [],
   "source": [
    "'''Data operation with list comprehension: neutrons per isotope of a nuclide'''\n",
    "\n",
    "# to compute the number of neutrons, subtract the atomic number from the number of nucleons (protons + neutrons)\n",
    "\n",
    "h_neutrons = [ i - hydrogen['atomic_number'] for i in hydrogen['isotopes'] ] # list comprehension operation\n",
    "\n",
    "print('H:  neutrons per isotope =', h_neutrons)\n",
    "\n",
    "he_neutrons = [i - helium['atomic_number'] for i in helium['isotopes'] ]     # list comprehension operation\n",
    "\n",
    "print('He: neutrons per isotope =', he_neutrons)"
   ]
  },
  {
   "cell_type": "code",
   "execution_count": null,
   "metadata": {
    "scrolled": true
   },
   "outputs": [],
   "source": [
    "'''Create a very simple `periodic_table` (\"container of containers\")'''\n",
    "\n",
    "periodic_table = {'hydrogen':hydrogen, 'helium':helium, 'lithium':lithium, 'beryllium':beryllium, 'boron':boron}\n",
    "\n",
    "print(periodic_table['helium'], '\\n') # '\\n' is a control character for carriage (cartridge) return\n",
    "\n",
    "print(periodic_table.keys(),'\\n')"
   ]
  },
  {
   "cell_type": "code",
   "execution_count": null,
   "metadata": {},
   "outputs": [],
   "source": [
    "'''Systematic operation (looping) on all elements of `periodic_table`'''\n",
    "\n",
    "# \"for\" \"loop\": exemple of execution flow control\n",
    "\n",
    "for key in periodic_table.keys():  # loop statement\n",
    "    element = periodic_table[key]  # note indentation\n",
    "    neutrons_per_isotopes = [i - element['atomic_number'] for i in element['isotopes'] ] # list comprehension\n",
    "    print('element = ', element['symbol'],' neutrons per isotope ',element['isotopes'],' =', neutrons_per_isotopes)\n"
   ]
  },
  {
   "cell_type": "markdown",
   "metadata": {},
   "source": [
    "## [Practicing w/ Tuples](#toc)<a id=\"tuples\"></a>"
   ]
  },
  {
   "cell_type": "code",
   "execution_count": null,
   "metadata": {},
   "outputs": [],
   "source": [
    "'''Tuples have limited operations'''\n",
    "\n",
    "veloc_a = (1.2, -3.2, 5.0)\n",
    "veloc_b = (0.0, 3.0, 0.12)\n",
    "\n",
    "print('concatenate: ', veloc_a + veloc_b)   # surprise: concatenation under + operator"
   ]
  },
  {
   "cell_type": "code",
   "execution_count": null,
   "metadata": {},
   "outputs": [],
   "source": [
    "#dir(veloc_a)"
   ]
  },
  {
   "cell_type": "code",
   "execution_count": null,
   "metadata": {},
   "outputs": [],
   "source": [
    "#help(tuple.count)"
   ]
  },
  {
   "cell_type": "code",
   "execution_count": null,
   "metadata": {},
   "outputs": [],
   "source": [
    "'''Tuples have limited operations'''\n",
    "\n",
    "print('3 * veloc_a = ', 3 * veloc_a)\n",
    "print('3*veloc_a.count(1.2) =', 3 * veloc_a.count(1.2))\n",
    "print('len(veloc_a) = ', len(veloc_a))"
   ]
  },
  {
   "cell_type": "code",
   "execution_count": null,
   "metadata": {},
   "outputs": [],
   "source": [
    "'''Slicing also works for tuples'''\n",
    "\n",
    "print(veloc_a[0:-1])   # slice from offset 0 up to but not including the last"
   ]
  },
  {
   "cell_type": "code",
   "execution_count": null,
   "metadata": {},
   "outputs": [],
   "source": [
    "'''Curiosity'''\n",
    "\n",
    "a = (1)\n",
    "print(type(a))\n",
    "print(a)"
   ]
  },
  {
   "cell_type": "code",
   "execution_count": null,
   "metadata": {},
   "outputs": [],
   "source": [
    "'''Tuple with one element must use a comma'''\n",
    "\n",
    "b = (1, )  # must use a comma inside the parenthesis\n",
    "print(type(b))\n",
    "print(b)"
   ]
  },
  {
   "cell_type": "markdown",
   "metadata": {},
   "source": [
    "## [Practicing w/ Sets](#toc)<a id=\"sets\"></a>"
   ]
  },
  {
   "cell_type": "code",
   "execution_count": null,
   "metadata": {},
   "outputs": [],
   "source": [
    "'''Sets are primarily used to keep track of non-repeating data and for math set operations'''\n",
    "\n",
    "a = set()                 # create an empty set\n",
    "a = {'hello', 'you', 678} # assign data\n",
    "print('a =', a)"
   ]
  },
  {
   "cell_type": "code",
   "execution_count": null,
   "metadata": {
    "code_folding": []
   },
   "outputs": [],
   "source": [
    "#dir(a)"
   ]
  },
  {
   "cell_type": "code",
   "execution_count": null,
   "metadata": {},
   "outputs": [],
   "source": [
    "'''Adding elements to set'''\n",
    "\n",
    "a.add(90)           # add element to set\n",
    "print('a =',a)"
   ]
  },
  {
   "cell_type": "code",
   "execution_count": null,
   "metadata": {},
   "outputs": [],
   "source": [
    "'''Sets are immutable hence mutable elements cannot be added to a set'''\n",
    "\n",
    "#a.add(  ['a','b']  )  # cannot add a mutable to a set; list and dict not allowed"
   ]
  },
  {
   "cell_type": "code",
   "execution_count": null,
   "metadata": {},
   "outputs": [],
   "source": [
    "'''Set operations'''\n",
    "\n",
    "b = {100, 200, True, False, None}\n",
    "print('b =',b)\n",
    "print('')\n",
    "print('a intersect b ->',a.intersection(b)) #  &\n",
    "print('a union     b ->',a.union(b))        #  |"
   ]
  },
  {
   "cell_type": "code",
   "execution_count": null,
   "metadata": {},
   "outputs": [],
   "source": [
    "'''Check methods available in a set object'''\n",
    "\n",
    "#dir(a)"
   ]
  },
  {
   "cell_type": "code",
   "execution_count": null,
   "metadata": {},
   "outputs": [],
   "source": [
    "'''Get info on the discard method'''\n",
    "\n",
    "#help(set.discard)"
   ]
  },
  {
   "cell_type": "code",
   "execution_count": null,
   "metadata": {},
   "outputs": [],
   "source": [
    "'''Discard set elements'''\n",
    "\n",
    "print(a)\n",
    "\n",
    "a.discard('hello')\n",
    "print(a)\n",
    "\n",
    "a.discard('100')\n",
    "print(a)"
   ]
  },
  {
   "cell_type": "code",
   "execution_count": null,
   "metadata": {},
   "outputs": [],
   "source": [
    "'''Test for subsets'''\n",
    "\n",
    "{1,2,3}.issubset(range(5))  # creates both sets on the fly"
   ]
  },
  {
   "cell_type": "code",
   "execution_count": null,
   "metadata": {},
   "outputs": [],
   "source": [
    "'''Remove any one element'''\n",
    "\n",
    "element = a.pop()\n",
    "print(element)"
   ]
  },
  {
   "cell_type": "code",
   "execution_count": null,
   "metadata": {},
   "outputs": [],
   "source": [
    "#help(set.pop)"
   ]
  },
  {
   "cell_type": "code",
   "execution_count": null,
   "metadata": {},
   "outputs": [],
   "source": [
    "'''Inquire about element inclusion'''\n",
    "\n",
    "print('b =',b)\n",
    "\n",
    "200 in b and True in b # example of a logical statement"
   ]
  }
 ],
 "metadata": {
  "kernelspec": {
   "display_name": "Python 3 (ipykernel)",
   "language": "python",
   "name": "python3"
  },
  "language_info": {
   "codemirror_mode": {
    "name": "ipython",
    "version": 3
   },
   "file_extension": ".py",
   "mimetype": "text/x-python",
   "name": "python",
   "nbconvert_exporter": "python",
   "pygments_lexer": "ipython3",
   "version": "3.8.16"
  },
  "latex_envs": {
   "LaTeX_envs_menu_present": true,
   "autoclose": false,
   "autocomplete": true,
   "bibliofile": "biblio.bib",
   "cite_by": "apalike",
   "current_citInitial": 1,
   "eqLabelWithNumbers": true,
   "eqNumInitial": 1,
   "hotkeys": {
    "equation": "Ctrl-E",
    "itemize": "Ctrl-I"
   },
   "labels_anchors": false,
   "latex_user_defs": false,
   "report_style_numbering": false,
   "user_envs_cfg": false
  },
  "toc": {
   "base_numbering": 1,
   "nav_menu": {},
   "number_sections": true,
   "sideBar": true,
   "skip_h1_title": false,
   "title_cell": "Table of Contents",
   "title_sidebar": "Contents",
   "toc_cell": false,
   "toc_position": {},
   "toc_section_display": true,
   "toc_window_display": false
  }
 },
 "nbformat": 4,
 "nbformat_minor": 2
}
