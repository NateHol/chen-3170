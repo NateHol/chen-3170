{
 "cells": [
  {
   "cell_type": "markdown",
   "metadata": {},
   "source": [
    "ChEn-3170: Computational Methods in Chemical Engineering Fall 2021 UMass Lowell; Prof. V. F. de Almeida **27Oct20**\n",
    "\n",
    "# 10. Universal Linear Solver\n",
    "$  \n",
    "  \\newcommand{\\Amtrx}{\\boldsymbol{\\mathsf{A}}}\n",
    "  \\newcommand{\\Bmtrx}{\\boldsymbol{\\mathsf{B}}}\n",
    "  \\newcommand{\\Mmtrx}{\\boldsymbol{\\mathsf{M}}}\n",
    "  \\newcommand{\\Imtrx}{\\boldsymbol{\\mathsf{I}}}\n",
    "  \\newcommand{\\Pmtrx}{\\boldsymbol{\\mathsf{P}}}\n",
    "  \\newcommand{\\Lmtrx}{\\boldsymbol{\\mathsf{L}}}\n",
    "  \\newcommand{\\Umtrx}{\\boldsymbol{\\mathsf{U}}}\n",
    "  \\newcommand{\\Smtrx}{\\boldsymbol{\\mathsf{S}}}\n",
    "  \\newcommand{\\xvec}{\\boldsymbol{\\mathsf{x}}}\n",
    "  \\newcommand{\\avec}{\\boldsymbol{\\mathsf{a}}}\n",
    "  \\newcommand{\\bvec}{\\boldsymbol{\\mathsf{b}}}\n",
    "  \\newcommand{\\cvec}{\\boldsymbol{\\mathsf{c}}}\n",
    "  \\newcommand{\\rvec}{\\boldsymbol{\\mathsf{r}}}\n",
    "  \\newcommand{\\mvec}{\\boldsymbol{\\mathsf{m}}}\n",
    "  \\newcommand{\\gvec}{\\boldsymbol{\\mathsf{g}}}\n",
    "  \\newcommand{\\zerovec}{\\boldsymbol{\\mathsf{0}}}\n",
    "  \\newcommand{\\norm}[1]{\\bigl\\lVert{#1}\\bigr\\rVert}\n",
    "  \\newcommand{\\transpose}[1]{{#1}^\\top}\n",
    "  \\DeclareMathOperator{\\rank}{rank}\n",
    "$"
   ]
  },
  {
   "cell_type": "markdown",
   "metadata": {},
   "source": [
    "---\n",
    "## Table of Contents<a id=\"toc\">\n",
    "* [Introduction](#intro)\n",
    "* [Any Linear System (Detailed Algorithm)](#any)\n",
    "* [Universal Solver](#usolver)\n",
    "* [Anomalous Least-Squares Data Fitting](#fit)\n",
    "---"
   ]
  },
  {
   "cell_type": "markdown",
   "metadata": {},
   "source": [
    "## [Introduction](#toc)<a id=\"intro\"></a>\n",
    "\n",
    "Recall course notes OneNote [ChEn-3170-universal-lsolver](https://studentuml-my.sharepoint.com/:o:/g/personal/valmor_dealmeida_uml_edu/EgTyfAiTr59Dk3yAb3eCZEcBeJZj2oWviJeXKpeRIB2YOg?e=aTnFnR) on computational stoichiometry including an introduction to the linear, rank-deficient, least-squares method.\n",
    "\n",
    "Compute the solution vector $\\xvec$ for a given matrix $\\Amtrx$ and right-side vector $\\bvec$:\n",
    "\n",
    "\\begin{equation*}\n",
    "\\Amtrx\\,\\xvec= \\bvec .\n",
    "\\end{equation*}\n",
    "\n",
    "When $\\Amtrx$ is rank deficient, $\\Amtrx^\\top\\Amtrx$ is also rank deficient (or singular). The normal equations \n",
    "\n",
    "\\begin{equation*}\n",
    "\\boxed{\\Amtrx^\\top\\Amtrx\\,\\xvec_\\text{LS}  = \\Amtrx^\\top\\,\\bvec },\n",
    "\\end{equation*}\n",
    "\n",
    "*either have an infinite number of solutions or have no solution*. \n",
    "\n",
    "Since $\\Amtrx$ is rank deficient, a **unique** mininum-norm least squares solution, $\\xvec_\\text{MNLS}$, exists as follows,\n",
    "\n",
    "\\begin{equation*}\n",
    " \\lim\\limits_{\\epsilon\\rightarrow 0}\\,\\min\\limits_\\xvec \\bigl( \\norm{\\bvec - \\Amtrx\\,\\xvec_\\text{MNLS}}^2 + \\epsilon\\norm{\\xvec_\\text{MNLS}}^2 \\bigr) \\quad\\  \\forall \\quad\\ \\xvec.\n",
    "\\end{equation*}\n",
    "\n",
    "This solution is obtained by solving:\n",
    "\n",
    "\\begin{equation*}\n",
    "\\boxed{\n",
    "\\lim\\limits_{\\epsilon\\rightarrow 0}\\,\\bigl(\\Amtrx^\\top\\Amtrx + \\epsilon\\Imtrx\\bigr) \\xvec_\\text{MNLS}  = \\Amtrx^\\top\\,\\bvec },\n",
    "\\end{equation*}\n",
    "\n",
    "where $\\Amtrx^\\top\\Amtrx + \\epsilon\\Imtrx$ is square, symmetric and full rank. This augmented least-squares problem has a unique solution."
   ]
  },
  {
   "cell_type": "markdown",
   "metadata": {},
   "source": [
    "## [Any Linear System (Detailed Algorithm)](#toc)<a id=\"any\"></a>\n",
    "Refer to course Notebooks 08 and 09."
   ]
  },
  {
   "cell_type": "code",
   "execution_count": 1,
   "metadata": {
    "ExecuteTime": {
     "end_time": "2022-03-22T16:21:07.587955Z",
     "start_time": "2022-03-22T16:21:07.033127Z"
    }
   },
   "outputs": [
    {
     "name": "stdout",
     "output_type": "stream",
     "text": [
      "A =\n",
      " [[593.673 279.344 621.228  63.138 ... 101.731 599.275 693.446 512.956]\n",
      " [-19.575 718.061 577.373 341.86  ... 612.145 740.418 738.413 220.341]\n",
      " [543.616 -60.421 715.466 589.798 ... 238.158 506.628  19.219  22.297]\n",
      " [224.833 557.312 -20.78  552.096 ... 777.06  139.414  44.798 680.485]\n",
      " ...\n",
      " [279.334 378.937 406.616 461.735 ... -64.538 487.308 795.833 637.606]\n",
      " [163.27  725.061 578.463 274.317 ... 374.565 -11.852 347.829 267.886]\n",
      " [595.728 638.856 700.029  58.726 ... 572.19  307.502 392.248   6.524]\n",
      " [  0.      0.      0.      0.    ...   0.      0.      0.      0.   ]]\n"
     ]
    }
   ],
   "source": [
    "'''Any A matrix'''\n",
    "\n",
    "import numpy as np\n",
    "\n",
    "nrows = 20\n",
    "ncols = 32\n",
    "\n",
    "a = -120.2\n",
    "b =  808.7\n",
    "\n",
    "set_rank_deficient = True # set to True or False\n",
    "\n",
    "a_mtrx = (b-a)*np.random.random((nrows,ncols)) + a\n",
    "\n",
    "if set_rank_deficient:\n",
    "    if nrows >= ncols:\n",
    "        a_mtrx[:,-1] = 0.0\n",
    "    if nrows < ncols:\n",
    "        a_mtrx[-1,:] = 0.0\n",
    "        \n",
    "np.set_printoptions(precision=3, threshold=500, edgeitems=4, linewidth=100)\n",
    "print('A =\\n',a_mtrx)"
   ]
  },
  {
   "cell_type": "code",
   "execution_count": 2,
   "metadata": {
    "ExecuteTime": {
     "end_time": "2022-03-22T16:21:12.460596Z",
     "start_time": "2022-03-22T16:21:11.843620Z"
    }
   },
   "outputs": [
    {
     "name": "stdout",
     "output_type": "stream",
     "text": [
      "S shape   =  (20, 32)\n",
      "Rank of S =  19\n",
      "Matrix is rank deficient.\n"
     ]
    }
   ],
   "source": [
    "'''Rank of A'''\n",
    "\n",
    "try:    \n",
    "    from chen_3170.toolkit import matrix_rank   \n",
    "except ModuleNotFoundError:\n",
    "    assert False, 'You need to provide your own matrix_rank function here. Bailing out.'\n",
    "\n",
    "a_rank = matrix_rank(a_mtrx)\n",
    "print('S shape   = ',a_mtrx.shape)\n",
    "print('Rank of S = ',a_rank)\n",
    "\n",
    "if a_rank == min(a_mtrx.shape):\n",
    "    print('Matrix is full rank.')\n",
    "else:\n",
    "    print('Matrix is rank deficient.')\n",
    "    \n",
    "assert a_rank == np.linalg.matrix_rank(a_mtrx)"
   ]
  },
  {
   "cell_type": "code",
   "execution_count": 3,
   "metadata": {
    "ExecuteTime": {
     "end_time": "2022-03-22T16:21:21.685613Z",
     "start_time": "2022-03-22T16:21:21.679354Z"
    }
   },
   "outputs": [
    {
     "name": "stdout",
     "output_type": "stream",
     "text": [
      "b_vec =\n",
      " [-15.723   2.124 -13.21  -12.81   -3.638 -14.867  -3.668 -33.079 -29.687  -7.213 -35.055  -8.886\n",
      " -30.11   -3.356 -11.153 -28.363  -3.667 -35.635  -6.659  -2.285]\n"
     ]
    }
   ],
   "source": [
    "'''Any right side vector'''\n",
    "\n",
    "import numpy as np\n",
    "\n",
    "a = -40.2\n",
    "b =  3.7\n",
    "\n",
    "b_vec = (b-a)*np.random.random(nrows) + a # production rates\n",
    "\n",
    "np.set_printoptions(precision=3, threshold=100, edgeitems=3, linewidth=100)\n",
    "print('b_vec =\\n',b_vec)"
   ]
  },
  {
   "cell_type": "code",
   "execution_count": 4,
   "metadata": {
    "ExecuteTime": {
     "end_time": "2022-03-22T16:22:00.613647Z",
     "start_time": "2022-03-22T16:22:00.527932Z"
    },
    "scrolled": false
   },
   "outputs": [
    {
     "name": "stdout",
     "output_type": "stream",
     "text": [
      "\n",
      "epsilon = 1.0e+02\n",
      "\n",
      "||x|| = 5.00018e-02\n",
      "max(abs(x_vec-x_vec_numpy)) = 1.72e-13\n",
      "\n",
      "||b - A x||^2 + eps*||x||^2 = 5.46936e+00\n",
      "||b - A x|| +       ||x||   = 2.33459e+00\n",
      "||b - A x||                 = 2.28459e+00\n",
      "\n",
      "epsilon = 1.3e+01\n",
      "\n",
      "||x|| = 5.00080e-02\n",
      "max(abs(x_vec-x_vec_numpy)) = 2.07e-12\n",
      "\n",
      "||b - A x||^2 + eps*||x||^2 = 5.25161e+00\n",
      "||b - A x|| +       ||x||   = 2.33459e+00\n",
      "||b - A x||                 = 2.28458e+00\n",
      "\n",
      "epsilon = 1.7e+00\n",
      "\n",
      "||x|| = 5.00088e-02\n",
      "max(abs(x_vec-x_vec_numpy)) = 1.02e-11\n",
      "\n",
      "||b - A x||^2 + eps*||x||^2 = 5.22348e+00\n",
      "||b - A x|| +       ||x||   = 2.33459e+00\n",
      "||b - A x||                 = 2.28458e+00\n",
      "\n",
      "epsilon = 2.2e-01\n",
      "\n",
      "||x|| = 5.00089e-02\n",
      "max(abs(x_vec-x_vec_numpy)) = 8.71e-11\n",
      "\n",
      "||b - A x||^2 + eps*||x||^2 = 5.21985e+00\n",
      "||b - A x|| +       ||x||   = 2.33459e+00\n",
      "||b - A x||                 = 2.28458e+00\n",
      "\n",
      "epsilon = 2.8e-02\n",
      "\n",
      "||x|| = 5.00089e-02\n",
      "max(abs(x_vec-x_vec_numpy)) = 6.41e-10\n",
      "\n",
      "||b - A x||^2 + eps*||x||^2 = 5.21938e+00\n",
      "||b - A x|| +       ||x||   = 2.33459e+00\n",
      "||b - A x||                 = 2.28458e+00\n",
      "\n",
      "epsilon = 3.6e-03\n",
      "\n",
      "||x|| = 5.00089e-02\n",
      "max(abs(x_vec-x_vec_numpy)) = 5.24e-09\n",
      "\n",
      "||b - A x||^2 + eps*||x||^2 = 5.21932e+00\n",
      "||b - A x|| +       ||x||   = 2.33459e+00\n",
      "||b - A x||                 = 2.28458e+00\n",
      "\n",
      "epsilon = 4.6e-04\n",
      "\n",
      "||x|| = 5.00089e-02\n",
      "max(abs(x_vec-x_vec_numpy)) = 4.24e-08\n",
      "\n",
      "||b - A x||^2 + eps*||x||^2 = 5.21931e+00\n",
      "||b - A x|| +       ||x||   = 2.33459e+00\n",
      "||b - A x||                 = 2.28458e+00\n",
      "\n",
      "epsilon = 6.0e-05\n",
      "\n",
      "||x|| = 5.00089e-02\n",
      "max(abs(x_vec-x_vec_numpy)) = 2.95e-07\n",
      "\n",
      "||b - A x||^2 + eps*||x||^2 = 5.21931e+00\n",
      "||b - A x|| +       ||x||   = 2.33459e+00\n",
      "||b - A x||                 = 2.28458e+00\n",
      "\n",
      "epsilon = 7.7e-06\n",
      "\n",
      "||x|| = 5.00089e-02\n",
      "max(abs(x_vec-x_vec_numpy)) = 4.49e-06\n",
      "\n",
      "||b - A x||^2 + eps*||x||^2 = 5.21931e+00\n",
      "||b - A x|| +       ||x||   = 2.33459e+00\n",
      "||b - A x||                 = 2.28458e+00\n",
      "\n",
      "epsilon = 1.0e-06\n",
      "\n",
      "||x|| = 5.00090e-02\n",
      "max(abs(x_vec-x_vec_numpy)) = 1.84e-05\n",
      "\n",
      "||b - A x||^2 + eps*||x||^2 = 5.21931e+00\n",
      "||b - A x|| +       ||x||   = 2.33459e+00\n",
      "||b - A x||                 = 2.28458e+00\n"
     ]
    }
   ],
   "source": [
    "'''Compute the MNLS solution'''\n",
    "\n",
    "import numpy as np\n",
    "\n",
    "try:    \n",
    "    from chen_3170.toolkit import solve   \n",
    "except ModuleNotFoundError:\n",
    "    assert False, 'You need to provide your own lu_factorization function here. Bailing out.'\n",
    "\n",
    "# build and solve A x = b MNLS problem\n",
    "\n",
    "epsilon_values = np.logspace(+2,-6,10)\n",
    "\n",
    "np.set_printoptions(precision=3, threshold=100, edgeitems=3, linewidth=100)\n",
    "\n",
    "x_norm_history = list()\n",
    "    \n",
    "for epsilon in epsilon_values:\n",
    "    \n",
    "    print('')\n",
    "    print('epsilon = %1.1e'%epsilon)\n",
    "    print('')\n",
    "\n",
    "    mtrx = a_mtrx.transpose() @ a_mtrx + epsilon * np.eye(a_mtrx.shape[1]) # AT A + epsilon I, AT A is the normal matrix\n",
    "    vec  = a_mtrx.transpose() @ b_vec                            # AT b\n",
    "\n",
    "    # Solve (ATA + epsilon I) x = AT b\n",
    "    x_vec = solve(mtrx, vec, pivot_tol=1e-6, zero_tol=1e-8) # matrix is full rank; partial pivoting works\n",
    "    #x_vec = np.linalg.solve(mtrx, vec)\n",
    "    #print('')\n",
    "    #print('x_vec=\\n',x_vec)\n",
    "    #print('')\n",
    "        \n",
    "    x_norm = np.linalg.norm(x_vec)\n",
    "    print('||x|| = %8.5e'%x_norm)\n",
    "    \n",
    "    x_norm_history.append( x_norm ) # save for plotting\n",
    "    \n",
    "    # test my solution against NumPy solve\n",
    "    print('max(abs(x_vec-x_vec_numpy)) = %2.2e'%np.max(np.abs((x_vec - np.linalg.solve(mtrx, vec)))))\n",
    "    \n",
    "    print('')\n",
    "    residual_vec = b_vec - a_mtrx @ x_vec\n",
    "    print('||b - A x||^2 + eps*||x||^2 = %8.5e'%(np.linalg.norm(residual_vec)**2 + epsilon*x_norm**2))\n",
    "    print('||b - A x|| +       ||x||   = %8.5e'%(np.linalg.norm(residual_vec) + x_norm))\n",
    "    print('||b - A x||                 = %8.5e'%(np.linalg.norm(residual_vec)))"
   ]
  },
  {
   "cell_type": "code",
   "execution_count": 5,
   "metadata": {
    "ExecuteTime": {
     "end_time": "2022-03-22T16:22:07.080694Z",
     "start_time": "2022-03-22T16:22:06.733754Z"
    }
   },
   "outputs": [
    {
     "data": {
      "image/png": "[encoded data removed]",
      "text/plain": [
       "<Figure size 1296x360 with 1 Axes>"
      ]
     },
     "metadata": {},
     "output_type": "display_data"
    }
   ],
   "source": [
    "'''Plot Convergence of the Shortest Least-Square Solution Vector'''\n",
    "\n",
    "from matplotlib import pyplot as plt # import the pyplot function of the matplotlib package\n",
    "%matplotlib inline\n",
    "plt.style.use('dark_background')\n",
    "\n",
    "fig, ax = plt.subplots(figsize=(18,5))\n",
    "ax.semilogx(epsilon_values, x_norm_history,'ro--')\n",
    "ax.set_ylabel('MNLS Solution Norm',fontsize=16)\n",
    "ax.set_xlabel('Epsilon',fontsize=16)\n",
    "plt.xticks(fontsize=14)\n",
    "plt.yticks(fontsize=14)\n",
    "fig.suptitle('Convergence of Minimum Norm LS X (Rank %s)'%str(a_rank),fontsize=20)\n",
    "ax.xaxis.grid(True,linestyle='-',which='major',color='lightgrey',alpha=0.9)\n",
    "plt.show()"
   ]
  },
  {
   "cell_type": "code",
   "execution_count": 6,
   "metadata": {
    "ExecuteTime": {
     "end_time": "2022-03-22T16:22:41.430433Z",
     "start_time": "2022-03-22T16:22:41.248403Z"
    }
   },
   "outputs": [
    {
     "data": {
      "image/png": "[encoded data removed]",
      "text/plain": [
       "<Figure size 1440x432 with 1 Axes>"
      ]
     },
     "metadata": {},
     "output_type": "display_data"
    }
   ],
   "source": [
    "'''Minimum norm least-squares reaction rates'''\n",
    "\n",
    "from matplotlib import pyplot as plt # import the pyplot function of the matplotlib package\n",
    "%matplotlib inline\n",
    "plt.style.use('dark_background')\n",
    "\n",
    "fig, ax = plt.subplots(figsize=(20,6))\n",
    "ax.bar(range(x_vec.size), x_vec, color='orange')\n",
    "\n",
    "ax.set_ylabel('X vector',fontsize=16)\n",
    "ax.set_xlabel('X vector element',fontsize=16)\n",
    "ax.xaxis.grid(True,linestyle='-',which='major',color='lightgrey',alpha=0.9)\n",
    "fig.suptitle('Minimum Norm LS Reaction Rates (Rank %s)'%str(a_rank),fontsize=20)\n",
    "plt.show()"
   ]
  },
  {
   "cell_type": "markdown",
   "metadata": {},
   "source": [
    "## [Universal Solver](#toc)<a id=\"usolver\"></a>"
   ]
  },
  {
   "cell_type": "markdown",
   "metadata": {},
   "source": [
    "Compute the solution vector $\\xvec$, given $\\Amtrx$ and $\\bvec$:\n",
    "\n",
    "\\begin{equation*}\n",
    "\\Amtrx\\,\\xvec= \\bvec .\n",
    "\\end{equation*}"
   ]
  },
  {
   "cell_type": "code",
   "execution_count": null,
   "metadata": {},
   "outputs": [],
   "source": [
    "'''Any A matrix'''\n",
    "\n",
    "import numpy as np\n",
    "\n",
    "nrows = 20\n",
    "ncols = 32\n",
    "\n",
    "a = -120.2\n",
    "b =  808.7\n",
    "\n",
    "set_rank_deficient = True # set to True or False\n",
    "\n",
    "a_mtrx = (b-a)*np.random.random((nrows,ncols)) + a\n",
    "\n",
    "if set_rank_deficient:\n",
    "    if nrows >= ncols:\n",
    "        a_mtrx[:,-1] = 0.0\n",
    "    if nrows < ncols:\n",
    "        a_mtrx[-1,:] = 0.0\n",
    "        \n",
    "np.set_printoptions(precision=3, threshold=100, edgeitems=4, linewidth=100)\n",
    "print('A =\\n',a_mtrx)"
   ]
  },
  {
   "cell_type": "code",
   "execution_count": null,
   "metadata": {},
   "outputs": [],
   "source": [
    "'''Rank of A'''\n",
    "\n",
    "try:    \n",
    "    from chen_3170.toolkit import matrix_rank   \n",
    "except ModuleNotFoundError:\n",
    "    assert False, 'You need to provide your own matrix_rank function here. Bailing out.'\n",
    "\n",
    "a_rank = matrix_rank(a_mtrx)\n",
    "print('S shape   = ',a_mtrx.shape)\n",
    "print('Rank of S = ',a_rank)\n",
    "\n",
    "if a_rank == min(a_mtrx.shape):\n",
    "    print('Matrix is full rank.')\n",
    "else:\n",
    "    print('Matrix is rank deficient.')\n",
    "    \n",
    "assert a_rank == np.linalg.matrix_rank(a_mtrx)"
   ]
  },
  {
   "cell_type": "code",
   "execution_count": null,
   "metadata": {},
   "outputs": [],
   "source": [
    "'''Any right side vector'''\n",
    "\n",
    "import numpy as np\n",
    "\n",
    "a = -40.2\n",
    "b =  3.7\n",
    "\n",
    "b_vec = (b-a)*np.random.random(nrows) + a # production rates\n",
    "\n",
    "np.set_printoptions(precision=3, threshold=100, edgeitems=3, linewidth=100)\n",
    "print('b_vec =\\n',b_vec)"
   ]
  },
  {
   "cell_type": "code",
   "execution_count": null,
   "metadata": {},
   "outputs": [],
   "source": [
    "import numpy as np\n",
    "\n",
    "try:    \n",
    "    from chen_3170.toolkit import universal_solve   \n",
    "except ModuleNotFoundError:\n",
    "    assert False, 'You need to provide your own lu_factorization function here. Bailing out.'\n",
    "\n",
    "x_vec = universal_solve(a_mtrx, b_vec, epsilon_min=-6, pivot_tol=1e-6)\n",
    "\n",
    "print('max(abs(b - Ax)) = %3.3e'%np.max(np.abs(b_vec-a_mtrx@x_vec)))"
   ]
  },
  {
   "cell_type": "code",
   "execution_count": null,
   "metadata": {},
   "outputs": [],
   "source": [
    "'''Minimum norm least-squares reaction rates'''\n",
    "\n",
    "from matplotlib import pyplot as plt # import the pyplot function of the matplotlib package\n",
    "%matplotlib inline\n",
    "plt.style.use('dark_background')\n",
    "\n",
    "fig, ax = plt.subplots(figsize=(20,6))\n",
    "ax.bar(range(x_vec.size), x_vec, color='orange')\n",
    "\n",
    "ax.set_ylabel('X vector',fontsize=16)\n",
    "ax.set_xlabel('X vector element',fontsize=16)\n",
    "ax.xaxis.grid(True,linestyle='-',which='major',color='lightgrey',alpha=0.9)\n",
    "fig.suptitle('Minimum Norm LS Reaction Rates (Rank %s)'%str(a_rank),fontsize=20)\n",
    "plt.show()"
   ]
  },
  {
   "cell_type": "markdown",
   "metadata": {},
   "source": [
    "## [Anomalous Linear Least-Squares Data Fitting](#toc)<a id=\"fit\"></a>\n",
    "\n",
    "Example of data fitting where the universal solver is the only way to find a satisfactory fit."
   ]
  },
  {
   "cell_type": "code",
   "execution_count": null,
   "metadata": {},
   "outputs": [],
   "source": [
    "import numpy as np\n",
    "\n",
    "m_pts = 7\n",
    "\n",
    "x_values = 1*np.ones(m_pts)\n",
    "y_values = 1.12 * abs(np.random.random(m_pts))\n",
    "\n",
    "a_mtrx = np.zeros((m_pts, 2))\n",
    "a_mtrx[:,0] = np.ones(m_pts)\n",
    "a_mtrx[:,1] = -x_values\n"
   ]
  },
  {
   "cell_type": "code",
   "execution_count": null,
   "metadata": {},
   "outputs": [],
   "source": [
    "import matplotlib.pyplot as plt\n",
    "%matplotlib inline\n",
    "plt.style.use('dark_background')\n",
    "    \n",
    "plt.figure(1, figsize=(7, 7))\n",
    "\n",
    "plt.plot(x_values, y_values, 'r*', label='experimental')\n",
    "    \n",
    "plt.xlabel(r'$x$ []',fontsize=14)\n",
    "plt.ylabel(r'$y$ []',fontsize=14)\n",
    "plt.xlim(min(x_values)-.1, max(x_values)+.1)\n",
    "plt.title('Some Arbitrary Data',fontsize=20)\n",
    "plt.legend(loc='best',fontsize=12)\n",
    "plt.grid(True)\n",
    "plt.show()"
   ]
  },
  {
   "cell_type": "code",
   "execution_count": null,
   "metadata": {},
   "outputs": [],
   "source": [
    "try:    \n",
    "    from chen_3170.toolkit import matrix_rank   \n",
    "except ModuleNotFoundError:\n",
    "    assert False, 'You need to provide your own lu_factorization function here. Bailing out.'\n",
    "\n",
    "rank = matrix_rank(a_mtrx)\n",
    "\n",
    "if rank == min(np.shape(a_mtrx)):\n",
    "    print('Full-rank matrix')\n",
    "else:\n",
    "    print('Rank-deficient matrix')\n",
    "print('matrix rank = ', rank)"
   ]
  },
  {
   "cell_type": "code",
   "execution_count": null,
   "metadata": {},
   "outputs": [],
   "source": [
    "try:    \n",
    "    from chen_3170.toolkit import universal_solve   \n",
    "    from chen_3170.toolkit import solve  \n",
    "except ModuleNotFoundError:\n",
    "    assert False, 'You need to provide your own lu_factorization function here. Bailing out.'\n",
    "    \n",
    "x_vec = universal_solve(a_mtrx, y_values, epsilon_min=-6, pivot_tol=1e-9)\n",
    "\n",
    "#this will not work: x_vec = solve(a_mtrx.transpose()@a_mtrx, a_mtrx.transpose()@y_values, pivot_tol=1e-7)"
   ]
  },
  {
   "cell_type": "code",
   "execution_count": null,
   "metadata": {},
   "outputs": [],
   "source": [
    "import matplotlib.pyplot as plt\n",
    "%matplotlib inline\n",
    "plt.style.use('dark_background')\n",
    "    \n",
    "plt.figure(1, figsize=(7, 7))\n",
    "\n",
    "n_plot_pts = 15\n",
    "x_plot = np.linspace(min(x_values)-.01, max(x_values)+.01, n_plot_pts)\n",
    "a_mtrx_x = np.ones((n_plot_pts, 2))\n",
    "a_mtrx_x[:,1]= -x_plot\n",
    "\n",
    "plt.plot(x_values, y_values,'r*',label='experimental')\n",
    "plt.plot(x_plot, a_mtrx_x@x_vec,'y*',label='MNLS')\n",
    "    \n",
    "plt.xlabel(r'$x$ []',fontsize=14)\n",
    "plt.xlim(min(x_values)-.01, max(x_values)+.01)\n",
    "plt.ylabel(r'$y$ []',fontsize=14)\n",
    "plt.title('Linear Least-Squared Approximation',fontsize=20)\n",
    "plt.legend(loc='best',fontsize=12)\n",
    "plt.grid(True)\n",
    "plt.show()"
   ]
  },
  {
   "cell_type": "code",
   "execution_count": null,
   "metadata": {},
   "outputs": [],
   "source": [
    "y_values"
   ]
  },
  {
   "cell_type": "code",
   "execution_count": null,
   "metadata": {},
   "outputs": [],
   "source": [
    "y_values.mean()"
   ]
  },
  {
   "cell_type": "code",
   "execution_count": null,
   "metadata": {},
   "outputs": [],
   "source": [
    "a_mtrx_x@x_vec"
   ]
  },
  {
   "cell_type": "code",
   "execution_count": null,
   "metadata": {},
   "outputs": [],
   "source": [
    "(a_mtrx_x@x_vec).mean()"
   ]
  },
  {
   "cell_type": "code",
   "execution_count": null,
   "metadata": {},
   "outputs": [],
   "source": []
  }
 ],
 "metadata": {
  "kernelspec": {
   "display_name": "Python 3 (ipykernel)",
   "language": "python",
   "name": "python3"
  },
  "language_info": {
   "codemirror_mode": {
    "name": "ipython",
    "version": 3
   },
   "file_extension": ".py",
   "mimetype": "text/x-python",
   "name": "python",
   "nbconvert_exporter": "python",
   "pygments_lexer": "ipython3",
   "version": "3.10.8"
  },
  "latex_envs": {
   "LaTeX_envs_menu_present": true,
   "autoclose": false,
   "autocomplete": true,
   "bibliofile": "biblio.bib",
   "cite_by": "apalike",
   "current_citInitial": 1,
   "eqLabelWithNumbers": true,
   "eqNumInitial": 1,
   "hotkeys": {
    "equation": "Ctrl-E",
    "itemize": "Ctrl-I"
   },
   "labels_anchors": false,
   "latex_user_defs": false,
   "report_style_numbering": false,
   "user_envs_cfg": false
  }
 },
 "nbformat": 4,
 "nbformat_minor": 2
}
