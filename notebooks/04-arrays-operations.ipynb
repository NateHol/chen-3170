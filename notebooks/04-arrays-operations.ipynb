{
 "cells": [
  {
   "cell_type": "markdown",
   "metadata": {},
   "source": [
    "ChEn-3170: Computational Methods in Chemical Engineering Spring 2023 UMass Lowell; Prof. V. F. de Almeida **03Feb23**\n",
    "\n",
    "# 04. Array Operations\n",
    "$  \n",
    "  \\newcommand{\\Amtrx}{\\boldsymbol{\\mathsf{A}}}\n",
    "  \\newcommand{\\Bmtrx}{\\boldsymbol{\\mathsf{B}}}\n",
    "  \\newcommand{\\Cmtrx}{\\boldsymbol{\\mathsf{C}}}\n",
    "  \\newcommand{\\Dmtrx}{\\boldsymbol{\\mathsf{D}}}\n",
    "  \\newcommand{\\Mmtrx}{\\boldsymbol{\\mathsf{M}}}\n",
    "  \\newcommand{\\Imtrx}{\\boldsymbol{\\mathsf{I}}}\n",
    "  \\newcommand{\\Pmtrx}{\\boldsymbol{\\mathsf{P}}}\n",
    "  \\newcommand{\\Qmtrx}{\\boldsymbol{\\mathsf{Q}}}\n",
    "  \\newcommand{\\Lmtrx}{\\boldsymbol{\\mathsf{L}}}\n",
    "  \\newcommand{\\Umtrx}{\\boldsymbol{\\mathsf{U}}}\n",
    "  \\newcommand{\\xvec}{\\boldsymbol{\\mathsf{x}}}\n",
    "  \\newcommand{\\avec}{\\boldsymbol{\\mathsf{a}}}\n",
    "  \\newcommand{\\bvec}{\\boldsymbol{\\mathsf{b}}}\n",
    "  \\newcommand{\\vvec}{\\boldsymbol{\\mathsf{v}}}\n",
    "  \\newcommand{\\cvec}{\\boldsymbol{\\mathsf{c}}}\n",
    "  \\newcommand{\\rvec}{\\boldsymbol{\\mathsf{r}}}\n",
    "  \\newcommand{\\norm}[1]{\\bigl\\lVert{#1}\\bigr\\rVert}\n",
    "  \\DeclareMathOperator{\\rank}{rank}\n",
    "$"
   ]
  },
  {
   "cell_type": "markdown",
   "metadata": {},
   "source": [
    "---\n",
    "## Table of Contents<a id=\"toc\">\n",
    "* [Objectives](#obj)\n",
    "* [Formatting Output](#format)\n",
    "   + `Numpy` `set_printoptions()` method\n",
    "* [Vectors](#vectors)\n",
    "   + [Element-by-element addition/subtraction](#vecaddsub)\n",
    "   + [Element-by-element product/division](#vecproddiv)\n",
    "   + [Self product](#vecselfprod)\n",
    "   + [Inner product (dot product)](#vecinnerprod)\n",
    "   + [Scaling (element-by-element multiplication/division by scalar)](#vecscale)\n",
    "   + [Element-by-element mathematical operations](#vecops)\n",
    "   + [Element-by-element search](#vecsearch)\n",
    "   + [Zip vectors](#veczip)\n",
    "* [Matrices](#matrices)\n",
    "   + [Element-by-element addition/subtraction](#mataddsub)\n",
    "   + [Element-by-element product/division](#matproddiv)\n",
    "   + [Scaling (element-by-element multiplication/division by scalar)](#matscale)\n",
    "   + [Element-by-element mathematical operations](#matops)\n",
    "   + [Transposition](#mattransp)\n",
    "     - `Numpy` `set_printoptions()` method\n",
    "   + [Element-by-element search](#matsearch)\n",
    "---"
   ]
  },
  {
   "cell_type": "markdown",
   "metadata": {},
   "source": [
    "## [Objectives](#toc)<a id=\"obj\"></a>\n",
    "\n",
    " + Cover basic array operations in 1-D (vectors) and 2-D (matrices) needed throughout the course."
   ]
  },
  {
   "cell_type": "code",
   "execution_count": 1,
   "metadata": {},
   "outputs": [],
   "source": [
    "'''Python packages are accessed with an import directive as such:'''\n",
    "\n",
    "import numpy as np  # import the package and create the alias: np"
   ]
  },
  {
   "cell_type": "markdown",
   "metadata": {},
   "source": [
    "## [Formatting Output](#toc)<a id=\"format\"></a>"
   ]
  },
  {
   "cell_type": "markdown",
   "metadata": {},
   "source": [
    "* Scientific notation"
   ]
  },
  {
   "cell_type": "code",
   "execution_count": 2,
   "metadata": {},
   "outputs": [
    {
     "name": "stdout",
     "output_type": "stream",
     "text": [
      "pi =     3.14159e+00\n"
     ]
    }
   ],
   "source": [
    "import math\n",
    "\n",
    "pi = math.pi\n",
    "\n",
    "print('pi = %15.5e'%pi) # formatting numeric output: scientific notation"
   ]
  },
  {
   "cell_type": "code",
   "execution_count": 3,
   "metadata": {},
   "outputs": [
    {
     "name": "stdout",
     "output_type": "stream",
     "text": [
      "pi =    3.14159\n"
     ]
    }
   ],
   "source": [
    "print('pi = %10.5f'%pi) # formatting numeric output: float"
   ]
  },
  {
   "cell_type": "code",
   "execution_count": 4,
   "metadata": {},
   "outputs": [
    {
     "name": "stdout",
     "output_type": "stream",
     "text": [
      "pi = 3.14159e+00 and e =    2.718\n"
     ]
    }
   ],
   "source": [
    "print('pi = %10.5e and e = %8.3f'%(pi, math.e)) # formatting numeric output: sci. notation and float"
   ]
  },
  {
   "cell_type": "markdown",
   "metadata": {},
   "source": [
    "* `Numpy` arrays"
   ]
  },
  {
   "cell_type": "code",
   "execution_count": 5,
   "metadata": {},
   "outputs": [
    {
     "name": "stdout",
     "output_type": "stream",
     "text": [
      "[[0.582  0.6876 0.071  0.3475 0.6306 0.1861 ... 0.1527 0.6775 0.1551 0.7387 0.3409 0.5303]\n",
      " [0.3873 0.6623 0.7239 0.539  0.2724 0.7637 ... 0.317  0.7799 0.1639 0.3027 0.0711 0.282 ]\n",
      " [0.9471 0.5468 0.6734 0.7841 0.8853 0.227  ... 0.7535 0.4375 0.849  0.3984 0.9268 0.0093]\n",
      " [0.4055 0.6629 0.2106 0.6711 0.8134 0.8697 ... 0.6531 0.4995 0.2684 0.0383 0.8397 0.2965]\n",
      " [0.7391 0.4391 0.4739 0.3038 0.7264 0.5336 ... 0.7011 0.2382 0.5189 0.0702 0.4277 0.9248]\n",
      " [0.1935 0.6334 0.0941 0.2076 0.2088 0.0456 ... 0.0708 0.7829 0.8226 0.0811 0.6494 0.8591]\n",
      " [0.5357 0.7448 0.8294 0.4339 0.8079 0.2576 ... 0.8927 0.7734 0.9116 0.7485 0.4938 0.4701]\n",
      " [0.5818 0.6113 0.223  0.8184 0.0866 0.7279 ... 0.009  0.0913 0.7509 0.9023 0.2901 0.363 ]\n",
      " [0.7884 0.2622 0.2321 0.4239 0.6157 0.0962 ... 0.4425 0.9831 0.4176 0.465  0.3591 0.4459]\n",
      " [0.4524 0.007  0.6095 0.6862 0.1333 0.4956 ... 0.0146 0.8379 0.2579 0.5257 0.5061 0.876 ]]\n"
     ]
    }
   ],
   "source": [
    "'''Use set print options in Numpy'''\n",
    "\n",
    "np.set_printoptions(precision=4, threshold=800, edgeitems=6, linewidth=105)\n",
    "\n",
    "mtrx = np.random.random((10,100))\n",
    "\n",
    "print(mtrx)"
   ]
  },
  {
   "cell_type": "code",
   "execution_count": 6,
   "metadata": {},
   "outputs": [],
   "source": [
    "#help(np.set_printoptions)"
   ]
  },
  {
   "cell_type": "markdown",
   "metadata": {},
   "source": [
    "## [Vectors](#toc)<a id=\"vectors\"></a>"
   ]
  },
  {
   "cell_type": "markdown",
   "metadata": {},
   "source": [
    "**In all of engineering calculations use double-precision floating point numeric**"
   ]
  },
  {
   "cell_type": "code",
   "execution_count": 7,
   "metadata": {},
   "outputs": [
    {
     "name": "stdout",
     "output_type": "stream",
     "text": [
      "<class 'numpy.ndarray'>\n",
      "float64\n"
     ]
    }
   ],
   "source": [
    "'''Set double precision at creation time'''\n",
    "\n",
    "x_vec = np.empty(10, dtype=np.float64)\n",
    "\n",
    "print(type(x_vec))\n",
    "print(x_vec.dtype)"
   ]
  },
  {
   "cell_type": "code",
   "execution_count": 8,
   "metadata": {},
   "outputs": [
    {
     "name": "stdout",
     "output_type": "stream",
     "text": [
      "<class 'numpy.ndarray'>\n",
      "float64\n"
     ]
    }
   ],
   "source": [
    "'''Set double precision after creation'''\n",
    "\n",
    "x_vec = x_vec.astype(float)\n",
    "print(type(x_vec))\n",
    "print(x_vec.dtype)"
   ]
  },
  {
   "cell_type": "code",
   "execution_count": 9,
   "metadata": {},
   "outputs": [
    {
     "name": "stdout",
     "output_type": "stream",
     "text": [
      "<class 'numpy.ndarray'>\n",
      "float32\n"
     ]
    }
   ],
   "source": [
    "'''Set single precision after creation; not to be used'''\n",
    "\n",
    "x_vec = x_vec.astype(np.float32)\n",
    "print(type(x_vec))\n",
    "print(x_vec.dtype)"
   ]
  },
  {
   "cell_type": "markdown",
   "metadata": {},
   "source": [
    "#### [Element-by-element addition/subtraction](#toc)<a id=\"vecaddsub\"></a>"
   ]
  },
  {
   "cell_type": "code",
   "execution_count": 10,
   "metadata": {},
   "outputs": [
    {
     "name": "stdout",
     "output_type": "stream",
     "text": [
      "vec1     = [0.0165 0.9699 0.6937 0.9361 0.5884]\n",
      "vec2     = [0.6966 0.0546 0.1818 0.7058 0.0679]\n",
      "addition   = [0.7131 1.0245 0.8755 1.642  0.6563]\n",
      "difference = [-0.6801  0.9153  0.5119  0.2303  0.5204]\n"
     ]
    }
   ],
   "source": [
    "'''Element-by-element addition or subtraction'''\n",
    "\n",
    "vec1 = np.array(np.random.random(5))\n",
    "print('vec1     =',vec1)\n",
    "\n",
    "vec2 = np.array(np.random.random(5))\n",
    "print('vec2     =',vec2)\n",
    "\n",
    "result = vec1 + vec2         # element-by-element sum\n",
    "print('addition   =',result)\n",
    "\n",
    "result = vec1 - vec2         # element-by-element subtraction\n",
    "print('difference =',result)"
   ]
  },
  {
   "cell_type": "markdown",
   "metadata": {},
   "source": [
    "#### [Element-by-element product/division](#toc)<a id=\"vecproddiv\"></a>"
   ]
  },
  {
   "cell_type": "code",
   "execution_count": 11,
   "metadata": {},
   "outputs": [
    {
     "name": "stdout",
     "output_type": "stream",
     "text": [
      "vec1    = [0.6996 0.7875 0.8553 0.1131 0.5181]\n",
      "vec2    = [0.4321 0.7794 0.0804 0.7784 0.9282]\n",
      "product  = [0.3023 0.6138 0.0688 0.088  0.4809]\n",
      "division = [ 1.6189  1.0104 10.6356  0.1453  0.5582]\n"
     ]
    }
   ],
   "source": [
    "'''Element-by-element product or division'''\n",
    "\n",
    "vec1 = np.array(np.random.random(5))\n",
    "print('vec1    =',vec1)\n",
    "\n",
    "vec2 = np.array(np.random.random(5))\n",
    "print('vec2    =',vec2)\n",
    "\n",
    "result = vec1 * vec2        # element-by-element product\n",
    "print('product  =',result)\n",
    "\n",
    "result = vec1 / vec2        # element-by-element division\n",
    "print('division =',result)"
   ]
  },
  {
   "cell_type": "markdown",
   "metadata": {},
   "source": [
    "#### [Self product](#toc)<a id=\"vecselfprod\"></a>"
   ]
  },
  {
   "cell_type": "code",
   "execution_count": 12,
   "metadata": {},
   "outputs": [
    {
     "name": "stdout",
     "output_type": "stream",
     "text": [
      "vec1         = [0.6996 0.7875 0.8553 0.1131 0.5181]\n",
      "vec1 product = 0.027610311788138282\n"
     ]
    }
   ],
   "source": [
    "'''Product of all elements of a vector'''\n",
    "\n",
    "vec1_prod = np.prod(vec1)\n",
    "\n",
    "print('vec1         =', vec1)\n",
    "print('vec1 product =', vec1_prod)"
   ]
  },
  {
   "cell_type": "markdown",
   "metadata": {},
   "source": [
    "#### [Inner product (dot product)](#toc)<a id=\"vecinnerprod\"></a>"
   ]
  },
  {
   "cell_type": "markdown",
   "metadata": {},
   "source": [
    "The result of the inner product of two vectors: $\\vvec_1 \\cdot \\vvec_2$ is a scalar."
   ]
  },
  {
   "cell_type": "code",
   "execution_count": 13,
   "metadata": {},
   "outputs": [
    {
     "name": "stdout",
     "output_type": "stream",
     "text": [
      "vec1           = [0.2544 0.5823 0.2207 0.3665 0.7789]\n",
      "vec2           = [0.2431 0.2237 0.5248 0.8438 0.0889]\n",
      "dot product = 0.6864803739293353\n"
     ]
    }
   ],
   "source": [
    "'''Vector inner product or dot product'''\n",
    "\n",
    "vec1 = np.array(np.random.random(5))\n",
    "print('vec1           =',vec1)\n",
    "\n",
    "vec2 = np.array(np.random.random(5))\n",
    "print('vec2           =',vec2)\n",
    "\n",
    "result = np.dot(vec1, vec2)     # inner or dot product\n",
    "print('dot product =',result)"
   ]
  },
  {
   "cell_type": "code",
   "execution_count": 14,
   "metadata": {
    "scrolled": true
   },
   "outputs": [
    {
     "name": "stdout",
     "output_type": "stream",
     "text": [
      "vec1 . vec2 =  0.6864803739293351\n"
     ]
    }
   ],
   "source": [
    "'''More on vector inner product or dot product'''\n",
    "'''Another way to compute the inner product'''\n",
    "\n",
    "ele_by_ele_product = vec1 * vec2\n",
    "\n",
    "inner_product = ele_by_ele_product.sum()\n",
    "\n",
    "print('vec1 . vec2 = ', inner_product)"
   ]
  },
  {
   "cell_type": "markdown",
   "metadata": {},
   "source": [
    "#### [Scaling (element-by-element multiplication/division by a scalar)](#toc)<a id=\"vecscale\"></a>"
   ]
  },
  {
   "cell_type": "code",
   "execution_count": 15,
   "metadata": {},
   "outputs": [
    {
     "name": "stdout",
     "output_type": "stream",
     "text": [
      "vec    = [0.467  0.925  0.5685 0.5274 0.5598]\n",
      "scaled = [0.1611 0.3191 0.1961 0.1819 0.1931]\n",
      "vec    = [0.1611 0.3191 0.1961 0.1819 0.1931]\n"
     ]
    }
   ],
   "source": [
    "'''Scaling of a vector'''\n",
    "\n",
    "vec = np.array(np.random.random(5))\n",
    "print('vec    =',vec)\n",
    "\n",
    "factor = 0.345\n",
    "scaled = factor * vec     # scaling of vec element-by-element product\n",
    "print('scaled =', scaled) # assigned to new variable `scaled`\n",
    "\n",
    "vec *= factor          # in-place scaling\n",
    "print('vec    =',vec)"
   ]
  },
  {
   "cell_type": "markdown",
   "metadata": {},
   "source": [
    "#### [Element-by-element mathematical operations](#toc)<a id=\"vecops\"></a>"
   ]
  },
  {
   "cell_type": "code",
   "execution_count": 16,
   "metadata": {},
   "outputs": [
    {
     "name": "stdout",
     "output_type": "stream",
     "text": [
      "vec      = [0.4579 0.1331 0.7614 0.5748 0.3385]\n",
      "log(vec) = [-0.7812 -2.0163 -0.2726 -0.5537 -1.0833]\n",
      "exp(vec) = [0.4579 0.1331 0.7614 0.5748 0.3385]\n",
      "sin(vec) = [0.442  0.1328 0.69   0.5437 0.332 ]\n",
      "vec^3    = [0.096  0.0024 0.4415 0.1899 0.0388]\n",
      "mean(vec) = 0.4531409073389875\n",
      "std(vec) = 0.2123262562180827\n"
     ]
    }
   ],
   "source": [
    "'''Mathematical Operations on a Vector'''\n",
    "\n",
    "vec = np.array(np.random.random(5))\n",
    "print('vec      =',vec)\n",
    "\n",
    "log_vec = np.log(vec)         # natural log element-by-element\n",
    "print('log(vec) =',log_vec)\n",
    "\n",
    "exp_vec = np.exp(log_vec)     # exponential\n",
    "print('exp(vec) =',exp_vec)\n",
    "\n",
    "sin_vec = np.sin(vec)         # sine\n",
    "print('sin(vec) =',sin_vec)\n",
    "\n",
    "vec_cubed = vec**3            # powers\n",
    "print('vec^3    =',vec_cubed)\n",
    "\n",
    "vec_mean = vec.mean()         # arithmetic mean\n",
    "print('mean(vec) =',vec_mean)\n",
    "\n",
    "vec_std = vec.std()           # standard deviation\n",
    "print('std(vec) =',vec_std)"
   ]
  },
  {
   "cell_type": "markdown",
   "metadata": {},
   "source": [
    "#### [Element-by-element search](#toc)<a id=\"vecsearch\"></a>"
   ]
  },
  {
   "cell_type": "code",
   "execution_count": 17,
   "metadata": {},
   "outputs": [
    {
     "name": "stdout",
     "output_type": "stream",
     "text": [
      "vec = [0.4579 0.1331 0.7614 0.5748 0.3385]\n",
      "indices =  [0 2 3 4]\n"
     ]
    }
   ],
   "source": [
    "'''Searching a vector for entries matching a test'''\n",
    "\n",
    "# what are the indices of the values in \"vec\" that satisfy: vec[] >= 0.3\n",
    "(idx_ids, ) = np.where(vec >= 0.3) \n",
    "\n",
    "print('vec =', vec)\n",
    "print('indices = ', idx_ids)"
   ]
  },
  {
   "cell_type": "code",
   "execution_count": 18,
   "metadata": {},
   "outputs": [
    {
     "name": "stdout",
     "output_type": "stream",
     "text": [
      "vec = [0.4579 0.1331 0.7614 0.5748 0.3385]\n",
      "indices =  []\n"
     ]
    }
   ],
   "source": [
    "'''Searching a vector for entries matching a test'''\n",
    "\n",
    "# what are the indices of the values in \"vec\" that satisfy: vec[] == 0.3\n",
    "(idx_ids, ) = np.where(vec == 0.3) \n",
    "\n",
    "print('vec =', vec)\n",
    "print('indices = ', idx_ids)"
   ]
  },
  {
   "cell_type": "markdown",
   "metadata": {},
   "source": [
    "#### [Zip vectors](#toc)<a id=\"veczip\"></a>"
   ]
  },
  {
   "cell_type": "code",
   "execution_count": 19,
   "metadata": {},
   "outputs": [
    {
     "name": "stdout",
     "output_type": "stream",
     "text": [
      "[(0.25442244665247615, 0.24310767273527567), (0.5822868745614079, 0.22370934526932063), (0.22073707659052255, 0.524771604822689), (0.3665009642517407, 0.8438148659312172), (0.7788812934788941, 0.08893498689070856)]\n"
     ]
    }
   ],
   "source": [
    "'''Zip creates a list of tuples on the fly'''\n",
    "\n",
    "print(list(zip(vec1, vec2)))"
   ]
  },
  {
   "cell_type": "markdown",
   "metadata": {},
   "source": [
    "## [Matrices](#toc)<a id=\"matrices\"></a>"
   ]
  },
  {
   "cell_type": "markdown",
   "metadata": {},
   "source": [
    "**In all of engineering calculations use double-precision floating point numeric**"
   ]
  },
  {
   "cell_type": "code",
   "execution_count": 20,
   "metadata": {},
   "outputs": [
    {
     "name": "stdout",
     "output_type": "stream",
     "text": [
      "<class 'numpy.ndarray'>\n",
      "float64\n"
     ]
    }
   ],
   "source": [
    "'''Set double precision at creation time'''\n",
    "\n",
    "mtrx = np.empty((5,5), dtype=np.float64)\n",
    "\n",
    "print(type(mtrx))\n",
    "print(mtrx.dtype)"
   ]
  },
  {
   "cell_type": "code",
   "execution_count": 21,
   "metadata": {},
   "outputs": [
    {
     "name": "stdout",
     "output_type": "stream",
     "text": [
      "<class 'numpy.ndarray'>\n",
      "float64\n"
     ]
    }
   ],
   "source": [
    "'''Set double precision after creation'''\n",
    "\n",
    "mtrx = mtrx.astype(float)\n",
    "\n",
    "print(type(mtrx))\n",
    "print(mtrx.dtype)"
   ]
  },
  {
   "cell_type": "markdown",
   "metadata": {},
   "source": [
    "#### [Element-by-element addition/subtraction](#toc)<a id=\"mataddsub\"></a>"
   ]
  },
  {
   "cell_type": "code",
   "execution_count": 22,
   "metadata": {},
   "outputs": [
    {
     "name": "stdout",
     "output_type": "stream",
     "text": [
      "mat1       =\n",
      " [[0.4256 0.0636 0.943 ]\n",
      " [0.2789 0.4567 0.9803]\n",
      " [0.5306 0.3609 0.6517]]\n",
      "mat2       =\n",
      " [[0.0839 0.6742 0.4054]\n",
      " [0.1058 0.0978 0.5154]\n",
      " [0.596  0.9449 0.4409]]\n",
      "addition   =\n",
      " [[0.5096 0.7378 1.3484]\n",
      " [0.3847 0.5546 1.4957]\n",
      " [1.1266 1.3058 1.0926]]\n",
      "difference =\n",
      " [[ 0.3417 -0.6106  0.5375]\n",
      " [ 0.1731  0.3589  0.4649]\n",
      " [-0.0654 -0.5839  0.2108]]\n"
     ]
    }
   ],
   "source": [
    "'''Element-by-element addition or subtraction'''\n",
    "\n",
    "mat1 = np.random.random((3,3))\n",
    "print('mat1       =\\n', mat1)\n",
    "\n",
    "mat2 = np.random.random((3,3))\n",
    "print('mat2       =\\n', mat2)\n",
    "\n",
    "result = mat1 + mat2              # element-by-element sum\n",
    "print('addition   =\\n', result)\n",
    "\n",
    "result = mat1 - mat2              # element-by-element subtraction\n",
    "print('difference =\\n', result)"
   ]
  },
  {
   "cell_type": "markdown",
   "metadata": {},
   "source": [
    "#### [Element-by-element product/division](#toc)<a id=\"matproddiv\"></a>"
   ]
  },
  {
   "cell_type": "code",
   "execution_count": 23,
   "metadata": {},
   "outputs": [
    {
     "name": "stdout",
     "output_type": "stream",
     "text": [
      "mat1     =\n",
      " [[0.3583 0.2366 0.5308]\n",
      " [0.3477 0.0318 0.4262]\n",
      " [0.0421 0.2821 0.8018]]\n",
      "mat2     =\n",
      " [[0.6029 0.2993 0.8766]\n",
      " [0.5315 0.2975 0.9084]\n",
      " [0.1141 0.2545 0.6539]]\n",
      "product  =\n",
      " [[0.216  0.0708 0.4653]\n",
      " [0.1848 0.0095 0.3872]\n",
      " [0.0048 0.0718 0.5243]]\n",
      "division =\n",
      " [[0.5943 0.7905 0.6055]\n",
      " [0.6542 0.107  0.4692]\n",
      " [0.3692 1.1084 1.2261]]\n"
     ]
    }
   ],
   "source": [
    "'''Element-by-element product or division'''\n",
    "\n",
    "mat1 = np.random.random((3,3))\n",
    "print('mat1     =\\n', mat1)\n",
    "\n",
    "mat2 = np.random.random((3,3))\n",
    "print('mat2     =\\n', mat2)\n",
    "\n",
    "result = mat1 * mat2          # element-by-element product\n",
    "print('product  =\\n', result)\n",
    "\n",
    "result = mat1 / mat2          # element-by-element division (cross your fingers)\n",
    "print('division =\\n', result)"
   ]
  },
  {
   "cell_type": "code",
   "execution_count": null,
   "metadata": {},
   "outputs": [],
   "source": [
    "'''Produce Noise on a Matrix Image (brick data)'''\n",
    "\n",
    "from matplotlib import pyplot as plt     # import the pyplot function of the matplotlib package\n",
    "#%matplotlib inline\n",
    "plt.rcParams['figure.figsize'] = [20, 4] # extend the figure size on screen output\n",
    "\n",
    "# Read image from the images/ directory in the chen-3170 repo\n",
    "block = plt.imread('images/glacier.png', format='png')\n",
    "\n",
    "plt.figure(1)\n",
    "plt.imshow(block)\n",
    "plt.title('Matrix Reloaded', fontsize=14)\n",
    "plt.show()\n",
    "print('block shape =', block.shape)  # inspect the array shape"
   ]
  },
  {
   "cell_type": "code",
   "execution_count": null,
   "metadata": {},
   "outputs": [],
   "source": [
    "'''Use Matrix Element-by-Element Multiplication'''\n",
    "\n",
    "mtrx_shape = block.shape[0:2]                 # use the shape to automate noise_mtrx generation\n",
    "\n",
    "noise_mtrx = np.random.random(mtrx_shape)   # generate random matrix\n",
    "\n",
    "block_noise = block[:,:,2] * noise_mtrx   # apply noise to the blue channel\n",
    "\n",
    "plt.figure(2)\n",
    "plt.imshow(block_noise, cmap='gray')\n",
    "plt.title('Noisy Block',fontsize=14)\n",
    "plt.show()"
   ]
  },
  {
   "cell_type": "code",
   "execution_count": null,
   "metadata": {},
   "outputs": [],
   "source": [
    "'''Matrix Scaling (matrix product or division by a scalar)'''\n",
    "\n",
    "mat1 = np.random.random((3,3))\n",
    "print('mat1      =\\n',mat1)\n",
    "\n",
    "factor = 3.21\n",
    "result = factor * mat1        # scaling of mat1 element-by-element; product with factor\n",
    "print('scaled   =\\n',result)"
   ]
  },
  {
   "cell_type": "markdown",
   "metadata": {},
   "source": [
    "#### [Scaling (element-by-element multiplication/division by a scalar)](#toc)<a id=\"matscale\"></a>"
   ]
  },
  {
   "cell_type": "code",
   "execution_count": null,
   "metadata": {},
   "outputs": [],
   "source": [
    "'''Matrix Scaling of an Image'''\n",
    "\n",
    "color_channel = np.copy(block[:,:,0])   # copy the red channel\n",
    "\n",
    "color_channel /= color_channel.max()    # scale to gray, 0-255 values\n",
    "color_channel *= 255\n",
    "gray_channel  = color_channel.astype(int) # truncate all float data type to int\n",
    "\n",
    "plt.figure(3)\n",
    "plt.imshow(gray_channel, cmap='gray')\n",
    "#plt.imshow(gray_channel)\n",
    "\n",
    "plt.title('Matrix Gray Scaling',fontsize=14)\n",
    "plt.show()"
   ]
  },
  {
   "cell_type": "markdown",
   "metadata": {},
   "source": [
    "#### [Element-by-element mathematical operations](#toc)<a id=\"matops\"></a>"
   ]
  },
  {
   "cell_type": "code",
   "execution_count": null,
   "metadata": {},
   "outputs": [],
   "source": [
    "'''Other Mathematical Operations on a Matrix'''\n",
    "\n",
    "mtrx = np.copy(block[:,:,0])    # copy the red channel\n",
    "\n",
    "plt.figure(4)\n",
    "plt.imshow(mtrx, cmap='gray')              # show channel as a flat image with default colormap\n",
    "plt.title('Original', fontsize=14)\n",
    "plt.show()\n",
    "\n",
    "mtrx_mean = mtrx.mean()         # arithmetic mean\n",
    "print('mean(mtrx) =', mtrx_mean)\n",
    "\n",
    "mtrx_std = mtrx.std()           # standard deviation\n",
    "print('std(mtrx) =', mtrx_std)"
   ]
  },
  {
   "cell_type": "code",
   "execution_count": null,
   "metadata": {},
   "outputs": [],
   "source": [
    "'''Other Mathematical Operations on a Matrix'''\n",
    "\n",
    "log_mtrx = np.log(mtrx + .001)  # natural log element-by-element\n",
    "\n",
    "plt.figure(5)\n",
    "plt.imshow(log_mtrx, cmap='gray')\n",
    "plt.title('Log Transform', fontsize=14)\n",
    "plt.show()\n",
    "\n",
    "mtrx_mean = log_mtrx.mean()         # arithmetic mean\n",
    "print('mean(mtrx) =', mtrx_mean)\n",
    "\n",
    "mtrx_std = log_mtrx.std()           # standard deviation\n",
    "print('std(mtrx) =', mtrx_std)"
   ]
  },
  {
   "cell_type": "code",
   "execution_count": null,
   "metadata": {},
   "outputs": [],
   "source": [
    "'''Other Mathematical Operations on a Matrix'''\n",
    "\n",
    "exp_mtrx = np.exp(log_mtrx)     # exponential\n",
    "\n",
    "plt.figure(6)\n",
    "plt.imshow(exp_mtrx)\n",
    "plt.title('Exp of Log Transform', fontsize=14)\n",
    "plt.show()\n",
    "\n",
    "mtrx_mean = exp_mtrx.mean()         # arithmetic mean\n",
    "print('mean(mtrx) =', mtrx_mean)\n",
    "\n",
    "mtrx_std = exp_mtrx.std()           # standard deviation\n",
    "print('std(mtrx) =', mtrx_std)"
   ]
  },
  {
   "cell_type": "code",
   "execution_count": null,
   "metadata": {},
   "outputs": [],
   "source": [
    "'''Other Mathematical Operations on a Matrix'''\n",
    "\n",
    "sin_mtrx = np.sin(mtrx + np.pi/2)  # sine\n",
    "\n",
    "plt.figure(7)\n",
    "plt.imshow(sin_mtrx)\n",
    "plt.title('Sine Transform', fontsize=14)\n",
    "plt.show()\n",
    "\n",
    "mtrx_mean = sin_mtrx.mean()         # arithmetic mean\n",
    "print('mean(mtrx) =', mtrx_mean)\n",
    "\n",
    "mtrx_std = sin_mtrx.std()           # standard deviation\n",
    "print('std(mtrx) =', mtrx_std)"
   ]
  },
  {
   "cell_type": "code",
   "execution_count": null,
   "metadata": {},
   "outputs": [],
   "source": [
    "'''Other Mathematical Operations on a Matrix'''\n",
    "\n",
    "mtrx_cubed = mtrx**3  # powers\n",
    "\n",
    "plt.figure(8)\n",
    "plt.imshow(mtrx_cubed, cmap='gray')\n",
    "plt.title('Cube Transform', fontsize=14)\n",
    "plt.show()\n",
    "\n",
    "mtrx_mean = mtrx_cubed.mean()         # arithmetic mean\n",
    "print('mean(mtrx) =', mtrx_mean)\n",
    "\n",
    "mtrx_std = mtrx_cubed.std()           # standard deviation\n",
    "print('std(mtrx) =', mtrx_std)"
   ]
  },
  {
   "cell_type": "markdown",
   "metadata": {},
   "source": [
    "#### [Transposition](#toc)<a id=\"mattransp\"></a>"
   ]
  },
  {
   "cell_type": "code",
   "execution_count": null,
   "metadata": {},
   "outputs": [],
   "source": [
    "'''Matrix Transposition'''\n",
    "'''clockwise rotation followed by horizontal right to left flip'''\n",
    "\n",
    "mtrx = np.random.random((5,7))\n",
    "\n",
    "np.set_printoptions(precision=3,threshold=20,edgeitems=12,linewidth=100) # one way to control printing of numpy arrays\n",
    "\n",
    "print('mtrx =\\n',mtrx)\n",
    "\n",
    "mtrx_T = mtrx.transpose()       # transpose of a mtrx: M[i,j] -> M[j,i]\n",
    "\n",
    "print('mtrx^T =\\n',mtrx_T)"
   ]
  },
  {
   "cell_type": "code",
   "execution_count": null,
   "metadata": {},
   "outputs": [],
   "source": [
    "'''Matrix Transposition'''\n",
    "'''Example of adding a transformed matrix to another transform transposed'''\n",
    "\n",
    "'''note: to add a matrix to its transpose, a matrix must be square'''\n",
    "\n",
    "n_rows = block.shape[0]\n",
    "n_columns = n_rows\n",
    "\n",
    "mtrx = np.copy(block[:n_rows,:n_columns,0])   # select a square block; red channel\n",
    "\n",
    "sin_mtrx = np.sin(mtrx + np.pi/2)  # sine\n",
    "\n",
    "sin_mtrx /= sin_mtrx.max()\n",
    "plt.figure(9)\n",
    "plt.imshow(sin_mtrx)\n",
    "plt.title('Sine Transform', fontsize=14)\n",
    "plt.show()\n",
    "\n",
    "mtrx_cubed = mtrx**3                # powers\n",
    "\n",
    "plt.figure(10)\n",
    "plt.imshow(mtrx_cubed)\n",
    "plt.title('Cube Transform', fontsize=14)\n",
    "plt.show()\n",
    "\n",
    "plt.figure(11)\n",
    "plt.imshow(sin_mtrx + mtrx_cubed.transpose())    # sine + cubed transposed\n",
    "plt.title('Sine + Cube Transpose Transform', fontsize=14)\n",
    "plt.show()"
   ]
  },
  {
   "cell_type": "markdown",
   "metadata": {},
   "source": [
    "#### [Element-by-element search](#toc)<a id=\"matsearch\"></a>"
   ]
  },
  {
   "cell_type": "code",
   "execution_count": null,
   "metadata": {},
   "outputs": [],
   "source": [
    "'''Searching a matrix for entries matching a test'''\n",
    "\n",
    "# what are the indices of the values in \"mtrx\" that satisfy: mtrx >= 0.3\n",
    "(idx_ids, jdx_ids) = np.where(mtrx >= 0.3) \n",
    "\n",
    "np.set_printoptions(precision=3, threshold=20, edgeitems=5, linewidth=100) \n",
    "\n",
    "print('matrix =\\n', mtrx)\n",
    "print('ith indices = ',idx_ids)\n",
    "print('jth indices = ',jdx_ids)"
   ]
  },
  {
   "cell_type": "code",
   "execution_count": null,
   "metadata": {},
   "outputs": [],
   "source": [
    "'''Verify the searched elements'''\n",
    "\n",
    "mtrx[idx_ids, jdx_ids].min()"
   ]
  },
  {
   "cell_type": "code",
   "execution_count": null,
   "metadata": {},
   "outputs": [],
   "source": [
    "mtrx[idx_ids, jdx_ids].shape"
   ]
  },
  {
   "cell_type": "code",
   "execution_count": null,
   "metadata": {},
   "outputs": [],
   "source": [
    "mtrx[idx_ids, jdx_ids].dtype"
   ]
  },
  {
   "cell_type": "code",
   "execution_count": null,
   "metadata": {},
   "outputs": [],
   "source": []
  }
 ],
 "metadata": {
  "kernelspec": {
   "display_name": "Python 3 (ipykernel)",
   "language": "python",
   "name": "python3"
  },
  "language_info": {
   "codemirror_mode": {
    "name": "ipython",
    "version": 3
   },
   "file_extension": ".py",
   "mimetype": "text/x-python",
   "name": "python",
   "nbconvert_exporter": "python",
   "pygments_lexer": "ipython3",
   "version": "3.8.16"
  },
  "latex_envs": {
   "LaTeX_envs_menu_present": true,
   "autoclose": false,
   "autocomplete": true,
   "bibliofile": "biblio.bib",
   "cite_by": "apalike",
   "current_citInitial": 1,
   "eqLabelWithNumbers": true,
   "eqNumInitial": 1,
   "hotkeys": {
    "equation": "Ctrl-E",
    "itemize": "Ctrl-I"
   },
   "labels_anchors": false,
   "latex_user_defs": false,
   "report_style_numbering": false,
   "user_envs_cfg": false
  }
 },
 "nbformat": 4,
 "nbformat_minor": 2
}
