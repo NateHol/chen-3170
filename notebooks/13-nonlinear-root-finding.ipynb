{
 "cells": [
  {
   "cell_type": "markdown",
   "metadata": {},
   "source": [
    "ChEn-3170: Computational Methods in Chemical Engineering Fall 2021 UMass Lowell; Prof. V. F. de Almeida **09Nov21**\n",
    "\n",
    "# 13. Non-Linear Equation Root Finding w/ Newton's Method\n",
    "$  \n",
    "  \\newcommand{\\Amtrx}{\\boldsymbol{\\mathsf{A}}}\n",
    "  \\newcommand{\\Bmtrx}{\\boldsymbol{\\mathsf{B}}}\n",
    "  \\newcommand{\\Mmtrx}{\\boldsymbol{\\mathsf{M}}}\n",
    "  \\newcommand{\\Imtrx}{\\boldsymbol{\\mathsf{I}}}\n",
    "  \\newcommand{\\Pmtrx}{\\boldsymbol{\\mathsf{P}}}\n",
    "  \\newcommand{\\Lmtrx}{\\boldsymbol{\\mathsf{L}}}\n",
    "  \\newcommand{\\Umtrx}{\\boldsymbol{\\mathsf{U}}}\n",
    "  \\newcommand{\\Smtrx}{\\boldsymbol{\\mathsf{S}}}\n",
    "  \\newcommand{\\xvec}{\\boldsymbol{\\mathsf{x}}}\n",
    "  \\newcommand{\\avec}{\\boldsymbol{\\mathsf{a}}}\n",
    "  \\newcommand{\\bvec}{\\boldsymbol{\\mathsf{b}}}\n",
    "  \\newcommand{\\cvec}{\\boldsymbol{\\mathsf{c}}}\n",
    "  \\newcommand{\\rvec}{\\boldsymbol{\\mathsf{r}}}\n",
    "  \\newcommand{\\mvec}{\\boldsymbol{\\mathsf{m}}}\n",
    "  \\newcommand{\\gvec}{\\boldsymbol{\\mathsf{g}}}\n",
    "  \\newcommand{\\zerovec}{\\boldsymbol{\\mathsf{0}}}\n",
    "  \\newcommand{\\norm}[1]{\\bigl\\lVert{#1}\\bigr\\rVert}\n",
    "  \\newcommand{\\abs}[1]{\\left\\lvert{#1}\\right\\rvert}\n",
    "  \\newcommand{\\transpose}[1]{{#1}^\\top}\n",
    "  \\DeclareMathOperator{\\rank}{rank}\n",
    "$"
   ]
  },
  {
   "cell_type": "markdown",
   "metadata": {},
   "source": [
    "---\n",
    "## Table of Contents <a id=\"toc\"></a>\n",
    "* [Introduction](#intro)\n",
    "* [Algorithm](#algo)\n",
    "* [Input Data 1](#data1)\n",
    " - [Plot Root Function](#prf1)\n",
    " - [Plot Root 1](#prf11)\n",
    " - [Plot Root 2](#prf12)\n",
    "* [Input Data 2](#data2)\n",
    " - [Plot Root Function](#prf2)\n",
    " - [Plot Root 1](#prf21)\n",
    "* [Inverse Problem (Forensics and/or Reverse Engineering)](#inv)\n",
    "---"
   ]
  },
  {
   "cell_type": "markdown",
   "metadata": {},
   "source": [
    "## [Introduction](#toc)<a id=\"intro\"></a>\n",
    "Newton's method for computing roots of a single non-linear equation, $f(x)=0$, arising from chemical reaction equilibrium is described in the course notes OneNote [ChEn-3170-nonlinalg-a](https://studentuml-my.sharepoint.com/:o:/g/personal/valmor_dealmeida_uml_edu/EiOLnf9i8axPnj9XBsjfp18BRWcdbHzNo4GWPu-Sjqi-1A?e=gUSxlv). The reaction\n",
    "\n",
    "\\begin{equation*}\n",
    "\\text{A} + \\text{B} \\overset{K_x}{\\longleftrightarrow} \\text{C}   ,\n",
    "\\end{equation*}\n",
    "\n",
    "is used as a model, that is, compute $x_A$, $x_B$, $x_C$ for the given stoichiometry and molar equilibrium reaction constant $K_x$, where \n",
    "\n",
    "\\begin{equation*}\n",
    "K_x = \\frac{x_C}{x_A\\,x_B}.\n",
    "\\end{equation*}\n",
    "\n",
    "\n",
    "Note that this information is not sufficient for computing the equilibrium molar fraction. In addition, it is required that the molar fraction of **any two species is known** at some point in time or as a reference, say $x_{A_0}$, and $x_{B_0}$; note $x_{A_0} + x_{B_0} + x_{C_0} = 1$.\n",
    "\n",
    "The normalized extent of reaction, $\\widehat{\\varepsilon}$, at equilibrium, satisfies the equilibrium condition\n",
    "\n",
    "\\begin{equation*}\n",
    "\\bigl(K_x+1\\bigr) {\\widehat{\\varepsilon}}^2  - \n",
    "\\bigl(1-x_{C_0}\\bigr) \\bigl(K_x+1\\bigr) \\widehat{\\varepsilon} + x_{A_0}\\,x_{B_0}\\,K_x - x_{C_0} = 0 ,\n",
    "\\end{equation*}\n",
    "\n",
    "**for this particular stoichiometry**. Therefore this can be casted as $f_\\text{eq} (\\widehat{\\varepsilon}) = 0$, which is the form we need to use Newton's method on, thus \n",
    "\n",
    "\\begin{equation*}\n",
    "f_\\text{eq} (\\widehat{\\varepsilon}; x_{A_0}, x_{B_0}, x_{C_0}, K_x) = \n",
    "\\bigl(K_x+1\\bigr) {\\widehat{\\varepsilon}}^2  - \n",
    "\\bigl(1-x_{C_0}\\bigr) \\bigl(K_x+1\\bigr) \\widehat{\\varepsilon} + x_{A_0}\\,x_{B_0}\\,K_x - x_{C_0} = 0 .\n",
    "\\end{equation*}\n",
    "\n",
    "Note that if the stoichiometry changes, this function will be different.\n",
    "\n",
    "Once the values of $\\widehat{\\varepsilon}$ are found, the equilibrium molar fractions are computed from\n",
    "\n",
    "\\begin{equation*}\n",
    "x_A = \\frac{x_{A_0} - \\widehat{\\varepsilon}}{1 - \\widehat{\\varepsilon}} \\ \\qquad  ; \\qquad \\\n",
    "x_B = \\frac{x_{B_0} - \\widehat{\\varepsilon}}{1 - \\widehat{\\varepsilon}} \\ \\qquad  ; \\qquad \\\n",
    "x_C = \\frac{x_{C_0} + \\widehat{\\varepsilon}}{1 - \\widehat{\\varepsilon}}.\n",
    "\\end{equation*}\n",
    "\n",
    "Note the bounds on the normalized extent of reaction: $-x_{C_0} \\le \\widehat{\\varepsilon} \\le \\min(x_{A_0},x_{B_0})$, showing that the extent of reaction can be either positive (forward reaction) or negative (reverse reaction)."
   ]
  },
  {
   "cell_type": "code",
   "execution_count": 1,
   "metadata": {
    "ExecuteTime": {
     "end_time": "2022-03-29T16:15:42.823201Z",
     "start_time": "2022-03-29T16:15:42.812117Z"
    },
    "code_folding": [
     2
    ]
   },
   "outputs": [],
   "source": [
    "'''Equilibrium function at values or array values'''\n",
    "\n",
    "def f_eq(ext_hat, x_a_0, x_b_0, x_c_0, eq_kx_cte):\n",
    "    \"\"\"Root function f(ext_hat) for A + B <=> C.\n",
    "\n",
    "    Parameters\n",
    "    ----------\n",
    "    ext_hat: float or numpy.ndarray, required\n",
    "        Normalized extent of reaction. If `ext_hat` is an array, \n",
    "        the return value is also an array of values.\n",
    "    x_a_0: float, required\n",
    "        Mole fraction of species A.\n",
    "    x_b_0: float, required\n",
    "        Mole fraction of species B.\n",
    "    x_c_0: float, required\n",
    "        Mole fraction of species B.\n",
    "    eq_kx_cte: float, required\n",
    "        Mole equilibrium reaction constant.\n",
    "    \n",
    "    Returns\n",
    "    -------\n",
    "    value: float or numpy.ndarray\n",
    "        Value or array of values of the equilibrium function \n",
    "        evaluated at `ext_hat`.\n",
    "\n",
    "    Examples\n",
    "    --------\n",
    "    \"\"\"\n",
    "    # Sanity checks\n",
    "    assert x_a_0 >= 0. and x_b_0 >= 0. and x_c_0 >= 0 and eq_kx_cte >= 0.\n",
    "    assert abs(x_a_0 + x_b_0 + x_c_0 - 1.0) <= 1e-12\n",
    "           \n",
    "    value =   (eq_kx_cte+1)*ext_hat**2  \\\n",
    "            - (1-x_c_0)*(eq_kx_cte+1)*ext_hat \\\n",
    "            + x_a_0 * x_b_0 * eq_kx_cte - x_c_0\n",
    "        \n",
    "    return value"
   ]
  },
  {
   "cell_type": "code",
   "execution_count": 2,
   "metadata": {
    "ExecuteTime": {
     "end_time": "2022-03-29T16:15:46.936674Z",
     "start_time": "2022-03-29T16:15:46.932589Z"
    },
    "code_folding": [
     2
    ]
   },
   "outputs": [],
   "source": [
    "'''Equilibrium function derivative'''\n",
    "\n",
    "def f_eq_prime(ext_hat, x_c_0, eq_kx_cte):\n",
    "    \"\"\"Derivative of equilibrium function f'(ext_hat) for A + B <=> C.\n",
    "\n",
    "    Parameters\n",
    "    ----------\n",
    "    ext_hat: float or numpy.ndarray, required\n",
    "        Normalized extent of reaction\n",
    "    x_c_0: float, required\n",
    "        Mole fraction of species B\n",
    "    eq_kx_cte: float, required\n",
    "        Mole equilibrium reaction constant.\n",
    "    \n",
    "    Returns\n",
    "    -------\n",
    "    value: float or numpy.ndarray\n",
    "        Value or values of the root function evaluated at `ext_hat`.\n",
    "\n",
    "    Examples\n",
    "    --------\n",
    "    \"\"\"\n",
    "    # Sanity check\n",
    "    assert x_c_0 >= 0.0 and eq_kx_cte >= 0.0\n",
    "    \n",
    "    # f_eq = (eq_kx_cte+1)*ext_hat**2 - (1-x_c_0)*(eq_kx_cte+1)*ext_hat + x_a_0 * x_b_0 * eq_kx_cte - x_c_0       \n",
    "    value = 2.0*(eq_kx_cte+1)*ext_hat - (1-x_c_0)*(eq_kx_cte+1)\n",
    "        \n",
    "    return value"
   ]
  },
  {
   "cell_type": "markdown",
   "metadata": {},
   "source": [
    "## [Algorithm](#toc)<a id=\"algo\"></a>\n",
    "\n",
    "Given $f(\\cdot)$, find the roots \n",
    "\n",
    "\\begin{equation*}\n",
    "f(\\widehat{\\varepsilon}) = 0 ,\n",
    "\\end{equation*}\n",
    "\n",
    "using an iterative method based on the initial guess $\\widehat{\\varepsilon}_0$. Compute the updates\n",
    "\n",
    "\\begin{equation*}\n",
    "\\delta \\widehat{\\varepsilon}_k = - \\frac{f(\\widehat{\\varepsilon}_{k-1})}{f'(\\widehat{\\varepsilon}_{k-1})} \\ \\qquad \\  \\forall \\ \\qquad \\ k = 1,\\ldots,k_\\text{max} , \n",
    "\\end{equation*}\n",
    "\n",
    "then compute the approximation to the root\n",
    "\n",
    "\\begin{equation*}\n",
    " \\widehat{\\varepsilon}_k = \\widehat{\\varepsilon}_{k-1} + \\delta \\widehat{\\varepsilon}_k \\ \\qquad \\  \\forall \\ \\qquad\\ \\ k = 1,\\ldots,k_\\text{max} ,\n",
    "\\end{equation*}\n",
    "\n",
    "until convergence, say, $\\abs{\\delta \\widehat{\\varepsilon}_k} \\le 10^{-8}$ and $\\abs{f(\\widehat{\\varepsilon}_k)} \\le 10^{-8}$, or no convergence achieved , say $k>k_\\text{max}$. "
   ]
  },
  {
   "cell_type": "code",
   "execution_count": 3,
   "metadata": {
    "ExecuteTime": {
     "end_time": "2022-03-29T16:15:51.912648Z",
     "start_time": "2022-03-29T16:15:51.903070Z"
    },
    "code_folding": [
     2
    ]
   },
   "outputs": [],
   "source": [
    "'''Newton's method'''\n",
    "\n",
    "def newton_solve(x_a_0, x_b_0, x_c_0, eq_kx_cte,\n",
    "                 ext_hat_0=0.0, k_max=30, tolerance=1.0e-10, verbose=True):\n",
    "\n",
    "    # Other initialization\n",
    "    delta_k = 1e+10   # Newton's update\n",
    "    f_k     = 1e+10\n",
    "    ext_hat = ext_hat_0\n",
    "\n",
    "    if verbose is True:\n",
    "        print('\\n')\n",
    "        print('******************************************************')\n",
    "        print(\"          Newton's Method Iterations                  \")\n",
    "        print('******************************************************')\n",
    "        print(\"k |  f(e_k)  |  f'(e_k) | |del e_k| |    e_k   |convg|\")\n",
    "        print('------------------------------------------------------')\n",
    "\n",
    "    import math\n",
    "    \n",
    "    k = 0 # step counter\n",
    "    \n",
    "    while (abs(delta_k) > tolerance or abs(f_k) > tolerance) and k <= k_max:\n",
    "        \n",
    "        f_k       = f_eq(ext_hat, x_a_0, x_b_0, x_c_0, eq_kx_cte)\n",
    "        \n",
    "        f_prime_k = f_eq_prime(ext_hat, x_c_0, eq_kx_cte)\n",
    "        \n",
    "        delta_k_old = delta_k\n",
    "        \n",
    "        delta_k = -f_k / f_prime_k # Newton's update\n",
    "        \n",
    "        ext_hat += delta_k # do the update\n",
    "        \n",
    "        if k > 0:\n",
    "            if delta_k != 0.0 and delta_k_old != 0.0:\n",
    "                convergence_factor = math.log(abs(delta_k), 10) / math.log(abs(delta_k_old), 10)\n",
    "            else:\n",
    "                convergence_factor = 0.0  \n",
    "        else:\n",
    "            convergence_factor = 0.0\n",
    "            \n",
    "        k += 1 # increment counter\n",
    "        \n",
    "        if verbose is True:\n",
    "            print('%2i %+5.3e %+5.3e %+5.3e  %+5.3e %5.2f'%\\\n",
    "                  (k,f_k, f_prime_k, abs(delta_k), ext_hat, convergence_factor))\n",
    "            \n",
    "    # Exit the while loop here\n",
    "    if verbose is True:\n",
    "        print('******************************************************') \n",
    "        print('Root = %8.5e'%ext_hat)\n",
    "    \n",
    "    return ext_hat"
   ]
  },
  {
   "cell_type": "markdown",
   "metadata": {},
   "source": [
    "## [Input Data 1](#toc)<a id=\"data1\"></a>\n",
    "\n",
    "Reversible reaction: \n",
    "$\\text{A} + \\text{B} \\overset{K_x}{\\longleftrightarrow} \\text{C}$\n",
    "\n",
    "Name                        | Parameter    | Value |\n",
    "----------------------------|--------------|-------| \n",
    "initial mole fraction of A  | $x_{A_0}$    | 0.5   | \n",
    "initial mole fraction of B  | $x_{B_0}$    | 0.5   |\n",
    "initial mole fraction of C  | $x_{C_0}$    | 0.0   |\n",
    "molar equilibrium constant   | $K_\\text{x}$ | 108   | "
   ]
  },
  {
   "cell_type": "code",
   "execution_count": 4,
   "metadata": {
    "ExecuteTime": {
     "end_time": "2022-03-29T16:16:44.564061Z",
     "start_time": "2022-03-29T16:16:44.557925Z"
    }
   },
   "outputs": [
    {
     "name": "stdout",
     "output_type": "stream",
     "text": [
      "Min. ext_hat = -0.00\n",
      "Max. ext_hat =  0.50\n"
     ]
    }
   ],
   "source": [
    "'''Parameters for chemical equilibrium of A + B <-> C'''\n",
    "\n",
    "x_a_0 = 0.5 # initial (or ref) equimolar\n",
    "x_b_0 = 0.5 # initial (or ref) equimolar\n",
    "x_c_0 = 0.0 # initial (or ref) no product\n",
    "\n",
    "eq_kx_cte = 108.0\n",
    "\n",
    "# Sanity check\n",
    "assert abs(x_a_0 + x_b_0 + x_c_0 - 1.0) <= 1e-12\n",
    "assert x_a_0 >= 0. and x_b_0 >= 0. and x_c_0 >= 0 and eq_kx_cte >= 0.\n",
    "\n",
    "ext_hat_min = -x_c_0\n",
    "ext_hat_max = min(x_a_0, x_b_0)\n",
    "\n",
    "print('Min. ext_hat = %5.2f'%ext_hat_min)\n",
    "print('Max. ext_hat = %5.2f'%ext_hat_max)"
   ]
  },
  {
   "cell_type": "code",
   "execution_count": 5,
   "metadata": {
    "ExecuteTime": {
     "end_time": "2022-03-29T16:17:33.445173Z",
     "start_time": "2022-03-29T16:17:33.421227Z"
    },
    "code_folding": [
     2
    ]
   },
   "outputs": [],
   "source": [
    "'''Function: plot equilibrium function'''\n",
    "\n",
    "def plot_function(ex_min, ex_max, n_pts,\n",
    "                  x_a_0, x_b_0, x_c_0, eq_kx_cte,\n",
    "                  ext_hat_root=None  ):\n",
    "    \n",
    "    import matplotlib.pyplot as plt\n",
    "    %matplotlib inline\n",
    "    \n",
    "    plt.figure(1, figsize=(8, 6))\n",
    "    \n",
    "    import numpy as np\n",
    "    ex_vec = np.linspace(ex_min, ex_max, n_pts)\n",
    "    \n",
    "    plt.plot(ex_vec, f_eq(ex_vec, x_a_0, x_b_0, x_c_0, eq_kx_cte),'b-',label='$f_{eq}$')\n",
    "    \n",
    "    plt.xlabel(r'$\\hat{\\varepsilon}$',fontsize=18)\n",
    "    plt.ylabel(r'$f_{eq}(\\hat{\\varepsilon})$',fontsize=18)\n",
    "    plt.title('Computing the Roots of $f(x)$',fontsize=20)\n",
    "    plt.legend(loc='best',fontsize=12)\n",
    "    plt.xticks(fontsize=16)\n",
    "    plt.yticks(fontsize=16)\n",
    "    \n",
    "    (x_min,x_max) = plt.xlim()\n",
    "    dx = abs(x_max-x_min)\n",
    "    x_text = (x_max+x_min)/2\n",
    "    \n",
    "    (y_min,y_max) = plt.ylim()\n",
    "    dy = abs(y_max-y_min)\n",
    "    y_text = y_max - dy*0.05\n",
    "    \n",
    "    plt.text(x_text, y_text, r'$x_{A_0}=$%8.2e'%x_a_0,fontsize=16)\n",
    "    y_text -= dy*0.06\n",
    "    plt.text(x_text, y_text, r'$x_{B_0}=$%8.2e'%x_b_0,fontsize=16)\n",
    "    y_text -= dy*0.06\n",
    "    plt.text(x_text, y_text, r'$x_{C_0}=$%8.2e'%x_c_0,fontsize=16)\n",
    "    y_text -= dy*0.06\n",
    "    plt.text(x_text, y_text, r'$K_x=$%8.2e'%eq_kx_cte,fontsize=16)\n",
    "    \n",
    "    \n",
    "    if ext_hat_root is not None:\n",
    "        \n",
    "        plt.plot(ext_hat_root, 0.0,'r*',label='root',markersize=14)\n",
    "               \n",
    "        (x_min,x_max) = plt.xlim()\n",
    "        dx = abs(x_max-x_min)\n",
    "        x_text = ext_hat_root + dx*0.01\n",
    "    \n",
    "        (y_min,y_max) = plt.ylim()\n",
    "        dy = abs(y_max-y_min)\n",
    "        y_text = 0.0 + dy*0.01\n",
    "    \n",
    "        plt.text(x_text, y_text, r'$\\hat{\\varepsilon}^*=$%8.2e'%ext_hat_root,fontsize=16)\n",
    "    \n",
    "    \n",
    "    plt.grid(True)\n",
    "    plt.show()\n",
    "    print('')\n",
    "    \n",
    "    return"
   ]
  },
  {
   "cell_type": "markdown",
   "metadata": {},
   "source": [
    "### [Plot Root Function](#toc)<a id=\"prf1\"></a>"
   ]
  },
  {
   "cell_type": "code",
   "execution_count": 6,
   "metadata": {
    "ExecuteTime": {
     "end_time": "2022-03-29T16:17:40.891892Z",
     "start_time": "2022-03-29T16:17:39.227294Z"
    }
   },
   "outputs": [
    {
     "data": {
      "image/png": "[encoded data removed]",
      "text/plain": [
       "<Figure size 576x432 with 1 Axes>"
      ]
     },
     "metadata": {
      "needs_background": "light"
     },
     "output_type": "display_data"
    },
    {
     "name": "stdout",
     "output_type": "stream",
     "text": [
      "\n"
     ]
    }
   ],
   "source": [
    "'''Plot equilibrium function'''\n",
    "\n",
    "n_pts = 100\n",
    "\n",
    "plot_function(ext_hat_min, ext_hat_max, n_pts, x_a_0, x_b_0, x_c_0, eq_kx_cte)"
   ]
  },
  {
   "cell_type": "code",
   "execution_count": 7,
   "metadata": {
    "ExecuteTime": {
     "end_time": "2022-03-29T16:18:36.143384Z",
     "start_time": "2022-03-29T16:18:36.135643Z"
    },
    "code_folding": []
   },
   "outputs": [
    {
     "name": "stdout",
     "output_type": "stream",
     "text": [
      "\n",
      "\n",
      "******************************************************\n",
      "          Newton's Method Iterations                  \n",
      "******************************************************\n",
      "k |  f(e_k)  |  f'(e_k) | |del e_k| |    e_k   |convg|\n",
      "------------------------------------------------------\n",
      " 1 +6.562e+00 -5.450e+01 +1.204e-01  +3.704e-01  0.00\n",
      " 2 +1.580e+00 -2.825e+01 +5.594e-02  +4.264e-01  1.36\n",
      " 3 +3.411e-01 -1.605e+01 +2.125e-02  +4.476e-01  1.34\n",
      " 4 +4.922e-02 -1.142e+01 +4.309e-03  +4.519e-01  1.41\n",
      " 5 +2.024e-03 -1.048e+01 +1.931e-04  +4.521e-01  1.57\n",
      " 6 +4.063e-06 -1.044e+01 +3.892e-07  +4.521e-01  1.73\n",
      " 7 +1.651e-11 -1.044e+01 +1.581e-12  +4.521e-01  1.84\n",
      "******************************************************\n",
      "Root = 4.52109e-01\n",
      "\n",
      "Equilibrium mole fractions:\n",
      "\n",
      "x_a = 8.741e-02 ( 8.7%)\n",
      "x_b = 8.741e-02 ( 8.7%)\n",
      "x_c = 8.252e-01 (82.5%)\n"
     ]
    }
   ],
   "source": [
    "'''Find root and equilibrium molar fractions'''\n",
    "\n",
    "ext_hat_0 = (ext_hat_max + ext_hat_min)/2.0  # initial guess\n",
    "\n",
    "k_max = 20         # maximum # of Newton iterations\n",
    "tolerance = 1.0e-8 # convergence tolerance\n",
    "\n",
    "ext_hat = newton_solve(x_a_0, x_b_0, x_c_0, eq_kx_cte,\n",
    "                       ext_hat_0, k_max, tolerance)\n",
    "\n",
    "x_a = (x_a_0 - ext_hat)/(1.0-ext_hat)\n",
    "x_b = (x_b_0 - ext_hat)/(1.0-ext_hat)\n",
    "x_c = (x_c_0 + ext_hat)/(1.0-ext_hat)\n",
    "\n",
    "# Sanity checks\n",
    "assert x_a >= 0. and x_b >= 0. and x_c >= 0.\n",
    "assert abs(x_a + x_b + x_c - 1.0) <= 1e-12\n",
    "assert abs(x_c/x_a/x_b - eq_kx_cte) <= 1e-10,'%r'%(abs(x_c/x_a/x_b - eq_kx_cte))\n",
    "\n",
    "print('')\n",
    "print('Equilibrium mole fractions:\\n')\n",
    "print('x_a = %5.3e (%4.1f%%)'%(x_a,round(x_a*100,1)))\n",
    "print('x_b = %5.3e (%4.1f%%)'%(x_b,round(x_b*100,1)))\n",
    "print('x_c = %5.3e (%4.1f%%)'%(x_c,round(x_c*100,1)))"
   ]
  },
  {
   "cell_type": "markdown",
   "metadata": {},
   "source": [
    "### [Plot Root 1](#toc)<a id=\"prf11\"></a>"
   ]
  },
  {
   "cell_type": "code",
   "execution_count": 8,
   "metadata": {
    "ExecuteTime": {
     "end_time": "2022-03-29T16:19:31.626466Z",
     "start_time": "2022-03-29T16:19:31.329821Z"
    }
   },
   "outputs": [
    {
     "data": {
      "image/png": "[encoded data removed]",
      "text/plain": [
       "<Figure size 576x432 with 1 Axes>"
      ]
     },
     "metadata": {
      "needs_background": "light"
     },
     "output_type": "display_data"
    },
    {
     "name": "stdout",
     "output_type": "stream",
     "text": [
      "\n"
     ]
    }
   ],
   "source": [
    "'''Plot equilibrium function with root'''\n",
    "\n",
    "n_pts = 100\n",
    "\n",
    "plot_function(ext_hat_min, ext_hat_max, n_pts, x_a_0, x_b_0, x_c_0, eq_kx_cte, ext_hat)"
   ]
  },
  {
   "cell_type": "code",
   "execution_count": 9,
   "metadata": {
    "ExecuteTime": {
     "end_time": "2022-03-29T16:20:20.807513Z",
     "start_time": "2022-03-29T16:20:20.799229Z"
    },
    "code_folding": []
   },
   "outputs": [
    {
     "name": "stdout",
     "output_type": "stream",
     "text": [
      "\n",
      "\n",
      "******************************************************\n",
      "          Newton's Method Iterations                  \n",
      "******************************************************\n",
      "k |  f(e_k)  |  f'(e_k) | |del e_k| |    e_k   |convg|\n",
      "------------------------------------------------------\n",
      " 1 +4.110e+00 +4.360e+01 +9.427e-02  +6.057e-01  0.00\n",
      " 2 +9.686e-01 +2.305e+01 +4.202e-02  +5.637e-01  1.34\n",
      " 3 +1.925e-01 +1.389e+01 +1.386e-02  +5.499e-01  1.35\n",
      " 4 +2.093e-02 +1.087e+01 +1.926e-03  +5.479e-01  1.46\n",
      " 5 +4.042e-04 +1.045e+01 +3.869e-05  +5.479e-01  1.62\n",
      " 6 +1.631e-07 +1.044e+01 +1.563e-08  +5.479e-01  1.77\n",
      " 7 +2.132e-14 +1.044e+01 +2.042e-15  +5.479e-01  1.88\n",
      "******************************************************\n",
      "Root = 5.47891e-01\n",
      "\n",
      "Equilibrium mole fractions:\n",
      "\n",
      "x_a = -1.059e-01 (-10.6%)\n",
      "x_b = -1.059e-01 (-10.6%)\n",
      "x_c = 1.212e+00 (121.2%)\n"
     ]
    }
   ],
   "source": [
    "'''Find root and equilibrium molar fractions'''\n",
    "\n",
    "ext_hat_0 = 0.7 # not valid; we know in advance but let's do it anyway\n",
    "\n",
    "k_max = 20\n",
    "\n",
    "tolerance = 1.0e-8\n",
    "\n",
    "ext_hat = newton_solve( x_a_0, x_b_0, x_c_0, eq_kx_cte,\n",
    "                        ext_hat_0,k_max,tolerance )\n",
    "\n",
    "x_a = (x_a_0 - ext_hat)/(1.0-ext_hat)\n",
    "x_b = (x_b_0 - ext_hat)/(1.0-ext_hat)\n",
    "x_c = (x_c_0 + ext_hat)/(1.0-ext_hat)\n",
    "\n",
    "# Sanity check is not going to pass\n",
    "#assert x_a >= 0. and x_b >= 0. and x_c >= 0.\n",
    "assert abs(x_a + x_b + x_c - 1.0) <= 1e-12\n",
    "assert abs(x_c/x_a/x_b - eq_kx_cte) <= 1e-10,'%r'%(abs(x_c/x_a/x_b - eq_kx_cte))\n",
    "\n",
    "print('')\n",
    "print('Equilibrium mole fractions:\\n')\n",
    "print('x_a = %5.3e (%4.1f%%)'%(x_a,round(x_a*100,1)))\n",
    "print('x_b = %5.3e (%4.1f%%)'%(x_b,round(x_b*100,1)))\n",
    "print('x_c = %5.3e (%4.1f%%)'%(x_c,round(x_c*100,1)))"
   ]
  },
  {
   "cell_type": "markdown",
   "metadata": {},
   "source": [
    "### [Plot Root 2](#toc)<a id=\"prf12\"></a>"
   ]
  },
  {
   "cell_type": "code",
   "execution_count": 10,
   "metadata": {
    "ExecuteTime": {
     "end_time": "2022-03-29T16:21:16.561340Z",
     "start_time": "2022-03-29T16:21:16.317267Z"
    }
   },
   "outputs": [
    {
     "data": {
      "image/png": "[encoded data removed]",
      "text/plain": [
       "<Figure size 576x432 with 1 Axes>"
      ]
     },
     "metadata": {
      "needs_background": "light"
     },
     "output_type": "display_data"
    },
    {
     "name": "stdout",
     "output_type": "stream",
     "text": [
      "\n"
     ]
    }
   ],
   "source": [
    "'''Plot equilibrium function with root'''\n",
    "\n",
    "ext_hat_min = 0.0\n",
    "ext_hat_max = 1.0\n",
    "\n",
    "n_pts = 100\n",
    "\n",
    "plot_function(ext_hat_min, ext_hat_max, n_pts, x_a_0, x_b_0, x_c_0, eq_kx_cte, ext_hat)"
   ]
  },
  {
   "cell_type": "code",
   "execution_count": 11,
   "metadata": {
    "ExecuteTime": {
     "end_time": "2022-03-29T16:21:50.683604Z",
     "start_time": "2022-03-29T16:21:50.678246Z"
    },
    "scrolled": true
   },
   "outputs": [
    {
     "name": "stdout",
     "output_type": "stream",
     "text": [
      "\n",
      "\n",
      "******************************************************\n",
      "          Newton's Method Iterations                  \n",
      "******************************************************\n",
      "k |  f(e_k)  |  f'(e_k) | |del e_k| |    e_k   |convg|\n",
      "------------------------------------------------------\n",
      " 1 +0.000e+00 +1.044e+01 +0.000e+00  +5.479e-01  0.00\n",
      "******************************************************\n",
      "Root = 5.47891e-01\n"
     ]
    }
   ],
   "source": [
    "'''Find root at the root'''\n",
    "\n",
    "ext_hat_0 = ext_hat\n",
    "\n",
    "k_max = 20\n",
    "tolerance = 1.0e-8\n",
    "\n",
    "ext_hat = newton_solve(x_a_0, x_b_0, x_c_0, eq_kx_cte,\n",
    "                       ext_hat_0, k_max, tolerance)"
   ]
  },
  {
   "cell_type": "markdown",
   "metadata": {},
   "source": [
    "## [Input Data 2](#toc)<a id=\"data2\"></a>\n",
    "\n",
    "Reversible reaction: A + B <=> C \n",
    "\n",
    "Name                        | Parameter    | Value    |\n",
    "----------------------------|--------------|----------| \n",
    "initial mole fraction of A  | $x_{A0}$     | 0.5      |\n",
    "initial mole fraction of B  | $x_{B0}$     | 0.2      |\n",
    "initial mole fraction of C  | $x_{C0}$     | 0.3      |\n",
    "mole equilibrium constant   | $K_\\text{x}$ | 108      |"
   ]
  },
  {
   "cell_type": "code",
   "execution_count": 12,
   "metadata": {
    "ExecuteTime": {
     "end_time": "2022-03-29T16:22:42.541623Z",
     "start_time": "2022-03-29T16:22:42.536726Z"
    }
   },
   "outputs": [
    {
     "name": "stdout",
     "output_type": "stream",
     "text": [
      "Min. ext_hat = -0.30\n",
      "Max. ext_hat =  0.20\n"
     ]
    }
   ],
   "source": [
    "'''Parameters for chemical equilibrium of A + B <-> C'''\n",
    "\n",
    "x_a_0 = 0.5 # initial (or ref)\n",
    "x_b_0 = 0.2 # initial (or ref)\n",
    "x_c_0 = 0.3 # initial (or ref)\n",
    "\n",
    "eq_kx_cte = 108.0\n",
    "\n",
    "# Sanity checks\n",
    "assert abs(x_a_0 + x_b_0 + x_c_0 - 1.0) <= 1e-12\n",
    "assert x_a_0 >= 0. and x_b_0 >= 0. and x_c_0 >= 0. and eq_kx_cte >= 0.\n",
    "\n",
    "ext_hat_min = -x_c_0\n",
    "ext_hat_max = min(x_a_0,x_b_0)\n",
    "\n",
    "print('Min. ext_hat = %5.2f'%ext_hat_min)\n",
    "print('Max. ext_hat = %5.2f'%ext_hat_max)"
   ]
  },
  {
   "cell_type": "markdown",
   "metadata": {},
   "source": [
    "### [Plot Root Function](#toc)<a id=\"prf2\"></a>"
   ]
  },
  {
   "cell_type": "code",
   "execution_count": 13,
   "metadata": {
    "ExecuteTime": {
     "end_time": "2022-03-29T16:22:50.826237Z",
     "start_time": "2022-03-29T16:22:50.561685Z"
    }
   },
   "outputs": [
    {
     "data": {
      "image/png": "[encoded data removed]",
      "text/plain": [
       "<Figure size 576x432 with 1 Axes>"
      ]
     },
     "metadata": {
      "needs_background": "light"
     },
     "output_type": "display_data"
    },
    {
     "name": "stdout",
     "output_type": "stream",
     "text": [
      "\n"
     ]
    }
   ],
   "source": [
    "'''Plot equilibrium function'''\n",
    "\n",
    "n_pts = 100\n",
    "\n",
    "plot_function( ext_hat_min, ext_hat_max, n_pts, x_a_0, x_b_0, x_c_0, eq_kx_cte )"
   ]
  },
  {
   "cell_type": "code",
   "execution_count": 14,
   "metadata": {
    "ExecuteTime": {
     "end_time": "2022-03-29T16:23:07.239037Z",
     "start_time": "2022-03-29T16:23:07.230669Z"
    },
    "scrolled": false
   },
   "outputs": [
    {
     "name": "stdout",
     "output_type": "stream",
     "text": [
      "\n",
      "\n",
      "******************************************************\n",
      "          Newton's Method Iterations                  \n",
      "******************************************************\n",
      "k |  f(e_k)  |  f'(e_k) | |del e_k| |    e_k   |convg|\n",
      "------------------------------------------------------\n",
      " 1 +1.459e+01 -8.720e+01 +1.673e-01  +1.173e-01  0.00\n",
      " 2 +3.050e+00 -5.073e+01 +6.013e-02  +1.774e-01  1.57\n",
      " 3 +3.941e-01 -3.762e+01 +1.047e-02  +1.879e-01  1.62\n",
      " 4 +1.196e-02 -3.534e+01 +3.384e-04  +1.882e-01  1.75\n",
      " 5 +1.248e-05 -3.527e+01 +3.539e-07  +1.882e-01  1.86\n",
      " 6 +1.365e-11 -3.527e+01 +3.872e-13  +1.882e-01  1.92\n",
      "******************************************************\n",
      "Root = 1.88229e-01\n",
      "\n",
      "Equilibrium mole fractions:\n",
      "\n",
      "x_a = 3.841e-01 (38.4%)\n",
      "x_b = 1.450e-02 ( 1.4%)\n",
      "x_c = 6.014e-01 (60.1%)\n"
     ]
    }
   ],
   "source": [
    "'''Find root and equilibrium molar fractions'''\n",
    "\n",
    "ext_hat_0 = (ext_hat_max+ext_hat_min)/2.0\n",
    "\n",
    "k_max = 20\n",
    "tolerance = 1.0e-8\n",
    "\n",
    "ext_hat = newton_solve( x_a_0, x_b_0, x_c_0, eq_kx_cte,\n",
    "                        ext_hat_0,k_max,tolerance )\n",
    "\n",
    "x_a = (x_a_0 - ext_hat)/(1.0-ext_hat)\n",
    "x_b = (x_b_0 - ext_hat)/(1.0-ext_hat)\n",
    "x_c = (x_c_0 + ext_hat)/(1.0-ext_hat)\n",
    "\n",
    "# Sanity checks\n",
    "assert x_a >= 0. and x_b >= 0. and x_c >= 0.\n",
    "assert abs(x_a + x_b + x_c - 1.0) <= 1e-12\n",
    "assert abs(x_c/x_a/x_b - eq_kx_cte) <= 1e-10,'%r'%(abs(x_c/x_a/x_b - eq_kx_cte))\n",
    "\n",
    "print('')\n",
    "print('Equilibrium mole fractions:\\n')\n",
    "print('x_a = %5.3e (%4.1f%%)'%(x_a,round(x_a*100,1)))\n",
    "print('x_b = %5.3e (%4.1f%%)'%(x_b,round(x_b*100,1)))\n",
    "print('x_c = %5.3e (%4.1f%%)'%(x_c,round(x_c*100,1)))"
   ]
  },
  {
   "cell_type": "markdown",
   "metadata": {},
   "source": [
    "### [Plot Root 1](#toc)<a id=\"prf21\"></a>"
   ]
  },
  {
   "cell_type": "code",
   "execution_count": 15,
   "metadata": {
    "ExecuteTime": {
     "end_time": "2022-03-29T16:23:34.436714Z",
     "start_time": "2022-03-29T16:23:34.152820Z"
    }
   },
   "outputs": [
    {
     "data": {
      "image/png": "[encoded data removed]",
      "text/plain": [
       "<Figure size 576x432 with 1 Axes>"
      ]
     },
     "metadata": {
      "needs_background": "light"
     },
     "output_type": "display_data"
    },
    {
     "name": "stdout",
     "output_type": "stream",
     "text": [
      "\n"
     ]
    }
   ],
   "source": [
    "'''Plot equilibrium function with root'''\n",
    "\n",
    "n_pts = 100\n",
    "\n",
    "plot_function(ext_hat_min, ext_hat_max, n_pts, x_a_0, x_b_0, x_c_0, eq_kx_cte, ext_hat)"
   ]
  },
  {
   "cell_type": "markdown",
   "metadata": {},
   "source": [
    "## [Inverse Problem (Forensics and Reverse Engineering)](#toc)<a id=\"inv\"></a>\n",
    "Someone is interested in the answers to the questions:\n",
    "\n",
    "1. If we know equilibrium molar fractions $x_A$, $x_B$ and $x_C$, could a unique initial (reference) $x_{A_0} , x_{B_0}, x_{C_0}$ be computed? if not unique, how many exist?\n",
    "2. What could we say about the initial (reference)  values $x_{A_0} , x_{B_0}, x_{C_0}$?"
   ]
  },
  {
   "cell_type": "code",
   "execution_count": 16,
   "metadata": {
    "ExecuteTime": {
     "end_time": "2022-03-29T16:36:32.052214Z",
     "start_time": "2022-03-29T16:36:32.046911Z"
    }
   },
   "outputs": [
    {
     "name": "stdout",
     "output_type": "stream",
     "text": [
      "Min. ext_hat = -0.02\n",
      "Max. ext_hat =  0.34\n"
     ]
    }
   ],
   "source": [
    "'''Let us compute an equilibrium molar fraction'''\n",
    "\n",
    "x_a_0 = 0.34\n",
    "x_b_0 = 0.64\n",
    "x_c_0 = 0.02\n",
    "\n",
    "# Sanity checks\n",
    "assert abs(x_a_0 + x_b_0 + x_c_0 - 1.0) <= 1e-12\n",
    "assert x_a_0 >= 0. and x_b_0 >= 0. and x_c_0 >= 0.\n",
    "\n",
    "eq_kx_cte = 56.8 #108.0\n",
    "\n",
    "ext_hat_min = -x_c_0\n",
    "ext_hat_max = min(x_a_0,x_b_0)\n",
    "\n",
    "print('Min. ext_hat = %5.2f'%ext_hat_min)\n",
    "print('Max. ext_hat = %5.2f'%ext_hat_max)"
   ]
  },
  {
   "cell_type": "code",
   "execution_count": 17,
   "metadata": {
    "ExecuteTime": {
     "end_time": "2022-03-29T16:36:51.120519Z",
     "start_time": "2022-03-29T16:36:51.112571Z"
    }
   },
   "outputs": [
    {
     "name": "stdout",
     "output_type": "stream",
     "text": [
      "\n",
      "\n",
      "******************************************************\n",
      "          Newton's Method Iterations                  \n",
      "******************************************************\n",
      "k |  f(e_k)  |  f'(e_k) | |del e_k| |    e_k   |convg|\n",
      "------------------------------------------------------\n",
      " 1 +4.756e+00 -3.815e+01 +1.247e-01  +2.847e-01  0.00\n",
      " 2 +8.985e-01 -2.373e+01 +3.786e-02  +3.225e-01  1.57\n",
      " 3 +8.283e-02 -1.936e+01 +4.279e-03  +3.268e-01  1.67\n",
      " 4 +1.058e-03 -1.886e+01 +5.610e-05  +3.269e-01  1.79\n",
      " 5 +1.819e-07 -1.886e+01 +9.646e-09  +3.269e-01  1.89\n",
      " 6 +6.679e-15 -1.886e+01 +3.542e-16  +3.269e-01  1.93\n",
      "******************************************************\n",
      "Root = 3.26872e-01\n",
      "\n",
      "Equilibrium mole fractions:\n",
      "\n",
      "x_a_gold = 1.950e-02\n",
      "\n",
      "x_b_gold = 4.652e-01\n",
      "\n",
      "x_c_gold = 5.153e-01\n",
      "\n"
     ]
    }
   ],
   "source": [
    "'''Find root and the \"gold\" equilibrium molar fractions'''\n",
    "\n",
    "ext_hat_0 = (ext_hat_max+ext_hat_min)/2.0\n",
    "\n",
    "k_max = 20\n",
    "tolerance = 1.0e-8\n",
    "\n",
    "ext_hat = newton_solve(x_a_0, x_b_0, x_c_0, eq_kx_cte,\n",
    "                       ext_hat_0,k_max,tolerance)\n",
    "\n",
    "x_a_gold = (x_a_0 - ext_hat)/(1.0-ext_hat)\n",
    "x_b_gold = (x_b_0 - ext_hat)/(1.0-ext_hat)\n",
    "x_c_gold = (x_c_0 + ext_hat)/(1.0-ext_hat)\n",
    "\n",
    "# Sanity checks\n",
    "assert x_a_gold > 0. and x_b_gold > 0. and x_c_gold >= 0.\n",
    "assert abs(x_a_gold + x_b_gold + x_c_gold - 1.0) <= 1e-12\n",
    "assert abs(x_c_gold/x_a_gold/x_b_gold - eq_kx_cte) <= 1e-12,'%r'%(abs(x_c_gold/x_a_gold/x_b_gold - eq_kx_cte)) \n",
    "\n",
    "print('')\n",
    "print('Equilibrium mole fractions:\\n')\n",
    "print('x_a_gold = %5.3e\\n'%x_a_gold)\n",
    "print('x_b_gold = %5.3e\\n'%x_b_gold)\n",
    "print('x_c_gold = %5.3e\\n'%x_c_gold)"
   ]
  },
  {
   "cell_type": "code",
   "execution_count": 18,
   "metadata": {
    "ExecuteTime": {
     "end_time": "2022-03-29T16:37:26.378696Z",
     "start_time": "2022-03-29T16:37:26.367301Z"
    },
    "scrolled": true
   },
   "outputs": [
    {
     "name": "stdout",
     "output_type": "stream",
     "text": [
      "x_A_0 = 2.346e-01\n",
      "\n",
      "x_B_0 = 5.825e-01\n",
      "\n",
      "x_C_0 = 1.828e-01\n",
      "\n",
      "Min. ext_hat = -0.18\n",
      "Max. ext_hat =  0.23\n"
     ]
    }
   ],
   "source": [
    "'''Find the reference molar fractions'''\n",
    "\n",
    "try:\n",
    "    from chen_3170.toolkit import magic_molar_fractions\n",
    "except ModuleNotFoundError:\n",
    "    assert False, 'You need to provide your own magic_molar_fractions function here. Bailing out.'\n",
    "\n",
    "# this magic function returns reference molar fractions for given equilibrium molar fractions\n",
    "(x_a_0, x_b_0, x_c_0) = magic_molar_fractions(x_a_gold, x_b_gold, x_c_gold)\n",
    "\n",
    "print('x_A_0 = %5.3e\\n'%x_a_0)\n",
    "print('x_B_0 = %5.3e\\n'%x_b_0)\n",
    "print('x_C_0 = %5.3e\\n'%x_c_0)\n",
    "\n",
    "# Sanity checks\n",
    "assert abs(x_a_0 + x_b_0 + x_c_0 - 1.0) <= 1e-12\n",
    "assert x_a_0 >= 0. and x_b_0 >= 0. and x_c_0 >= 0.\n",
    "\n",
    "ext_hat_min = -x_c_0\n",
    "ext_hat_max = min(x_a_0,x_b_0)\n",
    "\n",
    "print('Min. ext_hat = %5.2f'%ext_hat_min)\n",
    "print('Max. ext_hat = %5.2f'%ext_hat_max)"
   ]
  },
  {
   "cell_type": "code",
   "execution_count": 19,
   "metadata": {
    "ExecuteTime": {
     "end_time": "2022-03-29T16:37:35.383676Z",
     "start_time": "2022-03-29T16:37:35.150325Z"
    }
   },
   "outputs": [
    {
     "data": {
      "image/png": "[encoded data removed]",
      "text/plain": [
       "<Figure size 576x432 with 1 Axes>"
      ]
     },
     "metadata": {
      "needs_background": "light"
     },
     "output_type": "display_data"
    },
    {
     "name": "stdout",
     "output_type": "stream",
     "text": [
      "\n"
     ]
    }
   ],
   "source": [
    "'''Plot equilibrium function'''\n",
    "\n",
    "n_pts = 100\n",
    "\n",
    "plot_function(ext_hat_min, ext_hat_max, n_pts, x_a_0, x_b_0, x_c_0, eq_kx_cte)"
   ]
  },
  {
   "cell_type": "code",
   "execution_count": 20,
   "metadata": {
    "ExecuteTime": {
     "end_time": "2022-03-29T16:37:40.942828Z",
     "start_time": "2022-03-29T16:37:40.934188Z"
    }
   },
   "outputs": [
    {
     "name": "stdout",
     "output_type": "stream",
     "text": [
      "\n",
      "\n",
      "******************************************************\n",
      "          Newton's Method Iterations                  \n",
      "******************************************************\n",
      "k |  f(e_k)  |  f'(e_k) | |del e_k| |    e_k   |convg|\n",
      "------------------------------------------------------\n",
      " 1 +6.396e+00 -4.424e+01 +1.446e-01  +1.705e-01  0.00\n",
      " 2 +1.208e+00 -2.752e+01 +4.390e-02  +2.144e-01  1.62\n",
      " 3 +1.114e-01 -2.245e+01 +4.962e-03  +2.193e-01  1.70\n",
      " 4 +1.423e-03 -2.188e+01 +6.505e-05  +2.194e-01  1.82\n",
      " 5 +2.446e-07 -2.187e+01 +1.119e-08  +2.194e-01  1.90\n",
      " 6 +6.328e-15 -2.187e+01 +2.894e-16  +2.194e-01  1.95\n",
      "******************************************************\n",
      "Root = 2.19407e-01\n",
      "\n",
      "Equilibrium mole fractions:\n",
      "\n",
      "x_a = 1.950e-02\n",
      "\n",
      "x_b = 4.652e-01\n",
      "\n",
      "x_c = 5.153e-01\n",
      "\n",
      "This matches the gold values.\n"
     ]
    }
   ],
   "source": [
    "'''Find root and equilibrium molar fractions'''\n",
    "\n",
    "ext_hat_0 = (ext_hat_max+ext_hat_min)/2.0\n",
    "\n",
    "k_max = 20\n",
    "tolerance = 1.0e-8\n",
    "\n",
    "ext_hat = newton_solve( x_a_0, x_b_0, x_c_0, eq_kx_cte,\n",
    "                        ext_hat_0,k_max,tolerance )\n",
    "\n",
    "x_a = (x_a_0 - ext_hat)/(1.0-ext_hat)\n",
    "x_b = (x_b_0 - ext_hat)/(1.0-ext_hat)\n",
    "x_c = (x_c_0 + ext_hat)/(1.0-ext_hat)\n",
    "\n",
    "# Sanity checks\n",
    "assert x_a >= 0. and x_b >= 0. and x_c >= 0.\n",
    "assert abs(x_a + x_b + x_c - 1.0) <= 1e-12\n",
    "assert abs(x_c/x_a/x_b - eq_kx_cte) <= 1e-10,'%r'%(abs(x_c/x_a/x_b - eq_kx_cte))\n",
    "\n",
    "print('')\n",
    "print('Equilibrium mole fractions:\\n')\n",
    "print('x_a = %5.3e\\n'%x_a)\n",
    "print('x_b = %5.3e\\n'%x_b)\n",
    "print('x_c = %5.3e\\n'%x_c)\n",
    "\n",
    "if abs(x_a - x_a_gold) + abs(x_b - x_b_gold) + abs(x_c - x_c_gold) <= 1e-12:\n",
    "    print('This matches the gold values.')\n",
    "else:\n",
    "    print('This DOES NOT match the gold values.')"
   ]
  },
  {
   "cell_type": "code",
   "execution_count": 21,
   "metadata": {
    "ExecuteTime": {
     "end_time": "2022-03-29T16:37:59.298246Z",
     "start_time": "2022-03-29T16:37:59.290330Z"
    },
    "code_folding": [
     2
    ]
   },
   "outputs": [],
   "source": [
    "'''Function: reference states'''\n",
    "\n",
    "def plot_ref_states(x_a_0, x_b_0, x_c_0,\n",
    "                     x_a, x_b, x_c ):\n",
    "    \n",
    "    import matplotlib.pyplot as plt\n",
    "    \n",
    "    plt.figure(1, figsize=(15, 6))\n",
    "    \n",
    "    plt.subplot(121) \n",
    "    \n",
    "    plt.plot(x_a_0, x_b_0,'b*',markersize=14)\n",
    "    \n",
    "    plt.xlim(0,1)\n",
    "    plt.ylim(0,1)\n",
    "    plt.xlabel(r'$x_{A_0}$',fontsize=18)\n",
    "    plt.ylabel(r'$x_{B_0}$',fontsize=18)\n",
    "    plt.title('Reference',fontsize=20)   \n",
    "    plt.xticks(fontsize=16)\n",
    "    plt.yticks(fontsize=16)\n",
    "    plt.grid(True)\n",
    "    \n",
    "    plt.subplot(122)\n",
    "    plt.plot(x_a, x_b,'go',markersize=14)\n",
    "    \n",
    "    plt.xlim(0,1)\n",
    "    plt.ylim(0,1)  \n",
    "    plt.xlabel(r'$x_{A}$',fontsize=18)\n",
    "    plt.ylabel(r'$x_{B}$',fontsize=18)\n",
    "    plt.title('Gold Equilibrium',fontsize=20)  \n",
    "    plt.xticks(fontsize=16)\n",
    "    plt.yticks(fontsize=16)\n",
    "    plt.grid(True)\n",
    "    \n",
    "    plt.show()\n",
    "    print('')\n",
    "    \n",
    "    return"
   ]
  },
  {
   "cell_type": "code",
   "execution_count": 22,
   "metadata": {
    "ExecuteTime": {
     "end_time": "2022-03-29T16:38:02.153656Z",
     "start_time": "2022-03-29T16:38:01.909480Z"
    }
   },
   "outputs": [
    {
     "data": {
      "image/png": "[encoded data removed]",
      "text/plain": [
       "<Figure size 1080x432 with 2 Axes>"
      ]
     },
     "metadata": {
      "needs_background": "light"
     },
     "output_type": "display_data"
    },
    {
     "name": "stdout",
     "output_type": "stream",
     "text": [
      "\n"
     ]
    }
   ],
   "source": [
    "'''Plot reference state'''\n",
    "\n",
    "plot_ref_states(x_a_0, x_b_0, x_c_0, x_a_gold, x_b_gold, x_c_gold)"
   ]
  },
  {
   "cell_type": "code",
   "execution_count": 23,
   "metadata": {
    "ExecuteTime": {
     "end_time": "2022-03-29T16:38:27.813470Z",
     "start_time": "2022-03-29T16:38:27.534846Z"
    }
   },
   "outputs": [
    {
     "name": "stdout",
     "output_type": "stream",
     "text": [
      "\n",
      "\n",
      "******************************************************\n",
      "          Newton's Method Iterations                  \n",
      "******************************************************\n",
      "k |  f(e_k)  |  f'(e_k) | |del e_k| |    e_k   |convg|\n",
      "------------------------------------------------------\n",
      " 1 +1.079e+01 -5.746e+01 +1.878e-01  -7.739e-02  0.00\n",
      " 2 +2.038e+00 -3.575e+01 +5.702e-02  -2.037e-02  1.71\n",
      " 3 +1.879e-01 -2.916e+01 +6.445e-03  -1.392e-02  1.76\n",
      " 4 +2.401e-03 -2.841e+01 +8.449e-05  -1.384e-02  1.86\n",
      " 5 +4.126e-07 -2.840e+01 +1.453e-08  -1.384e-02  1.92\n",
      " 6 +1.221e-14 -2.840e+01 +4.300e-16  -1.384e-02  1.96\n",
      "******************************************************\n",
      "Root = -1.38386e-02\n",
      "This matches the gold values.\n"
     ]
    },
    {
     "data": {
      "image/png": "[encoded data removed]",
      "text/plain": [
       "<Figure size 1080x432 with 2 Axes>"
      ]
     },
     "metadata": {
      "needs_background": "light"
     },
     "output_type": "display_data"
    },
    {
     "name": "stdout",
     "output_type": "stream",
     "text": [
      "\n"
     ]
    }
   ],
   "source": [
    "'''Let us do this one more time'''\n",
    "\n",
    "import numpy as np\n",
    "x_0 = np.zeros((3,2))\n",
    "\n",
    "x_0[:,0] = np.array([x_a_0, x_b_0, x_c_0]) # save previous reference molar fractions\n",
    "\n",
    "(x_a_0,x_b_0,x_c_0) = magic_molar_fractions(x_a_gold, x_b_gold, x_c_gold)\n",
    "\n",
    "ext_hat_min = -x_c_0\n",
    "ext_hat_max = min(x_a_0,x_b_0)\n",
    "\n",
    "ext_hat_0 = (ext_hat_max+ext_hat_min)/2.0\n",
    "\n",
    "ext_hat = newton_solve(x_a_0, x_b_0, x_c_0, eq_kx_cte,\n",
    "                       ext_hat_0, k_max, tolerance )\n",
    "\n",
    "x_a = (x_a_0 - ext_hat)/(1.0-ext_hat)\n",
    "x_b = (x_b_0 - ext_hat)/(1.0-ext_hat)\n",
    "x_c = (x_c_0 + ext_hat)/(1.0-ext_hat)\n",
    "\n",
    "if abs(x_a-x_a_gold) + abs(x_b-x_b_gold) + abs(x_c-x_c_gold) <= 1e-12:\n",
    "    print('This matches the gold values.')\n",
    "else:\n",
    "    print('This DOES NOT match the gold values.')\n",
    "\n",
    "x_0[:,1] = np.array([x_a_0,x_b_0,x_c_0])\n",
    "\n",
    "plot_ref_states( x_0[0,:], x_0[1,:], x_0[2,:], x_a_gold, x_b_gold, x_c_gold )"
   ]
  },
  {
   "cell_type": "markdown",
   "metadata": {},
   "source": [
    "**Could a unique $x_{A_0} , x_{B_0}, x_{C_0}$ be computed?** <br>\n",
    "**If not unique, how many exist?** <br>"
   ]
  },
  {
   "cell_type": "markdown",
   "metadata": {},
   "source": [
    "**So is it hopeless? or can we say something about the reference molar fractions?**"
   ]
  },
  {
   "cell_type": "code",
   "execution_count": 24,
   "metadata": {
    "ExecuteTime": {
     "end_time": "2022-03-29T16:41:03.042244Z",
     "start_time": "2022-03-29T16:41:02.762826Z"
    },
    "scrolled": false
   },
   "outputs": [
    {
     "name": "stdout",
     "output_type": "stream",
     "text": [
      "This matches the gold value.\n",
      "This matches the gold value.\n",
      "This matches the gold value.\n",
      "This matches the gold value.\n",
      "This matches the gold value.\n",
      "This matches the gold value.\n",
      "This matches the gold value.\n",
      "This matches the gold value.\n",
      "This matches the gold value.\n",
      "This matches the gold value.\n",
      "This matches the gold value.\n",
      "This matches the gold value.\n",
      "This matches the gold value.\n",
      "This matches the gold value.\n",
      "This matches the gold value.\n",
      "This matches the gold value.\n",
      "This matches the gold value.\n",
      "This matches the gold value.\n",
      "This matches the gold value.\n",
      "This matches the gold value.\n",
      "This matches the gold value.\n",
      "This matches the gold value.\n",
      "This matches the gold value.\n",
      "This matches the gold value.\n",
      "This matches the gold value.\n",
      "This matches the gold value.\n",
      "This matches the gold value.\n",
      "This matches the gold value.\n",
      "This matches the gold value.\n",
      "This matches the gold value.\n",
      "This matches the gold value.\n",
      "This matches the gold value.\n",
      "This matches the gold value.\n",
      "This matches the gold value.\n",
      "This matches the gold value.\n",
      "This matches the gold value.\n",
      "This matches the gold value.\n",
      "This matches the gold value.\n",
      "This matches the gold value.\n",
      "This matches the gold value.\n",
      "This matches the gold value.\n",
      "This matches the gold value.\n",
      "This matches the gold value.\n",
      "This matches the gold value.\n",
      "This matches the gold value.\n",
      "This matches the gold value.\n",
      "This matches the gold value.\n",
      "This matches the gold value.\n",
      "This matches the gold value.\n",
      "This matches the gold value.\n"
     ]
    },
    {
     "data": {
      "image/png": "[encoded data removed]",
      "text/plain": [
       "<Figure size 1080x432 with 2 Axes>"
      ]
     },
     "metadata": {
      "needs_background": "light"
     },
     "output_type": "display_data"
    },
    {
     "name": "stdout",
     "output_type": "stream",
     "text": [
      "\n"
     ]
    }
   ],
   "source": [
    "'''Plot reference states'''\n",
    "\n",
    "npts = 50\n",
    "\n",
    "import numpy as np\n",
    "\n",
    "x_0  = np.zeros((3,npts))\n",
    "x_eq = np.zeros((3,npts))\n",
    "\n",
    "for i in range(npts):\n",
    "    \n",
    "    (x_a_0, x_b_0, x_c_0) = magic_molar_fractions(x_a_gold, x_b_gold, x_c_gold)\n",
    "    \n",
    "    x_0[0,i] = x_a_0\n",
    "    x_0[1,i] = x_b_0\n",
    "    x_0[2,i] = x_c_0\n",
    "    \n",
    "    ext_hat_min = -x_c_0\n",
    "    ext_hat_max = min(x_a_0,x_b_0)\n",
    "\n",
    "    ext_hat_0 = (ext_hat_max+ext_hat_min)/2.0\n",
    "    \n",
    "    ext_hat = newton_solve(x_a_0, x_b_0, x_c_0, eq_kx_cte,\n",
    "                           ext_hat_0,k_max, tolerance, verbose=False)\n",
    "    \n",
    "    x_eq[0,i] = (x_a_0 - ext_hat)/(1.0-ext_hat)\n",
    "    x_eq[1,i] = (x_b_0 - ext_hat)/(1.0-ext_hat)\n",
    "    x_eq[2,i] = (x_c_0 + ext_hat)/(1.0-ext_hat)\n",
    "    \n",
    "    if abs(x_eq[0,i]-x_a_gold) + abs(x_eq[1,i]-x_b_gold) + abs(x_eq[2,i]-x_c_gold) <= 1e-12:\n",
    "        print('This matches the gold value.')\n",
    "    else:\n",
    "        print('This DOES NOT match the gold value.')\n",
    "    \n",
    "plot_ref_states(x_0[0,:], x_0[1,:], x_0[2,:], x_eq[0,:], x_eq[1,:], x_eq[2,:])"
   ]
  },
  {
   "cell_type": "code",
   "execution_count": null,
   "metadata": {},
   "outputs": [],
   "source": []
  }
 ],
 "metadata": {
  "kernelspec": {
   "display_name": "Python 3 (ipykernel)",
   "language": "python",
   "name": "python3"
  },
  "language_info": {
   "codemirror_mode": {
    "name": "ipython",
    "version": 3
   },
   "file_extension": ".py",
   "mimetype": "text/x-python",
   "name": "python",
   "nbconvert_exporter": "python",
   "pygments_lexer": "ipython3",
   "version": "3.8.11"
  },
  "latex_envs": {
   "LaTeX_envs_menu_present": true,
   "autoclose": false,
   "autocomplete": true,
   "bibliofile": "biblio.bib",
   "cite_by": "apalike",
   "current_citInitial": 1,
   "eqLabelWithNumbers": true,
   "eqNumInitial": 1,
   "hotkeys": {
    "equation": "Ctrl-E",
    "itemize": "Ctrl-I"
   },
   "labels_anchors": false,
   "latex_user_defs": false,
   "report_style_numbering": false,
   "user_envs_cfg": false
  }
 },
 "nbformat": 4,
 "nbformat_minor": 2
}
