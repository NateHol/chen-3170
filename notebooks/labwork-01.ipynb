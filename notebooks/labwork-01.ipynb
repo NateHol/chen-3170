{
 "cells": [
  {
   "cell_type": "markdown",
   "metadata": {},
   "source": [
    "ChEn-3170: Computational Methods in Chemical Engineering Spring 2022 UMass Lowell; Prof. V. F. de Almeida **18Jan22**\n",
    "\n",
    "# Laboratory Work 01 (19Jan22)"
   ]
  },
  {
   "cell_type": "markdown",
   "metadata": {},
   "source": [
    "### Name: `your name`"
   ]
  },
  {
   "cell_type": "markdown",
   "metadata": {},
   "source": [
    "### Rubric for each assignment: \n",
    "\n",
    "|       Context                 |  Points |\n",
    "| -----------------------     | ------- |\n",
    "| Precision of the answer     |   80%   |\n",
    "| Answer Markdown readability |   10%   |\n",
    "| Code readability            |   10%   |\n",
    "    "
   ]
  },
  {
   "cell_type": "markdown",
   "metadata": {},
   "source": [
    "### <font color=\"red\">Guidance:</font>\n",
    "\n",
    "+  <font color=\"red\"> \n",
    "    Save your work frequently to a file locally to your computer.\n",
    "   </font>\n",
    "+  <font color=\"red\">\n",
    "    During your work and before submitting the final version do:</span> Kernel -> Restart & Run All<font color=\"red\">, to verify your notebook runs correctly.\n",
    "   </font>\n",
    "+  <font color=\"red\">\n",
    "    Save your file again.\n",
    "   </font>\n",
    "+  <font color=\"red\">\n",
    "    Upload the notebook file in the Blackboard submission portal as: \n",
    "   </font> \n",
    "   \n",
    "   **lastname-firstname-labwork-xx.ipynb**\n",
    "   \n",
    "   *NB: Please note lowercase.*"
   ]
  },
  {
   "cell_type": "markdown",
   "metadata": {},
   "source": [
    "---\n",
    "### Table of Assignments<a id=\"toa\"></a>\n",
    "* [Assignment 1 (5 pts)](#a1) Jupyter notebooks\n",
    "* [Assignment 2 (5 pts)](#a2) Workflow\n",
    "* [Assignment 3 (5 pts)](#a3) Code block\n",
    "* [Assignment 4 (5 pts)](#a4) Plot\n",
    "* [Assignment 5 (5 pts)](#a5) Boolean\n",
    "* [Assignment 6 (10 pts)](#a6) String\n",
    " - [6.1)](#a61)(5 pts) Example\n",
    " - [6.2)](#a62)(5 pts) Size\n",
    "* [Assignment 7 (20 pts)](#a7) Geometry\n",
    " - [7.1)](#a71)(10 pts) Triangle\n",
    " - [7.2)](#a72)(10 pts) Cylinder\n",
    "* [Assignment 8 (20 pts)](#a8) Heat transfer\n",
    " - [8.1)](#a81)(10 pts) Power\n",
    " - [8.2)](#a82)(5 pts) Cost\n",
    " - [8.3)](#a83)(5 pts) Comment\n",
    "* [Assignment 9 (20 pts)](#a9) String\n",
    "* [Assignment 10 (5 pts)](#a10) Unclear points.\n",
    "---"
   ]
  },
  {
   "cell_type": "markdown",
   "metadata": {},
   "source": [
    "## [<font color=\"blue\">Assignment 1 (5 pts)</font>](#toa)<a id=\"a1\"></a>"
   ]
  },
  {
   "cell_type": "markdown",
   "metadata": {},
   "source": [
    "### <font color=\"blue\">Describe with your own words what a Jupyter Notebook is and how you would learn more about it.</font>"
   ]
  },
  {
   "cell_type": "markdown",
   "metadata": {},
   "source": [
    "**Answer:**"
   ]
  },
  {
   "cell_type": "markdown",
   "metadata": {},
   "source": [
    "## [<font color=\"blue\">Assignment 2 (5 pts)</font>](#toa)<a id=\"a2\"></a>"
   ]
  },
  {
   "cell_type": "markdown",
   "metadata": {},
   "source": [
    "### <font color=\"blue\">Describe the typical workflow of a Jupyter Notebook.</font>"
   ]
  },
  {
   "cell_type": "markdown",
   "metadata": {},
   "source": [
    "**Answer:**"
   ]
  },
  {
   "cell_type": "markdown",
   "metadata": {},
   "source": [
    "## [<font color=\"blue\">Assignment 3 (5 pts)</font>](#toa)<a id=\"a3\"></a>"
   ]
  },
  {
   "cell_type": "markdown",
   "metadata": {},
   "source": [
    "### <font color=\"blue\">Copy a Python code block from [here](https://matplotlib.org/stable/gallery/index.html), insert below as Markdown, and describe the steps you have taken to create the Markdown block.</font>"
   ]
  },
  {
   "cell_type": "markdown",
   "metadata": {},
   "source": [
    "**Code block:**"
   ]
  },
  {
   "cell_type": "markdown",
   "metadata": {},
   "source": [
    "**Description:**"
   ]
  },
  {
   "cell_type": "markdown",
   "metadata": {},
   "source": [
    "## [<font color=\"blue\">Assignment 4 (5 pts)</font>](#toa)<a id=\"a4\"></a>"
   ]
  },
  {
   "cell_type": "markdown",
   "metadata": {},
   "source": [
    "### <font color=\"blue\">Create a code cell with the code in Assignment 3 and produce a plot.</font>"
   ]
  },
  {
   "cell_type": "code",
   "execution_count": null,
   "metadata": {},
   "outputs": [],
   "source": [
    "'''Code'''"
   ]
  },
  {
   "cell_type": "markdown",
   "metadata": {},
   "source": [
    "## [<font color=\"blue\">Assignment 5 (5 pts)</font>](#toa)<a id=\"a5\"></a>"
   ]
  },
  {
   "cell_type": "markdown",
   "metadata": {},
   "source": [
    "### <font color=\"blue\">Create a Python code cell with a boolean variable and print its type.</font>"
   ]
  },
  {
   "cell_type": "code",
   "execution_count": null,
   "metadata": {},
   "outputs": [],
   "source": [
    "'''Code'''"
   ]
  },
  {
   "cell_type": "markdown",
   "metadata": {},
   "source": [
    "## [<font color=\"blue\">Assignment 6 (10 pts)</font>](#toa)<a id=\"a6\"></a>"
   ]
  },
  {
   "cell_type": "markdown",
   "metadata": {},
   "source": [
    "### <font color=\"blue\">[6.1](#toa)(5pts) Create a Python code cell with a string variable and print its type.</font><a id=\"a61\"></a>"
   ]
  },
  {
   "cell_type": "code",
   "execution_count": null,
   "metadata": {},
   "outputs": [],
   "source": [
    "'''Code'''"
   ]
  },
  {
   "cell_type": "markdown",
   "metadata": {},
   "source": [
    "### <font color=\"blue\">[6.2](#toa)(5pts) Create a Python code cell with a string variable 10-characters long or more and print its type and its length.</font><a id=\"a62\"></a>"
   ]
  },
  {
   "cell_type": "code",
   "execution_count": null,
   "metadata": {
    "scrolled": true
   },
   "outputs": [],
   "source": [
    "'''Code'''"
   ]
  },
  {
   "cell_type": "markdown",
   "metadata": {},
   "source": [
    "## [<font color=\"blue\">Assignment 7 (20 pts)</font>](#toa)<a id=\"a7\"></a>"
   ]
  },
  {
   "cell_type": "markdown",
   "metadata": {},
   "source": [
    "### <font color=\"blue\">[7.1](#toa)(10 pts) Create a Python code to compute the area of a right triangle with sides $a = 1.23$ and $b = 2.45$, and its hypotenuse. On a Markdown cell, explain your results mathematically.</font><a id=\"a71\"></a>"
   ]
  },
  {
   "cell_type": "code",
   "execution_count": null,
   "metadata": {},
   "outputs": [],
   "source": [
    "'''Code'''"
   ]
  },
  {
   "cell_type": "markdown",
   "metadata": {},
   "source": [
    "**Explanation:**\n",
    "The area of a right triangle is $\\frac{a\\,b}{2}$"
   ]
  },
  {
   "cell_type": "markdown",
   "metadata": {},
   "source": [
    "### <font color=\"blue\">[7.2](#toa)(10 pts) Create a Python code to compute the volume of a right cylinder with radius $r = 2.45$ and height $h = 5.13$. On a Markdown cell, explain your results mathematically.</font><a id=\"a72\"></a>"
   ]
  },
  {
   "cell_type": "code",
   "execution_count": null,
   "metadata": {},
   "outputs": [],
   "source": [
    "'''Code'''"
   ]
  },
  {
   "cell_type": "markdown",
   "metadata": {},
   "source": [
    "**Explanation:**"
   ]
  },
  {
   "cell_type": "markdown",
   "metadata": {},
   "source": [
    "## [<font color=\"blue\">Assignment 8 (20 pts)</font>](#toa)<a id=\"a8\"></a>"
   ]
  },
  {
   "cell_type": "markdown",
   "metadata": {},
   "source": [
    "### <font color=\"blue\">[8.1](#toa)(10 pts) Calculate the heating power in a homogeneous, open flow system at steady state with the following data: </font><a id=\"a81\"></a>\n",
    "    \n",
    "|       Property           |   Variable         | Value                | Unit              |\n",
    "| -----------------------  | ------------------ |----------------------|-------------------|\n",
    "|system volume             | $V$                | 0.25                 | $\\text{m}^3$      | \n",
    "|mass density              | $\\rho$             | 1010                 | kg/$\\text{m}^3$   |\n",
    "|heat capacity             | $C$                | 4184                 | J/(kg K)          |\n",
    "|temperature difference    | $\\Delta T$         | 78.5                 | K                 |\n",
    "|flow residence time       | $\\tau$             | 25                   | s                 |\n",
    "    \n",
    "### <span style=\"color:blue\">"
   ]
  },
  {
   "cell_type": "code",
   "execution_count": null,
   "metadata": {},
   "outputs": [],
   "source": [
    "'''Code'''"
   ]
  },
  {
   "cell_type": "markdown",
   "metadata": {},
   "source": [
    "### <font color=\"blue\">[8.2](#toa)(5 pts) What is the approximate cost per hour to run this system in Massachusetts?</font><a id=\"a82\"></a>"
   ]
  },
  {
   "cell_type": "code",
   "execution_count": null,
   "metadata": {},
   "outputs": [],
   "source": [
    "'''Code'''"
   ]
  },
  {
   "cell_type": "markdown",
   "metadata": {},
   "source": [
    "### <font color=\"blue\">[8.3](#toa)(5 pts) Explain qualitatively the cost obtained, *i.e*, why is it low or high or an acceptable value?</font><a id=\"a83\"></a>"
   ]
  },
  {
   "cell_type": "markdown",
   "metadata": {},
   "source": [
    "**Explanation:**"
   ]
  },
  {
   "cell_type": "markdown",
   "metadata": {},
   "source": [
    "## [<font color=\"blue\">Assignment 9 (20 pts)</font>](#toa)<a id=\"a9\"></a>"
   ]
  },
  {
   "cell_type": "markdown",
   "metadata": {},
   "source": [
    "### <font color=\"blue\">Compute the area under the line of the plot below.</font>"
   ]
  },
  {
   "cell_type": "code",
   "execution_count": 1,
   "metadata": {
    "ExecuteTime": {
     "end_time": "2022-01-19T20:30:06.036409Z",
     "start_time": "2022-01-19T20:30:05.191231Z"
    }
   },
   "outputs": [
    {
     "data": {
      "image/png": "[encoded data removed]",
      "text/plain": [
       "<Figure size 432x288 with 1 Axes>"
      ]
     },
     "metadata": {
      "needs_background": "light"
     },
     "output_type": "display_data"
    }
   ],
   "source": [
    "import matplotlib.pyplot as plt\n",
    "plt.plot(range(5,13), range(1,9))\n",
    "plt.ylabel('y')\n",
    "plt.xlabel('x')\n",
    "plt.show()"
   ]
  },
  {
   "cell_type": "code",
   "execution_count": null,
   "metadata": {},
   "outputs": [],
   "source": [
    "'''Code'''"
   ]
  },
  {
   "cell_type": "markdown",
   "metadata": {},
   "source": [
    "## [<font color=\"blue\">Assignment 10 (5 pts)</font>](#toa)<a id=\"a10\"></a>"
   ]
  },
  {
   "cell_type": "markdown",
   "metadata": {},
   "source": [
    "### <font color=\"blue\">Describe the most unclear point in the course content presented so far. Then, make an effort to clarify the point on your own.</font>"
   ]
  },
  {
   "cell_type": "markdown",
   "metadata": {},
   "source": [
    "**Description and troubleshooting:**"
   ]
  },
  {
   "cell_type": "code",
   "execution_count": null,
   "metadata": {},
   "outputs": [],
   "source": []
  }
 ],
 "metadata": {
  "kernelspec": {
   "display_name": "Python 3 (ipykernel)",
   "language": "python",
   "name": "python3"
  },
  "language_info": {
   "codemirror_mode": {
    "name": "ipython",
    "version": 3
   },
   "file_extension": ".py",
   "mimetype": "text/x-python",
   "name": "python",
   "nbconvert_exporter": "python",
   "pygments_lexer": "ipython3",
   "version": "3.10.6"
  },
  "latex_envs": {
   "LaTeX_envs_menu_present": true,
   "autoclose": false,
   "autocomplete": true,
   "bibliofile": "biblio.bib",
   "cite_by": "apalike",
   "current_citInitial": 1,
   "eqLabelWithNumbers": true,
   "eqNumInitial": 1,
   "hotkeys": {
    "equation": "Ctrl-E",
    "itemize": "Ctrl-I"
   },
   "labels_anchors": false,
   "latex_user_defs": false,
   "report_style_numbering": false,
   "user_envs_cfg": false
  }
 },
 "nbformat": 4,
 "nbformat_minor": 2
}
