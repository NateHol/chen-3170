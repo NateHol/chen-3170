{
 "cells": [
  {
   "cell_type": "markdown",
   "metadata": {},
   "source": [
    "ChEn-3170: Computational Methods in Chemical Engineering Spring 2022 UMass Lowell; Prof. V. F. de Almeida **18Feb22**\n",
    "\n",
    "# Laboratory Work 04 (18Feb22)\n",
    "$\n",
    "  \\newcommand{\\Amtrx}{\\boldsymbol{\\mathsf{A}}}\n",
    "  \\newcommand{\\Bmtrx}{\\boldsymbol{\\mathsf{B}}}\n",
    "  \\newcommand{\\Cmtrx}{\\boldsymbol{\\mathsf{C}}}\n",
    "  \\newcommand{\\Mmtrx}{\\boldsymbol{\\mathsf{M}}}\n",
    "  \\newcommand{\\Smtrx}{\\boldsymbol{\\mathsf{S}}}\n",
    "  \\newcommand{\\Imtrx}{\\boldsymbol{\\mathsf{I}}}\n",
    "  \\newcommand{\\Pmtrx}{\\boldsymbol{\\mathsf{P}}}\n",
    "  \\newcommand{\\Qmtrx}{\\boldsymbol{\\mathsf{Q}}}\n",
    "  \\newcommand{\\Lmtrx}{\\boldsymbol{\\mathsf{L}}}\n",
    "  \\newcommand{\\Umtrx}{\\boldsymbol{\\mathsf{U}}}\n",
    "  \\newcommand{\\xvec}{\\boldsymbol{\\mathsf{x}}}\n",
    "  \\newcommand{\\yvec}{\\boldsymbol{\\mathsf{y}}}\n",
    "  \\newcommand{\\zvec}{\\boldsymbol{\\mathsf{z}}}\n",
    "  \\newcommand{\\avec}{\\boldsymbol{\\mathsf{a}}}\n",
    "  \\newcommand{\\bvec}{\\boldsymbol{\\mathsf{b}}}\n",
    "  \\newcommand{\\cvec}{\\boldsymbol{\\mathsf{c}}}\n",
    "  \\newcommand{\\rvec}{\\boldsymbol{\\mathsf{r}}}\n",
    "  \\newcommand{\\gvec}{\\boldsymbol{\\mathsf{g}}}\n",
    "  \\newcommand{\\norm}[1]{\\bigl\\lVert{#1}\\bigr\\rVert}\n",
    "  \\DeclareMathOperator{\\rank}{rank}\n",
    "  \\DeclareMathOperator{\\abs}{abs}\n",
    "$"
   ]
  },
  {
   "cell_type": "markdown",
   "metadata": {},
   "source": [
    "### Name: `your name`"
   ]
  },
  {
   "cell_type": "markdown",
   "metadata": {
    "cell_style": "center"
   },
   "source": [
    "### Rubric for each assignment: \n",
    "\n",
    "|      Context       |  Points |\n",
    "|:----------------------------|:-------:|\n",
    "| Precision of the answer     |  80%    |\n",
    "| Answer Markdown readability |  10%    |\n",
    "| Code readability            |  10%    |\n",
    "    "
   ]
  },
  {
   "cell_type": "markdown",
   "metadata": {
    "cell_style": "center"
   },
   "source": [
    "### <font color=\"red\">Guidance:</font>\n",
    "\n",
    "+  <font color=\"red\"> \n",
    "    Save your work frequently to a file locally to your computer.\n",
    "   </font>\n",
    "+  <font color=\"red\">\n",
    "    During your work and before submitting the final version do:</span> Kernel -> Restart & Run All<font color=\"red\">, to verify your notebook runs correctly.\n",
    "   </font>\n",
    "+  <font color=\"red\">\n",
    "    Save your file again.\n",
    "   </font>\n",
    "+  <font color=\"red\">\n",
    "    Upload the notebook file in the Blackboard submission portal as: \n",
    "   </font> \n",
    "   \n",
    "   **lastname-firstname-labwork-xx.ipynb**\n",
    "   \n",
    "   NB: Please note lowercase."
   ]
  },
  {
   "cell_type": "markdown",
   "metadata": {},
   "source": [
    "---\n",
    "### Table of Assignments<a id=\"toa\"></a>\n",
    "* [Assignment 1 (10 pts)](#a1) Forward solve function.\n",
    " - [1.1)](#a11)(3 pts) Function.\n",
    " - [1.2)](#a12)(3 pts) Correctness.\n",
    " - [1.3)](#a13)(4 pts) Comparison.\n",
    "* [Assignment 2 (10 pts)](#a2) Backward solve function.\n",
    " - [2.1)](#a21)(3 pts) Function.\n",
    " - [2.2)](#a22)(3 pts) Correctness.\n",
    " - [2.3)](#a23)(4 pts) Comparison.\n",
    "* [Assignment 3 (15 pts)](#a3) LU factorization.\n",
    " - [3.1)](#a31)(4 pts) Function.\n",
    " - [3.2)](#a32)(4 pts) Read matrix data.\n",
    " - [3.3)](#a33)(4 pts) Testing.\n",
    " - [3.4)](#a34)(3 pts) U diagonal.\n",
    "* [Assignment 4 (15 pts)](#a4) Partial pivoting LU factorization.\n",
    " - [4.1)](#a41)(4 pts) Function.\n",
    " - [4.2)](#a42)(4 pts) Testing.\n",
    " - [4.3)](#a43)(4 pts) Permutation.\n",
    " - [4.4)](#a44)(3 pts) U diagonal.\n",
    "* [Assignment 5 (20 pts)](#a5) Total pivoting LU factorization.\n",
    " - [5.1)](#a51)(5 pts) Function.\n",
    " - [5.2)](#a52)(5 pts) Testing.\n",
    " - [5.3)](#a53)(5 pts) Permutation.\n",
    " - [5.4)](#a54)(5 pts) U diagonal.\n",
    "* [Assignment 6 (25 pts)](#a6) Reaction mechanism: SST r = g solve.\n",
    " - [6.1)](#a61)(5 pts) Build S.\n",
    " - [6.2)](#a62)(5 pts) Compute r.\n",
    " - [6.3)](#a63)(5 pts) Correctness of r.\n",
    " - [6.4)](#a64)(5 pts) LU outer products.\n",
    " - [6.5)](#a65)(5 pts) Plot outer products.\n",
    "* [Assignment 7 (5 pts)](#a7) Unclear points.\n",
    "---"
   ]
  },
  {
   "cell_type": "markdown",
   "metadata": {},
   "source": [
    "## [<font color=\"blue\">Assignment 1 (10 pts)</font>](#toa)<a id=\"a1\"></a>"
   ]
  },
  {
   "cell_type": "markdown",
   "metadata": {},
   "source": [
    "### <span style=\"color:blue\">[1.1)](#toa)(3 pts) Program a solution algorithm, as a `Python` function, for a system of equations with a lower triangular matrix of coefficients $\\Lmtrx\\,\\xvec=\\bvec$. The algorithm for solving $\\Lmtrx\\,\\xvec=\\bvec$ is as follows:</span>\n",
    "\n",
    "<br>\n",
    "<span style=\"color:blue\">\n",
    "\\begin{equation*}\n",
    "  x_i = \\Bigl(b_i - \\sum\\limits_{j=1}^{i-1} L_{i,j}\\,x_j \\Bigr)\\,L^{-1}_{i,i} \\ \\ \\forall \\ \\ i=1,\\ldots,m\n",
    "\\end{equation*}\n",
    "</span>   \n",
    "   \n",
    "### <span style=\"color:blue\">for $i$ and $j$ with offset 1. Recall that `NumPy` and `Python` have offset 0 for their sequence data types.</span><a id=\"a11\"></a>"
   ]
  },
  {
   "cell_type": "code",
   "execution_count": 1,
   "metadata": {
    "ExecuteTime": {
     "end_time": "2022-02-19T04:37:29.548602Z",
     "start_time": "2022-02-19T04:37:28.814085Z"
    }
   },
   "outputs": [],
   "source": [
    "'''1.1) Forward solve function'''\n",
    " "
   ]
  },
  {
   "cell_type": "markdown",
   "metadata": {},
   "source": [
    "### <span style=\"color:blue\">[1.2)](#toa)(3 pts) Demonstrate that your solver is correct and explain why (do not compare against another solver).</span><a id=\"a12\"></a>"
   ]
  },
  {
   "cell_type": "code",
   "execution_count": null,
   "metadata": {},
   "outputs": [],
   "source": [
    "'''1.2) Demontrate correctness'''\n"
   ]
  },
  {
   "cell_type": "markdown",
   "metadata": {},
   "source": [
    "<span style=\"color:blue\">**Explanation:**</span>"
   ]
  },
  {
   "cell_type": "markdown",
   "metadata": {},
   "source": [
    "### <span style=\"color:blue\">[1.3)](#toa)(4 pts) Using the `numpy.linalg.solve()` function solve the system given below, $\\Lmtrx\\,\\yvec = \\bvec$, print $\\yvec$, and compute the norm of the difference of the solutions, i.e., $\\norm{\\xvec-\\yvec}$ where $\\xvec$ is the solution of $\\Lmtrx\\,\\xvec = \\bvec$, print $\\xvec$ obtained from your solver. Explain why your results match or do not match `numpy's`.</span><a id=\"a13\"></a>"
   ]
  },
  {
   "cell_type": "code",
   "execution_count": 3,
   "metadata": {
    "ExecuteTime": {
     "end_time": "2022-02-19T04:37:29.562242Z",
     "start_time": "2022-02-19T04:37:29.559147Z"
    }
   },
   "outputs": [],
   "source": [
    "'''1.3) Given data'''\n",
    "\n",
    "import numpy as np\n",
    "from chen_3170.help import get_triangular_matrix\n",
    "\n",
    "size = 10\n",
    "l_mtrx = get_triangular_matrix( mode='lower', ndim=size )\n",
    "l_mtrx += np.random.random(l_mtrx.shape) * 1e-04\n",
    "\n",
    "b_vec = np.random.random(size)"
   ]
  },
  {
   "cell_type": "code",
   "execution_count": null,
   "metadata": {},
   "outputs": [],
   "source": [
    "'''1.3) Compare solutions'''\n"
   ]
  },
  {
   "cell_type": "markdown",
   "metadata": {},
   "source": [
    "<span style=\"color:blue\">**Explanation:**</span> "
   ]
  },
  {
   "cell_type": "markdown",
   "metadata": {},
   "source": [
    "## [<font color=\"blue\">Assignment 2 (10 pts)</font>](#toa)<a id=\"a2\"></a>"
   ]
  },
  {
   "cell_type": "markdown",
   "metadata": {},
   "source": [
    "### <span style=\"color:blue\">[2.1)](#toa)(3 pts) Program a solution algorithm, as a `Python` function, for a system of equations with an upper triangular matrix of coefficients $\\Umtrx\\,\\xvec=\\bvec$. The algorithm for solving $\\Umtrx\\,\\xvec=\\bvec$  is as follows: </span>\n",
    "\n",
    "<br>\n",
    "<span style=\"color:blue\">\n",
    "\\begin{equation*}\n",
    "x_i = \\Bigl(b_i - \\sum\\limits_{j=i+1}^{m} U_{i,j}\\,x_j \\Bigr)\\,U^{-1}_{i,i} \\ \\ \\forall \\ \\ i=m,\\ldots,1\n",
    "\\end{equation*}\n",
    "</span> \n",
    "\n",
    "### <span style=\"color:blue\">for $i$ and $j$ with offset 1. Recall that `NumPy` and `Python` have offset 0 for their sequence data types.\n",
    "</span><a id=\"a21\"></a>"
   ]
  },
  {
   "cell_type": "code",
   "execution_count": 6,
   "metadata": {
    "ExecuteTime": {
     "end_time": "2022-02-19T04:37:29.578313Z",
     "start_time": "2022-02-19T04:37:29.575603Z"
    }
   },
   "outputs": [],
   "source": [
    "'''2.1) Backward solve function'''\n",
    "  "
   ]
  },
  {
   "cell_type": "markdown",
   "metadata": {},
   "source": [
    "### <span style=\"color:blue\">[2.2)](#toa)(3 pts) Demonstrate that your solver is correct and explain why (do not compare against another solver).</span><a id=\"a22\"></a>"
   ]
  },
  {
   "cell_type": "code",
   "execution_count": null,
   "metadata": {},
   "outputs": [],
   "source": [
    "'''2.2) Demontrate correctness'''\n"
   ]
  },
  {
   "cell_type": "markdown",
   "metadata": {},
   "source": [
    "<span style=\"color:blue\">**Explanation:**</span> "
   ]
  },
  {
   "cell_type": "markdown",
   "metadata": {},
   "source": [
    "### <span style=\"color:blue\">[2.3)](#toa)(4 pts) Using the `numpy.linalg.solve()` function solve the system given below, $\\Umtrx\\,\\yvec = \\bvec$, print $\\yvec$, and compute the norm of the difference of the solutions, i.e., $\\norm{\\xvec-\\yvec}$ where $\\xvec$ is the solution of $\\Umtrx\\,\\xvec = \\bvec$, print $\\xvec$ obtained from your solver. Explain why your results match or do not match `numpy's`.</span><a id=\"a23\"></a>"
   ]
  },
  {
   "cell_type": "code",
   "execution_count": 8,
   "metadata": {
    "ExecuteTime": {
     "end_time": "2022-02-19T04:37:29.595142Z",
     "start_time": "2022-02-19T04:37:29.591448Z"
    }
   },
   "outputs": [],
   "source": [
    "'''2.3) Given data'''\n",
    "\n",
    "import numpy as np\n",
    "from chen_3170.help import get_triangular_matrix\n",
    "\n",
    "size = 10\n",
    "u_mtrx = np.random.random((size,size))*1e-6\n",
    "u_mtrx = get_triangular_matrix(mode='upper', mtrx=u_mtrx)\n",
    "u_mtrx -= np.diagonal(u_mtrx) - np.eye(size)*1e-3\n",
    "np.set_printoptions(precision=3)\n",
    "b_vec = np.random.random(size)"
   ]
  },
  {
   "cell_type": "code",
   "execution_count": null,
   "metadata": {},
   "outputs": [],
   "source": [
    "'''2.3) Compare solutions'''\n"
   ]
  },
  {
   "cell_type": "markdown",
   "metadata": {},
   "source": [
    "<span style=\"color:blue\">**Explanation:**</span> "
   ]
  },
  {
   "cell_type": "markdown",
   "metadata": {},
   "source": [
    "## [<font color=\"blue\">Assignment 3 (15 pts)</font>](#toa)<a id=\"a3\"></a>"
   ]
  },
  {
   "cell_type": "markdown",
   "metadata": {},
   "source": [
    "### <span style=\"color:blue\">[3.1)](#toa)(4 pts) Program (in a Python function) a $\\Lmtrx\\,\\Umtrx$ factorization algorithm <b>(without using pivoting)</b> for a matrix $\\overset{(m \\times m)}{\\Amtrx}$. The factorization is obtained by elimination steps $k = 1,\\ldots,m-1$ so that</span>\n",
    "\n",
    "<br>\n",
    "<span style=\"color:blue\">\n",
    "\\begin{equation*}\n",
    "    A^{(k+1)}_{i,j} = A^{(k)}_{i,j} - A^{(k)}_{k,j}\\, m_{i,k} \\quad\\quad \\forall \\quad\\quad i=k+1,\\ldots,m \\quad\\quad \\text{and} \\quad\\quad j=k,\\ldots,m\n",
    "\\end{equation*}\n",
    "</span> \n",
    "\n",
    "### <span style=\"color:blue\">where the multipliers $m_{i,k}$ are given by $m_{i,k} = \\frac{A^{(k)}_{i,k}}{A^{(k)}_{k,k}}$. When $k = m-1$, $A^{(m)}_{i,j}$, is upper triangular, that is, $U_{i,j} = A^{(m)}_{i,j}$ . The lower triangular matrix is obtained using the multipliers $m_{i,k}$, that is $L_{i,j} = m_{i,j} \\ \\forall \\ i>j$,  $L_{i,i}=1$, and $L_{i,j}=0 \\ \\forall \\ i<j$.\n",
    "</span><a id=\"a31\"></a>"
   ]
  },
  {
   "cell_type": "code",
   "execution_count": 10,
   "metadata": {
    "ExecuteTime": {
     "end_time": "2022-02-19T04:37:29.615173Z",
     "start_time": "2022-02-19T04:37:29.612780Z"
    }
   },
   "outputs": [],
   "source": [
    "'''3.1) LU factorization function'''\n",
    " "
   ]
  },
  {
   "cell_type": "markdown",
   "metadata": {},
   "source": [
    "### <span style=\"color:blue\">[3.2)](#toa)(4 pts) Import the following image URL: \n",
    "        \n",
    " + https://raw.githubusercontent.com/dpploy/chen-3170/master/notebooks/images/cermet.png\n",
    "</span>\n",
    "<br>\n",
    "\n",
    "### <span style=\"color:blue\">as a matrix $\\Amtrx$ (need internet connection) and show the matrix as an image.\n",
    "</span><a id=\"a32\"></a>"
   ]
  },
  {
   "cell_type": "code",
   "execution_count": 11,
   "metadata": {
    "ExecuteTime": {
     "end_time": "2022-02-19T04:37:30.274526Z",
     "start_time": "2022-02-19T04:37:29.711210Z"
    }
   },
   "outputs": [
    {
     "data": {
      "image/png": "[encoded data removed]",
      "text/plain": [
       "<Figure size 1440x288 with 1 Axes>"
      ]
     },
     "metadata": {
      "needs_background": "light"
     },
     "output_type": "display_data"
    },
    {
     "name": "stdout",
     "output_type": "stream",
     "text": [
      "\n"
     ]
    }
   ],
   "source": [
    "'''3.2) Import matrix and show image'''\n"
   ]
  },
  {
   "cell_type": "markdown",
   "metadata": {},
   "source": [
    "### <span style=\"color:blue\">[3.3)](#toa)(4 pts) Compute the $\\Lmtrx\\Umtrx$ factorization of the symmetric part of $\\overset{(100 \\times 100)}{\\Amtrx}$ and verify that your factorization is correct; explain. The symmetric part of a matrix $\\Amtrx$ is defined as $\\frac{\\Amtrx+\\Amtrx^\\top}{2}$. Make a plot of your symmetric matrix.</span><a id=\"a33\"></a>"
   ]
  },
  {
   "cell_type": "code",
   "execution_count": 12,
   "metadata": {
    "ExecuteTime": {
     "end_time": "2022-02-19T04:37:30.440332Z",
     "start_time": "2022-02-19T04:37:30.276731Z"
    }
   },
   "outputs": [
    {
     "data": {
      "image/png": "[encoded data removed]",
      "text/plain": [
       "<Figure size 1440x288 with 1 Axes>"
      ]
     },
     "metadata": {
      "needs_background": "light"
     },
     "output_type": "display_data"
    },
    {
     "name": "stdout",
     "output_type": "stream",
     "text": [
      "\n"
     ]
    }
   ],
   "source": [
    "'''3.3) Perform LU factorization, verify and plot matrix'''\n"
   ]
  },
  {
   "cell_type": "markdown",
   "metadata": {},
   "source": [
    "<span style=\"color:blue\">**Explanation:**</span> "
   ]
  },
  {
   "cell_type": "markdown",
   "metadata": {},
   "source": [
    "### <span style=\"color:blue\">[3.4)](#toa)(3 pts) Print the diagonal entry of the $\\Umtrx$ factor with smallest absolute value. Compute the number of non-zero pivots in $\\Umtrx$.\n",
    "</span><a id=\"a34\"></a>"
   ]
  },
  {
   "cell_type": "code",
   "execution_count": 13,
   "metadata": {
    "ExecuteTime": {
     "end_time": "2022-02-19T04:37:30.446095Z",
     "start_time": "2022-02-19T04:37:30.442027Z"
    }
   },
   "outputs": [
    {
     "name": "stdout",
     "output_type": "stream",
     "text": [
      "smallest diagonal magnitude =  3.76409e-01\n",
      "# non-zero pivots =  100\n"
     ]
    }
   ],
   "source": [
    "'''3.4) U diagonal entry w/ smallest magnitude and # of non-zero pivots'''\n"
   ]
  },
  {
   "cell_type": "markdown",
   "metadata": {},
   "source": [
    "## [<font color=\"blue\">Assignment 4 (15 pts)</font>](#toa)<a id=\"a4\"></a>"
   ]
  },
  {
   "cell_type": "markdown",
   "metadata": {},
   "source": [
    "### <span style=\"color:blue\">[4.1)](#toa)(4 pts) Program (in a Python function; hint: extend the function from Assignment 1) a $\\Lmtrx\\,\\Umtrx$ factorization algorithm (<b>using partial pivoting</b>) for a matrix $\\overset{(m \\times m)}{\\Amtrx}$ and compute the $\\Pmtrx\\,\\Lmtrx\\,\\Umtrx$ factors. The factorization is obtained by elimination steps $k = 1,\\ldots,m-1$ so that</span>\n",
    "\n",
    "<br>\n",
    "<span style=\"color:blue\">\n",
    "\\begin{equation*}\n",
    " A^{(k+1)}_{i,j} = A^{(k)}_{i,j} - A^{(k)}_{k,j}\\, m_{i,k} \\quad\\quad \\forall \\quad\\quad i=k+1,\\ldots,m \\quad\\quad \\text{and} \\quad\\quad j=k,\\ldots,m\n",
    "\\end{equation*}\n",
    "</span>\n",
    "\n",
    "### <span style=\"color:blue\">where the multipliers $m_{i,k}$ are given by $m_{i,k} = \\frac{A^{(k)}_{i,k}}{A^{(k)}_{k,k}}$. When $k = m-1$, $A^{(m)}_{i,j}$, is upper triangular, that is, $U_{i,j} = A^{(m)}_{i,j}$ . The lower triangular matrix is obtained using the multipliers $m_{i,k}$, that is $L_{i,j} = m_{i,j} \\ \\forall \\ i>j$,  $L_{i,i}=1$, and $L_{i,j}=0 \\ \\forall \\ i<j$. However, every $k$-step selects a pivot $A^{(k)}_{k,k}$ of maximum absolute value via row exchanges recorded in the permutation matrix $\\Pmtrx$.</span><a id=\"a41\"></a>"
   ]
  },
  {
   "cell_type": "code",
   "execution_count": null,
   "metadata": {},
   "outputs": [],
   "source": [
    "'''4.1) LU factorization function'''\n",
    "'''hint: extend 3.1) and avoid generating additional code here'''\n"
   ]
  },
  {
   "cell_type": "markdown",
   "metadata": {},
   "source": [
    "### <span style=\"color:blue\">[4.2)](#toa)(4 pts) Compute the  $\\Lmtrx\\Umtrx$ factorization of the symmetric part of $\\overset{(100 \\times 100)}{\\Amtrx}$ using partial pivoting and verify that your factorization is correct; explain.</span><a id=\"a42\"></a>"
   ]
  },
  {
   "cell_type": "code",
   "execution_count": null,
   "metadata": {},
   "outputs": [],
   "source": [
    "'''4.2) Perform LU factorization and verify'''\n"
   ]
  },
  {
   "cell_type": "markdown",
   "metadata": {},
   "source": [
    "<span style=\"color:blue\">**Explanation:**</span> "
   ]
  },
  {
   "cell_type": "markdown",
   "metadata": {},
   "source": [
    "### <span style=\"color:blue\">[4.3)](#toa)(4 pts) How many row permutations were made?</span><a id=\"a43\"></a>"
   ]
  },
  {
   "cell_type": "code",
   "execution_count": 16,
   "metadata": {
    "ExecuteTime": {
     "end_time": "2022-02-19T04:37:30.711012Z",
     "start_time": "2022-02-19T04:37:30.707245Z"
    }
   },
   "outputs": [
    {
     "name": "stdout",
     "output_type": "stream",
     "text": [
      "number of permutations =  99\n"
     ]
    }
   ],
   "source": []
  },
  {
   "cell_type": "markdown",
   "metadata": {},
   "source": [
    "### <span style=\"color:blue\">[4.4)](#toa)(3 pts) Print the diagonal entry of the $\\Umtrx$ factor with smallest absolute value and compare with the value in 3.4); explain the difference if any. Compute the number of non-zero pivots in $\\Umtrx$.\n",
    "</span><a id=\"a44\"></a>"
   ]
  },
  {
   "cell_type": "code",
   "execution_count": 17,
   "metadata": {
    "ExecuteTime": {
     "end_time": "2022-02-19T04:37:30.716143Z",
     "start_time": "2022-02-19T04:37:30.712186Z"
    }
   },
   "outputs": [
    {
     "name": "stdout",
     "output_type": "stream",
     "text": [
      "smallest diagonal element magnitude =  3.43021e+00\n",
      "# non-zero pivots =  100\n"
     ]
    }
   ],
   "source": [
    "'''4.4) U diagonal entry w/ smallest magnitude and # of non-zero pivots'''\n"
   ]
  },
  {
   "cell_type": "markdown",
   "metadata": {},
   "source": [
    "<span style=\"color:blue\">**Explanation:**</span> "
   ]
  },
  {
   "cell_type": "markdown",
   "metadata": {},
   "source": [
    "## [<font color=\"blue\">Assignment 5 (20 pts)</font>](#toa)<a id=\"a5\"></a>"
   ]
  },
  {
   "cell_type": "markdown",
   "metadata": {},
   "source": [
    "### <span style=\"color:blue\">[5.1)](#toa)(5 pts) Program (in a Python function; hint: extend the function from Assignment 1) a $\\Lmtrx\\,\\Umtrx$ factorization algorithm (<b>using complete pivoting</b>) for a square matrix $\\overset{(m \\times m)}{\\Amtrx}$ and compute the $\\Pmtrx\\,\\Qmtrx\\,\\Lmtrx\\,\\Umtrx$ factors. The factorization is obtained by elimination steps $k = 1,\\ldots,m-1$ so that</span> \n",
    "\n",
    "<br>\n",
    "<span style=\"color:blue\">\n",
    "\\begin{equation*}\n",
    "A^{(k+1)}_{i,j} = A^{(k)}_{i,j} - A^{(k)}_{k,j}\\, m_{i,k} \\quad\\quad \\forall \\quad\\quad i=k+1,\\ldots,m \\quad\\quad \\text{and} \\quad\\quad j=k,\\ldots,m\n",
    "\\end{equation*}\n",
    "</span>\n",
    "    \n",
    "### <span style=\"color:blue\">where the multipliers $m_{i,k}$ are given by $m_{i,k} = \\frac{A^{(k)}_{i,k}}{A^{(k)}_{k,k}}$. When $k = m-1$, $A^{(m)}_{i,j}$ is upper triangular, that is, $U_{i,j} = A^{(m)}_{i,j}$ . The lower triangular matrix is obtained using the multipliers $m_{i,k}$, that is $L_{i,j} = m_{i,j} \\ \\forall \\ i>j$,  $L_{i,i}=1$, and $L_{i,j}=0 \\ \\forall \\ i<j$. However, every $k$-step selects a pivot $A^{(k)}_{k,k}$ of maximum absolute value via row exchanges recorded in the permutation matrix $\\Pmtrx$, and column exchanges recorded in the permutation matrix $\\Qmtrx$.\n",
    "</span><a id=\"a51\"></a>"
   ]
  },
  {
   "cell_type": "code",
   "execution_count": null,
   "metadata": {},
   "outputs": [],
   "source": [
    "'''5.1) LU factorization function'''\n",
    "'''hint: extend 3.1) and avoid generating additional code here'''\n"
   ]
  },
  {
   "cell_type": "markdown",
   "metadata": {},
   "source": [
    "### <span style=\"color:blue\">[5.2)](#toa)(5 pts) Compute the  $\\Lmtrx\\Umtrx$ factorization of the symmetric part of $\\overset{(100 \\times 100)}{\\Amtrx}$ using complete pivoting and verify that your factorization is correct; explain.</span><a id=\"a52\"></a>"
   ]
  },
  {
   "cell_type": "code",
   "execution_count": null,
   "metadata": {},
   "outputs": [],
   "source": [
    "'''5.2 Perform LU factorization and verify'''\n"
   ]
  },
  {
   "cell_type": "markdown",
   "metadata": {},
   "source": [
    "<span style=\"color:blue\">**Explanation:**</span> "
   ]
  },
  {
   "cell_type": "markdown",
   "metadata": {},
   "source": [
    "### <span style=\"color:blue\">[5.3)](#toa)(5 pts) How many row permutations were made? How many column permutations were made?</span><a id=\"a53\"></a>"
   ]
  },
  {
   "cell_type": "code",
   "execution_count": 20,
   "metadata": {
    "ExecuteTime": {
     "end_time": "2022-02-19T04:37:31.097307Z",
     "start_time": "2022-02-19T04:37:31.092931Z"
    }
   },
   "outputs": [
    {
     "name": "stdout",
     "output_type": "stream",
     "text": [
      "number of row permutations =  100\n",
      "number of column permutations =  100\n"
     ]
    }
   ],
   "source": []
  },
  {
   "cell_type": "markdown",
   "metadata": {},
   "source": [
    "### <span style=\"color:blue\">[5.4)](#toa)(5 pts) Print the diagonal entry of the $\\Umtrx$ factor with smallest absolute value and compare with the value in 4.4); explain the difference if any. Compute the number of non-zero pivots in $\\Umtrx$.\n",
    "</span><a id=\"a54\"></a>"
   ]
  },
  {
   "cell_type": "code",
   "execution_count": 21,
   "metadata": {
    "ExecuteTime": {
     "end_time": "2022-02-19T04:37:31.107138Z",
     "start_time": "2022-02-19T04:37:31.098898Z"
    }
   },
   "outputs": [
    {
     "name": "stdout",
     "output_type": "stream",
     "text": [
      "smallest diagonal element magnitude =  3.21634e+00\n",
      "# non-zero pivots =  100\n"
     ]
    }
   ],
   "source": [
    "'''5.4) U diagonal entry w/ smallest magnitude and # of non-zero pivots'''\n"
   ]
  },
  {
   "cell_type": "markdown",
   "metadata": {},
   "source": [
    "<span style=\"color:blue\">**Explanation:**</span> "
   ]
  },
  {
   "cell_type": "markdown",
   "metadata": {},
   "source": [
    "## [<font color=\"blue\">Assignment 6 (25 pts)</font>](#toa)<a id=\"a6\"></a>"
   ]
  },
  {
   "cell_type": "markdown",
   "metadata": {},
   "source": [
    "### <span style=\"color:blue\">[6.1)](#toa)(5 pts) Build the stoichiometric matrix, $\\Smtrx$, for the following reaction mechanism for ethyl-nitrate pyrolysis (order the reactions as shown by the Id column in the table). Print the matrix indicating its shape and the species vector. Plot the matrix.</span><a id=\"a61\"></a>\n",
    "\n",
    "| Id | Reaction mechanism              |        \n",
    "|----|---------------------------------|\n",
    "| 1  | C2H5ONO     <=> C2H5O   + NO    |\n",
    "| 2  | C2H5O       <=> CH3     + CH2O  |\n",
    "| 3  | C2H5O + NO  <=> CH3CHO  + HNO   |\n",
    "| 4  | C2H5O + HNO <=> C2H5OH  + NO    |\n",
    "| 5  | 2 NOH       <=> N2O     + H2O   | \n",
    "| 6  | CH3 + NO    <=> CH3NO           | \n",
    "| 7  | CH3NO       <=> CH2NOH          |  \n",
    "| 8  | CH2NOH      <=> HCN     + H2O   | "
   ]
  },
  {
   "cell_type": "code",
   "execution_count": 22,
   "metadata": {
    "ExecuteTime": {
     "end_time": "2022-02-19T04:37:31.437678Z",
     "start_time": "2022-02-19T04:37:31.108853Z"
    }
   },
   "outputs": [
    {
     "name": "stdout",
     "output_type": "stream",
     "text": [
      "r0 :  C2H5ONO     <=> C2H5O   + NO\n",
      "r1 :  C2H5O       <=> CH3     + CH2O\n",
      "r2 :  C2H5O + NO  <=> CH3CHO  + HNO\n",
      "r3 :  C2H5O + HNO <=> C2H5OH  + NO\n",
      "r4 :  2 NOH       <=> N2O     + H2O\n",
      "r5 :  CH3 + NO    <=> CH3NO\n",
      "r6 :  CH3NO       <=> CH2NOH\n",
      "r7 :  CH2NOH      <=> HCN     + H2O\n",
      "n_reactions = 8\n",
      "matrix shape = (8, 14)\n"
     ]
    },
    {
     "data": {
      "image/png": "[encoded data removed]",
      "text/plain": [
       "<Figure size 2000x400 with 1 Axes>"
      ]
     },
     "metadata": {},
     "output_type": "display_data"
    }
   ],
   "source": [
    "'''Build stoichimetric matrix'''\n"
   ]
  },
  {
   "cell_type": "markdown",
   "metadata": {},
   "source": [
    "### <span style=\"color:blue\">[6.2)](#toa)(5 pts) Given the species production rate density vector [mol/(s cc)] below, </span><a id=\"a22\"></a>\n",
    "<br>\n",
    "<span style=\"color:blue\">\n",
    "$\\gvec = \\begin{pmatrix}\n",
    " 3.1491 \\\\\n",
    " 0.2216 \\\\\n",
    " -1.7294 \\\\\n",
    " -1.3162 \\\\\n",
    " -2.0903 \\\\\n",
    " 0.1946 \\\\\n",
    " 0.4491 \\\\\n",
    " -1.1959 \\\\\n",
    " 0.6048 \\\\\n",
    " 0.2272 \\\\\n",
    " 0.2275 \\\\\n",
    " 0.3776 \\\\\n",
    " 3.7868 \\\\\n",
    " -0.7552\n",
    " \\end{pmatrix}\n",
    "$\n",
    "</span>\n",
    "<br><br>\n",
    "in the order:\n",
    "C2H5O, C2H5OH, C2H5ONO, CH2NOH, CH2O, CH3, CH3CHO, CH3NO, H2O, HCN, HNO, N2O, NO, NOH.\n",
    "\n",
    "### <span style=\"color:blue\"> Build the matrix $\\Smtrx\\Smtrx^\\top$. Compute the solution of the problem with your own algorithms:\n",
    "</span>\n",
    "<br>\n",
    "<span style=\"color:blue\">\n",
    "\\begin{equation*}\n",
    "    \\Smtrx\\Smtrx^\\top\\,\\rvec = \\Smtrx\\,\\gvec ,\n",
    "\\end{equation*}\n",
    "</span>    \n",
    "\n",
    "### <span style=\"color:blue\">and explain step-by-step the solution of the problem.</span><a id=\"a62\"></a>"
   ]
  },
  {
   "cell_type": "code",
   "execution_count": 23,
   "metadata": {
    "ExecuteTime": {
     "end_time": "2022-02-19T04:37:31.447308Z",
     "start_time": "2022-02-19T04:37:31.438890Z"
    }
   },
   "outputs": [
    {
     "name": "stdout",
     "output_type": "stream",
     "text": [
      "r_vec =  [ 1.7294 -2.0903  0.4491  0.2216  0.3776 -2.2849 -1.089   0.2272]\n"
     ]
    }
   ],
   "source": [
    "'''Code to calculate r vector'''\n"
   ]
  },
  {
   "cell_type": "markdown",
   "metadata": {},
   "source": [
    "<span style=\"color:blue\">**Explanation:**</span>"
   ]
  },
  {
   "cell_type": "markdown",
   "metadata": {},
   "source": [
    "### <span style=\"color:blue\">[6.3)](#toa)(5 pts) Demonstrate your solution is correct and explain your demonstration.</span><a id=\"a63\"></a>"
   ]
  },
  {
   "cell_type": "code",
   "execution_count": null,
   "metadata": {},
   "outputs": [],
   "source": [
    "'''Correctness of r'''\n"
   ]
  },
  {
   "cell_type": "markdown",
   "metadata": {},
   "source": [
    "<span style=\"color:blue\">**Explanation:**</span>"
   ]
  },
  {
   "cell_type": "markdown",
   "metadata": {},
   "source": [
    "### <span style=\"color:blue\">[6.4)](#toa)(5 pts) Using the $\\Lmtrx\\,\\Umtrx$ factors of $\\Smtrx\\Smtrx^\\top$, that is, $\\Lmtrx\\,\\Umtrx = \\Smtrx\\Smtrx^\\top$, Compute their product as a sum of outer products:</span>\n",
    "\n",
    "<br>\n",
    "<span style=\"color:blue\">\n",
    "\\begin{equation*}\n",
    "  \\Lmtrx\\,\\Umtrx = \\sum\\limits_{j=1}^{n} \\Lmtrx_{\\bullet,j}\\otimes\\Umtrx_{j,\\bullet} \n",
    "\\end{equation*}\n",
    "</span>  \n",
    "\n",
    "### <span style=\"color:blue\">and show that the sum is correct.</span><a id=\"a64\"></a>"
   ]
  },
  {
   "cell_type": "code",
   "execution_count": null,
   "metadata": {},
   "outputs": [],
   "source": [
    "'''Correctness of sum'''"
   ]
  },
  {
   "cell_type": "markdown",
   "metadata": {},
   "source": [
    "### <span style=\"color:blue\">[6.5)](#toa)(5 pts) Plot all the outer products:</span>\n",
    "\n",
    "<br>\n",
    "<span style=\"color:blue\">\n",
    "\\begin{equation*}\n",
    "  \\Lmtrx_{\\bullet,j}\\otimes\\Umtrx_{j,\\bullet} \\ \\  \\  \\forall \\ \\ \\ j=1,\\ldots,n\n",
    "\\end{equation*}\n",
    "</span>  \n",
    "\n",
    "### <span style=\"color:blue\">as below and explain what is happening from left to right.</span><a id=\"a65\"></a>"
   ]
  },
  {
   "cell_type": "code",
   "execution_count": 26,
   "metadata": {
    "ExecuteTime": {
     "end_time": "2022-02-19T04:37:32.319348Z",
     "start_time": "2022-02-19T04:37:31.622087Z"
    }
   },
   "outputs": [
    {
     "data": {
      "image/png": "[encoded data removed]",
      "text/plain": [
       "<Figure size 2000x400 with 8 Axes>"
      ]
     },
     "metadata": {},
     "output_type": "display_data"
    }
   ],
   "source": [
    "'''Plots'''"
   ]
  },
  {
   "cell_type": "markdown",
   "metadata": {},
   "source": [
    "<span style=\"color:blue\">**Explanation:**</span>"
   ]
  },
  {
   "cell_type": "markdown",
   "metadata": {},
   "source": [
    "## [<font color=\"blue\">Assignment 7 (5 pts)</font>](#toa)<a id=\"a7\"></a>"
   ]
  },
  {
   "cell_type": "markdown",
   "metadata": {},
   "source": [
    "### <span style=\"color:blue\">Describe the most unclear point in the content presented so far. Then, make an effort to clarify the point on your own.</span>"
   ]
  },
  {
   "cell_type": "code",
   "execution_count": null,
   "metadata": {},
   "outputs": [],
   "source": []
  }
 ],
 "metadata": {
  "kernelspec": {
   "display_name": "Python 3 (ipykernel)",
   "language": "python",
   "name": "python3"
  },
  "language_info": {
   "codemirror_mode": {
    "name": "ipython",
    "version": 3
   },
   "file_extension": ".py",
   "mimetype": "text/x-python",
   "name": "python",
   "nbconvert_exporter": "python",
   "pygments_lexer": "ipython3",
   "version": "3.10.8"
  },
  "latex_envs": {
   "LaTeX_envs_menu_present": true,
   "autoclose": false,
   "autocomplete": true,
   "bibliofile": "biblio.bib",
   "cite_by": "apalike",
   "current_citInitial": 1,
   "eqLabelWithNumbers": true,
   "eqNumInitial": 1,
   "hotkeys": {
    "equation": "Ctrl-E",
    "itemize": "Ctrl-I"
   },
   "labels_anchors": false,
   "latex_user_defs": false,
   "report_style_numbering": false,
   "user_envs_cfg": false
  }
 },
 "nbformat": 4,
 "nbformat_minor": 2
}
