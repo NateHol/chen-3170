{
 "cells": [
  {
   "cell_type": "markdown",
   "metadata": {},
   "source": [
    "ChEn-3170: Computational Methods in Chemical Engineering Spring 2022 UMass Lowell; Prof. V. F. de Almeida **31Jan22**\n",
    "\n",
    "# Laboratory Work 03 (02Feb22) Solution\n",
    "$\n",
    "  \\newcommand{\\Amtrx}{\\boldsymbol{\\mathsf{A}}}\n",
    "  \\newcommand{\\Bmtrx}{\\boldsymbol{\\mathsf{B}}}\n",
    "  \\newcommand{\\Cmtrx}{\\boldsymbol{\\mathsf{C}}}\n",
    "  \\newcommand{\\Mmtrx}{\\boldsymbol{\\mathsf{M}}}\n",
    "  \\newcommand{\\Smtrx}{\\boldsymbol{\\mathsf{S}}}\n",
    "  \\newcommand{\\Imtrx}{\\boldsymbol{\\mathsf{I}}}\n",
    "  \\newcommand{\\Pmtrx}{\\boldsymbol{\\mathsf{P}}}\n",
    "  \\newcommand{\\Qmtrx}{\\boldsymbol{\\mathsf{Q}}}\n",
    "  \\newcommand{\\Lmtrx}{\\boldsymbol{\\mathsf{L}}}\n",
    "  \\newcommand{\\Umtrx}{\\boldsymbol{\\mathsf{U}}}\n",
    "  \\newcommand{\\xvec}{\\boldsymbol{\\mathsf{x}}}\n",
    "  \\newcommand{\\yvec}{\\boldsymbol{\\mathsf{y}}}\n",
    "  \\newcommand{\\zvec}{\\boldsymbol{\\mathsf{z}}}\n",
    "  \\newcommand{\\avec}{\\boldsymbol{\\mathsf{a}}}\n",
    "  \\newcommand{\\bvec}{\\boldsymbol{\\mathsf{b}}}\n",
    "  \\newcommand{\\cvec}{\\boldsymbol{\\mathsf{c}}}\n",
    "  \\newcommand{\\rvec}{\\boldsymbol{\\mathsf{r}}}\n",
    "  \\newcommand{\\gvec}{\\boldsymbol{\\mathsf{g}}}\n",
    "  \\newcommand{\\mvec}{\\boldsymbol{\\mathsf{m}}}\n",
    "  \\newcommand{\\onevec}{\\boldsymbol{\\mathsf{1}}}\n",
    "  \\newcommand{\\norm}[1]{\\bigl\\lVert{#1}\\bigr\\rVert}\n",
    "  \\DeclareMathOperator{\\rank}{rank}\n",
    "  \\DeclareMathOperator{\\abs}{abs}\n",
    "$"
   ]
  },
  {
   "cell_type": "markdown",
   "metadata": {},
   "source": [
    "### Name: `your name`"
   ]
  },
  {
   "cell_type": "markdown",
   "metadata": {},
   "source": [
    "### Rubric for each assignment: \n",
    "\n",
    "|      Context       |  Points |\n",
    "|:----------------------------|:-------:|\n",
    "| Precision of the answer     |  80%    |\n",
    "| Answer Markdown readability |  10%    |\n",
    "| Code readability            |  10%    |\n",
    "    "
   ]
  },
  {
   "cell_type": "markdown",
   "metadata": {},
   "source": [
    "### <font color=\"red\">Guidance:</font>\n",
    "\n",
    "+  <font color=\"red\"> \n",
    "    Save your work frequently to a file locally to your computer.\n",
    "   </font>\n",
    "+  <font color=\"red\">\n",
    "    During your work and before submitting the final version do:</span> Kernel -> Restart & Run All<font color=\"red\">, to verify your notebook runs correctly.\n",
    "   </font>\n",
    "+  <font color=\"red\">\n",
    "    Save your file again.\n",
    "   </font>\n",
    "+  <font color=\"red\">\n",
    "    Upload the notebook file in the Blackboard submission portal as: \n",
    "   </font> \n",
    "   \n",
    "   **lastname-firstname-labwork-xx.ipynb**\n",
    "   \n",
    "   NB: Please note lowercase."
   ]
  },
  {
   "cell_type": "markdown",
   "metadata": {},
   "source": [
    "---\n",
    "### Table of Assignments<a id=\"toa\"></a>\n",
    "* [Assignment 1 (30 pts)](#a1) Stoichiometry.\n",
    " - [1.1)](#a11)(3 pts) Assemble $\\Smtrx$.\n",
    " - [1.2)](#a12)(3 pts) Mass conservation.\n",
    " - [1.3)](#a13)(3 pts) Mole conservation.\n",
    " - [1.4)](#a14)(3 pts) Compute $\\gvec$.\n",
    " - [1.5)](#a15)(3 pts) Compute $\\yvec$.\n",
    " - [1.6)](#a16)(3 pts) Compute norm of $\\yvec$.\n",
    " - [1.7)](#a17)(3 pts) Compute $\\Amtrx$.\n",
    " - [1.8)](#a18)(3 pts) Compute $\\Bmtrx$.\n",
    " - [1.9)](#a19)(3 pts) Explain $\\Amtrx = \\Bmtrx$.\n",
    " - [1.10)](#a110)(3 pts) Compute matrix subtraction.\n",
    "* [Assignment 2 (20 pts)](#a2) Forward solver.\n",
    " - [2.1)](#a21)(5 pts) Code algorithm.\n",
    " - [2.2)](#a22)(5 pts) Demonstrate correctness.\n",
    " - [2.3)](#a23)(5 pts) Solve problem with $\\Amtrx$.\n",
    " - [2.4)](#a24)(5 pts) Solve problem with $\\Bmtrx$.\n",
    "* [Assignment 3 (25 pts)](#a3) Backward solver.\n",
    " - [3.1)](#a31)(5 pts) Code algorithm.\n",
    " - [3.2)](#a32)(10 pts) Demonstrate correctness.\n",
    " - [3.3)](#a33)(5 pts) Solve problem with $\\Amtrx$.\n",
    " - [3.4)](#a34)(5 pts) Solve problem with $\\Bmtrx$.\n",
    "* [Assignment 4 (20 pts)](#a4) Array data inspection\n",
    " - [4.1)](#a41)(5 pts) Read image data array and crop.\n",
    " - [4.2)](#a42)(15 pts) Compute area of hot spot and visualize.\n",
    "* [Assignment 5 (5 pts)](#a5) Unclear points\n",
    "---"
   ]
  },
  {
   "cell_type": "markdown",
   "metadata": {},
   "source": [
    "## [<font color=\"blue\">Assignment 1 (30 pts)</font>](#toa)<a id=\"a1\"></a>"
   ]
  },
  {
   "cell_type": "markdown",
   "metadata": {},
   "source": [
    "### <font color=\"blue\">[1.1)](#toa)(3 pts) Consider the following reaction mechanism:</span><a id=\"a11\"></a>\n",
    "\n",
    " index | Reaction mechanism     |         $K_x$        |\n",
    "-------|------------------------|----------------------|\n",
    "0      | C2H5ONO      <=> C2H5O   + NO   | 5.02e+00        |\n",
    "1      | C2H5O        <=> CH3     + CH2O | 3.23e+00        |\n",
    "2      | C2H5O + NO   <=> CH3CHO  + HNO  | 2.12e+00        |\n",
    "3      | C2H5O + HNO  <=> C2H5OH  + NO   | 3.65e+00        |\n",
    "4      | 2 NOH        <=> N2O     + H2O  | 1.45e-01   |\n",
    "5      | CH3 + NO     <=> CH3NO          | 1.67e+00     |\n",
    "6      | CH3NO        <=> CH2=NOH        | 1.09e-00   |\n",
    "7      | CH2=NOH      <=> HCN     + H2O  | 1.14e-01   |\n",
    "\n",
    "### <font color=\"blue\"> Build the stoichiometric matrix, $\\Smtrx$, preserving the order of the reactions in the table, print the matrix elements, and show a plot as shown below. Print the list of species. Explain how you built your stoichiometric matrix.</font>"
   ]
  },
  {
   "cell_type": "code",
   "execution_count": 1,
   "metadata": {
    "ExecuteTime": {
     "end_time": "2022-02-02T08:37:16.234456Z",
     "start_time": "2022-02-02T08:37:15.217006Z"
    }
   },
   "outputs": [
    {
     "name": "stdout",
     "output_type": "stream",
     "text": [
      "matrix shape = (8, 14)\n"
     ]
    },
    {
     "data": {
      "image/png": "[encoded data removed]",
      "text/plain": [
       "<Figure size 2000x400 with 1 Axes>"
      ]
     },
     "metadata": {},
     "output_type": "display_data"
    },
    {
     "name": "stdout",
     "output_type": "stream",
     "text": [
      "r0 :  C2H5ONO     <=> C2H5O   + NO\n",
      "r1 :  C2H5O       <=> CH3     + CH2O\n",
      "r2 :  C2H5O + NO  <=> CH3CHO  + HNO\n",
      "r3 :  C2H5O + HNO <=> C2H5OH  + NO\n",
      "r4 :  2 NOH       <=> N2O     + H2O\n",
      "r5 :  CH3 + NO    <=> CH3NO\n",
      "r6 :  CH3NO       <=> CH2NOH\n",
      "r7 :  CH2NOH      <=> HCN     + H2O\n",
      "n_reactions = 8\n",
      "species: ['C2H5O', 'C2H5OH', 'C2H5ONO', 'CH2NOH', 'CH2O', 'CH3', 'CH3CHO', 'CH3NO', 'H2O', 'HCN', 'HNO', 'N2O', 'NO', 'NOH']\n"
     ]
    }
   ],
   "source": [
    "'''Code'''\n"
   ]
  },
  {
   "cell_type": "markdown",
   "metadata": {},
   "source": [
    "<font color=\"blue\">**Explanation:**</font>"
   ]
  },
  {
   "cell_type": "markdown",
   "metadata": {},
   "source": [
    "### <font color=\"blue\">[1.2)](#toa)(3 pts) Using your stoichiometric matrix demonstrate that mass is conserved per reaction and also total mass is conserved. Explain your work including the formulae you used.</font><a id=\"a12\"></a> "
   ]
  },
  {
   "cell_type": "code",
   "execution_count": 2,
   "metadata": {
    "ExecuteTime": {
     "end_time": "2022-02-02T08:37:16.240239Z",
     "start_time": "2022-02-02T08:37:16.236216Z"
    }
   },
   "outputs": [],
   "source": [
    "'''Code'''\n"
   ]
  },
  {
   "cell_type": "markdown",
   "metadata": {},
   "source": [
    "<font color=\"blue\">**Explanation:**</font>"
   ]
  },
  {
   "cell_type": "markdown",
   "metadata": {},
   "source": [
    "### <font color=\"blue\">[1.3)](#toa)(3 pts) Using your stoichiometric matrix investigate whether moles are conserved per reaction, and similarly whether total moles are conserved. State clearly your results. You must use a similar formula as in 1.2). Explain your work.</font><a id=\"a13\"></a> "
   ]
  },
  {
   "cell_type": "code",
   "execution_count": 3,
   "metadata": {
    "ExecuteTime": {
     "end_time": "2022-02-02T08:37:16.249277Z",
     "start_time": "2022-02-02T08:37:16.242083Z"
    }
   },
   "outputs": [],
   "source": [
    "'''Code'''\n"
   ]
  },
  {
   "cell_type": "markdown",
   "metadata": {},
   "source": [
    "<font color=\"blue\">**Explanation:**</font>"
   ]
  },
  {
   "cell_type": "markdown",
   "metadata": {},
   "source": [
    "### <font color=\"blue\">[1.4)](#toa)(3 pts) Given the following net reaction rate density vector in units of mols/(s ml)</font><a id=\"a14\"></a>\n",
    "    \n",
    "$\\rvec = \\begin{pmatrix}\n",
    "0.3206 \\\\ 0.6831 \\\\ -0.0801 \\\\ -0.8347 \\\\ -0.6093 \\\\  0.6934 \\\\ -0.0859 \\\\ -0.867 \n",
    " \\end{pmatrix}\n",
    "$.          \n",
    "   \n",
    "### <font color=\"blue\"> Compute the species production rate density vector, $\\gvec$, and show the results with 4 decimal places and state the units. Explain how you obtained the result and what it means.</font>"
   ]
  },
  {
   "cell_type": "code",
   "execution_count": 4,
   "metadata": {
    "ExecuteTime": {
     "end_time": "2022-02-02T08:37:16.257090Z",
     "start_time": "2022-02-02T08:37:16.251540Z"
    }
   },
   "outputs": [
    {
     "name": "stdout",
     "output_type": "stream",
     "text": [
      "g_vec [unit?] [ 0.5523 -0.8347 -0.3206  0.7811  0.6831 -0.0103 -0.0801  0.7793 -1.4763 -0.867   0.7546 -0.6093 -1.1274\n",
      "  1.2186]\n"
     ]
    }
   ],
   "source": [
    "'''Code'''\n"
   ]
  },
  {
   "cell_type": "markdown",
   "metadata": {},
   "source": [
    "<font color=\"blue\">**Explanation:**</font>"
   ]
  },
  {
   "cell_type": "markdown",
   "metadata": {},
   "source": [
    "### <font color=\"blue\">[1.5)](#toa)(3 pts) Compute the vector $\\yvec = \\Smtrx\\,\\gvec$ and print the results with up to 4 decimal places. Why should you get the same answer no matter the order of the $\\gvec$ vector is?</font><a id=\"a15\"></a> "
   ]
  },
  {
   "cell_type": "code",
   "execution_count": 5,
   "metadata": {
    "ExecuteTime": {
     "end_time": "2022-02-02T08:37:16.264110Z",
     "start_time": "2022-02-02T08:37:16.259606Z"
    }
   },
   "outputs": [
    {
     "name": "stdout",
     "output_type": "stream",
     "text": [
      "y = [-2.5450e-01  1.2050e-01  1.2496e+00 -3.2690e+00 -4.5228e+00  1.9170e+00  1.8000e-03 -3.1244e+00]\n"
     ]
    }
   ],
   "source": [
    "'''Code'''\n"
   ]
  },
  {
   "cell_type": "markdown",
   "metadata": {},
   "source": [
    "<font color=\"blue\">**Explanation:**</font>"
   ]
  },
  {
   "cell_type": "markdown",
   "metadata": {},
   "source": [
    "### <font color=\"blue\">[1.6)](#toa)(3 pts) Compute the norm $\\norm{\\yvec}$ and print the result in exponential scientific format with 4 decimal places.</font><a id=\"a16\"></a> "
   ]
  },
  {
   "cell_type": "code",
   "execution_count": 6,
   "metadata": {
    "ExecuteTime": {
     "end_time": "2022-02-02T08:37:16.269966Z",
     "start_time": "2022-02-02T08:37:16.266001Z"
    }
   },
   "outputs": [
    {
     "name": "stdout",
     "output_type": "stream",
     "text": [
      "||y|| = 6.7985e+00\n"
     ]
    }
   ],
   "source": [
    "'''Code'''\n"
   ]
  },
  {
   "cell_type": "markdown",
   "metadata": {},
   "source": [
    "### <font color=\"blue\">[1.7)](#toa)(3 pts) Compute the matrix $\\Amtrx = \\frac{1}{3}\\,\\Smtrx\\Smtrx^\\top$, print the result with up to 4 decimals precision. Why is this matrix the same when you change the order of the species in $\\Smtrx$?</font><a id=\"a17\"></a> "
   ]
  },
  {
   "cell_type": "code",
   "execution_count": 7,
   "metadata": {
    "ExecuteTime": {
     "end_time": "2022-02-02T08:37:16.282126Z",
     "start_time": "2022-02-02T08:37:16.271587Z"
    }
   },
   "outputs": [
    {
     "name": "stdout",
     "output_type": "stream",
     "text": [
      "A =\n",
      " [[ 1.     -0.3333 -0.6667  0.      0.     -0.3333  0.      0.    ]\n",
      " [-0.3333  1.      0.3333  0.3333  0.     -0.3333  0.      0.    ]\n",
      " [-0.6667  0.3333  1.3333 -0.3333  0.      0.3333  0.      0.    ]\n",
      " [ 0.      0.3333 -0.3333  1.3333  0.     -0.3333  0.      0.    ]\n",
      " [ 0.      0.      0.      0.      2.      0.      0.      0.3333]\n",
      " [-0.3333 -0.3333  0.3333 -0.3333  0.      1.     -0.3333  0.    ]\n",
      " [ 0.      0.      0.      0.      0.     -0.3333  0.6667 -0.3333]\n",
      " [ 0.      0.      0.      0.      0.3333  0.     -0.3333  1.    ]]\n"
     ]
    }
   ],
   "source": [
    "'''Code'''\n"
   ]
  },
  {
   "cell_type": "markdown",
   "metadata": {},
   "source": [
    "<font color=\"blue\">**Explanation:**</font>"
   ]
  },
  {
   "cell_type": "markdown",
   "metadata": {},
   "source": [
    "### <font color=\"blue\">[1.8)](#toa)(3 pts) Compute the matrix $\\Bmtrx = \\frac{1}{3}\\,\\Smtrx^\\top\\Smtrx$, print the result with up to 4 decimals precision. Why this matrix may not be the same as yours (see below)? When will it be the same as yours?</font><a id=\"a18\"></a> "
   ]
  },
  {
   "cell_type": "code",
   "execution_count": 8,
   "metadata": {
    "ExecuteTime": {
     "end_time": "2022-02-02T08:37:16.291141Z",
     "start_time": "2022-02-02T08:37:16.283964Z"
    }
   },
   "outputs": [
    {
     "name": "stdout",
     "output_type": "stream",
     "text": [
      "B =\n",
      " [[ 1.3333 -0.3333 -0.3333  0.     -0.3333 -0.3333 -0.3333  0.      0.      0.      0.      0.      0.3333  0.    ]\n",
      " [-0.3333  0.3333  0.      0.      0.      0.      0.      0.      0.      0.     -0.3333  0.      0.3333  0.    ]\n",
      " [-0.3333  0.      0.3333  0.      0.      0.      0.      0.      0.      0.      0.      0.     -0.3333  0.    ]\n",
      " [ 0.      0.      0.      0.6667  0.      0.      0.     -0.3333 -0.3333 -0.3333  0.      0.      0.      0.    ]\n",
      " [-0.3333  0.      0.      0.      0.3333  0.3333  0.      0.      0.      0.      0.      0.      0.      0.    ]\n",
      " [-0.3333  0.      0.      0.      0.3333  0.6667  0.     -0.3333  0.      0.      0.      0.      0.3333  0.    ]\n",
      " [-0.3333  0.      0.      0.      0.      0.      0.3333  0.      0.      0.      0.3333  0.     -0.3333  0.    ]\n",
      " [ 0.      0.      0.     -0.3333  0.     -0.3333  0.      0.6667  0.      0.      0.      0.     -0.3333  0.    ]\n",
      " [ 0.      0.      0.     -0.3333  0.      0.      0.      0.      0.6667  0.3333  0.      0.3333  0.     -0.6667]\n",
      " [ 0.      0.      0.     -0.3333  0.      0.      0.      0.      0.3333  0.3333  0.      0.      0.      0.    ]\n",
      " [ 0.     -0.3333  0.      0.      0.      0.      0.3333  0.      0.      0.      0.6667  0.     -0.6667  0.    ]\n",
      " [ 0.      0.      0.      0.      0.      0.      0.      0.      0.3333  0.      0.      0.3333  0.     -0.6667]\n",
      " [ 0.3333  0.3333 -0.3333  0.      0.      0.3333 -0.3333 -0.3333  0.      0.     -0.6667  0.      1.3333  0.    ]\n",
      " [ 0.      0.      0.      0.      0.      0.      0.      0.     -0.6667  0.      0.     -0.6667  0.      1.3333]]\n",
      "shape = (14, 14)\n"
     ]
    }
   ],
   "source": [
    "'''Code'''\n"
   ]
  },
  {
   "cell_type": "markdown",
   "metadata": {},
   "source": [
    "<font color=\"blue\">**Explanation:**</font>\n"
   ]
  },
  {
   "cell_type": "markdown",
   "metadata": {},
   "source": [
    "### <font color=\"blue\">[1.9)](#toa)(3 pts) Is $\\Amtrx = \\Bmtrx$? Write a code for testing and printing the results. Explain.</font><a id=\"a19\"></a> "
   ]
  },
  {
   "cell_type": "code",
   "execution_count": null,
   "metadata": {},
   "outputs": [],
   "source": [
    "'''Code'''\n"
   ]
  },
  {
   "cell_type": "markdown",
   "metadata": {},
   "source": [
    "<font color=\"blue\">**Explanation:**</font>"
   ]
  },
  {
   "cell_type": "markdown",
   "metadata": {},
   "source": [
    "### <font color=\"blue\">[1.10)](#toa)(3 pts) Compute $\\Amtrx - \\Amtrx^\\top$. Explain the result.</font><a id=\"a110\"></a> "
   ]
  },
  {
   "cell_type": "code",
   "execution_count": null,
   "metadata": {},
   "outputs": [],
   "source": [
    "'''Code'''\n"
   ]
  },
  {
   "cell_type": "markdown",
   "metadata": {},
   "source": [
    "<font color=\"blue\">**Explanation:**</font>\n"
   ]
  },
  {
   "cell_type": "markdown",
   "metadata": {},
   "source": [
    "## [<font color=\"blue\">Assignment 2 (20 pts)</font>](#toa)<a id=\"a2\"></a>"
   ]
  },
  {
   "cell_type": "markdown",
   "metadata": {},
   "source": [
    "### <font color=\"blue\">[2.1)](#toa)(5 pts) Program a forward solver (*i.e.* write your code) for lower triangular system $\\Lmtrx\\,\\xvec=\\bvec$. The algorithm is as follows:</font><a id=\"a21\"></a>\n",
    "\n",
    "<font color=\"blue\">\n",
    "\\begin{equation*}\n",
    "  x_i = \\Bigl(b_i - \\sum\\limits_{j=1}^{i-1} L_{i,j}\\,x_j \\Bigr)\\,L^{-1}_{i,i} \\ \\ \\forall \\ \\ i=1,\\ldots,m ,\n",
    "\\end{equation*}\n",
    "</font>\n",
    "\n",
    "### <font color=\"blue\">for $i$ and $j$ with offset 1. Recall that `NumPy` and `Python` have offset 0 for their sequence data types.</font>"
   ]
  },
  {
   "cell_type": "code",
   "execution_count": 11,
   "metadata": {
    "ExecuteTime": {
     "end_time": "2022-02-02T08:37:16.311038Z",
     "start_time": "2022-02-02T08:37:16.308393Z"
    }
   },
   "outputs": [],
   "source": [
    "'''Code'''\n"
   ]
  },
  {
   "cell_type": "markdown",
   "metadata": {},
   "source": [
    "### <font color=\"blue\">[2.2)](#toa)(5 pts) Demonstrate your forward solver in 2.1) is correct (do not compare against another solver) and provide an output example for $\\Lmtrx$, $\\bvec$, and $\\xvec$ (use at least 7 unknowns).</font><a id=\"a22\"></a>"
   ]
  },
  {
   "cell_type": "code",
   "execution_count": 12,
   "metadata": {
    "ExecuteTime": {
     "end_time": "2022-02-02T08:37:16.317602Z",
     "start_time": "2022-02-02T08:37:16.312968Z"
    }
   },
   "outputs": [],
   "source": [
    "'''Code'''\n"
   ]
  },
  {
   "cell_type": "markdown",
   "metadata": {},
   "source": [
    "### <font color=\"blue\">[2.3)](#toa)(5 pts) Using the lower triangular portion of $\\Amtrx$ as $\\Lmtrx$, compute the solution of $\\Lmtrx\\xvec=\\rvec$.</span><a id=\"a23\"></a>"
   ]
  },
  {
   "cell_type": "code",
   "execution_count": 13,
   "metadata": {
    "ExecuteTime": {
     "end_time": "2022-02-02T08:37:16.325238Z",
     "start_time": "2022-02-02T08:37:16.319141Z"
    }
   },
   "outputs": [
    {
     "name": "stdout",
     "output_type": "stream",
     "text": [
      "x_vec = [ 0.3206  0.79   -0.0973 -0.8478 -0.3046  0.8134  0.2779 -0.6728]\n"
     ]
    }
   ],
   "source": [
    "'''Code'''\n"
   ]
  },
  {
   "cell_type": "markdown",
   "metadata": {},
   "source": [
    "### <font color=\"blue\">[2.4)](#toa)(5 pts) Using the lower triangular portion of $\\Bmtrx$ as $\\Lmtrx$, compute the solution of $\\Lmtrx\\xvec=\\gvec$. Do you get the same solution as below? Explain?</span><a id=\"a24\"></a>"
   ]
  },
  {
   "cell_type": "code",
   "execution_count": 14,
   "metadata": {
    "ExecuteTime": {
     "end_time": "2022-02-02T08:37:16.336955Z",
     "start_time": "2022-02-02T08:37:16.331819Z"
    }
   },
   "outputs": [
    {
     "name": "stdout",
     "output_type": "stream",
     "text": [
      "x_vec = [ 4.1423e-01 -2.0899e+00 -5.4758e-01  1.1717e+00  2.4635e+00 -1.0401e+00  1.7392e-01  1.2347e+00 -1.6286e+00  1.9927e-01 -1.6653e-16 -1.9927e-01\n",
      "  4.8656e-02  0.0000e+00]\n"
     ]
    }
   ],
   "source": [
    "'''Code'''\n"
   ]
  },
  {
   "cell_type": "markdown",
   "metadata": {},
   "source": [
    "<font color=\"blue\">**Explanation:**</font> \n"
   ]
  },
  {
   "cell_type": "markdown",
   "metadata": {},
   "source": [
    "## [<font color=\"blue\">Assignment 3 (25 pts)</font>](#toa)<a id=\"a3\"></a>"
   ]
  },
  {
   "cell_type": "markdown",
   "metadata": {},
   "source": [
    "### <font color=\"blue\">[3.1)](#toa)(5 pts) Program a backward solver (*i.e.* write your code) for an upper triangular system $\\Umtrx\\,\\xvec=\\bvec$. The algorithm is as follows: </font>\n",
    "\n",
    "<font color=\"blue\">\n",
    "\\begin{equation*}\n",
    "x_i = \\Bigl(b_i - \\sum\\limits_{j=i+1}^{m} U_{i,j}\\,x_j \\Bigr)\\,U^{-1}_{i,i} \\ \\ \\forall \\ \\ i=m,\\ldots,1 ,\n",
    "\\end{equation*}\n",
    "</font>\n",
    "\n",
    "### <font color=\"blue\">for $i$ and $j$ with offset 1. Recall that `NumPy` and `Python` have offset 0 for their sequence data types. </font><a id=\"a31\"></a>"
   ]
  },
  {
   "cell_type": "code",
   "execution_count": 15,
   "metadata": {
    "ExecuteTime": {
     "end_time": "2022-02-02T08:37:16.342360Z",
     "start_time": "2022-02-02T08:37:16.338390Z"
    }
   },
   "outputs": [],
   "source": [
    "'''Code'''\n"
   ]
  },
  {
   "cell_type": "markdown",
   "metadata": {},
   "source": [
    "### <font color=\"blue\">[3.2)](#toa)(10 pts) Demonstrate your code is correct (do not compare against another solver) and provide an output example for $\\Umtrx$, $\\bvec$, and $\\xvec$ (use at least 7 unknowns). </font><a id=\"a32\"></a> "
   ]
  },
  {
   "cell_type": "code",
   "execution_count": 16,
   "metadata": {
    "ExecuteTime": {
     "end_time": "2022-02-02T08:37:16.349982Z",
     "start_time": "2022-02-02T08:37:16.343777Z"
    }
   },
   "outputs": [],
   "source": [
    "'''Code'''\n"
   ]
  },
  {
   "cell_type": "markdown",
   "metadata": {},
   "source": [
    "### <font color=\"blue\">[3.3)](#toa)(5 pts) Using the upper triangular portion of $\\Amtrx$ as $\\Umtrx$, compute the solution of $\\Umtrx\\xvec=\\rvec$.</font><a id=\"a33\"></a>"
   ]
  },
  {
   "cell_type": "code",
   "execution_count": 17,
   "metadata": {
    "ExecuteTime": {
     "end_time": "2022-02-02T08:37:16.358692Z",
     "start_time": "2022-02-02T08:37:16.352767Z"
    }
   },
   "outputs": [
    {
     "name": "stdout",
     "output_type": "stream",
     "text": [
      "x_vec = [ 0.6556  1.1221 -0.3114 -0.4995 -0.1601  0.506  -0.5624 -0.867 ]\n"
     ]
    }
   ],
   "source": [
    "'''Code'''\n"
   ]
  },
  {
   "cell_type": "markdown",
   "metadata": {},
   "source": [
    "### <font color=\"blue\">[3.4)](#toa)(5 pts) Using the upper triangular portion of $\\Bmtrx$ as $\\Umtrx$, compute the solution of $\\Umtrx\\xvec=\\gvec$. Do you get the same solution as below? Explain.</font><a id=\"a34\"></a>"
   ]
  },
  {
   "cell_type": "code",
   "execution_count": 18,
   "metadata": {
    "ExecuteTime": {
     "end_time": "2022-02-02T08:37:16.366251Z",
     "start_time": "2022-02-02T08:37:16.360244Z"
    }
   },
   "outputs": [
    {
     "name": "stdout",
     "output_type": "stream",
     "text": [
      "x_vec = [ 8.3267e-17 -1.3722e+00 -1.8073e+00  2.4424e-01  1.2689e+00  7.8041e-01 -1.3722e+00  7.4618e-01  0.0000e+00 -2.6010e+00  2.8635e-01  0.0000e+00\n",
      " -8.4555e-01  9.1395e-01]\n"
     ]
    }
   ],
   "source": [
    "'''Code'''\n"
   ]
  },
  {
   "cell_type": "markdown",
   "metadata": {},
   "source": [
    "<font color=\"blue\">**Explanation:**</font> "
   ]
  },
  {
   "cell_type": "markdown",
   "metadata": {},
   "source": [
    "## [<font color=\"blue\">Assignment 4 (20 pts)</font>](#toa)<a id=\"a4\"></a>"
   ]
  },
  {
   "cell_type": "markdown",
   "metadata": {},
   "source": [
    "### <font color=\"blue\">[4.1)](#toa)(5 pts) Import this [image (temperature field)](https://raw.githubusercontent.com/dpploy/chen-3170/master/notebooks/images/temperature.png) as an array and crop it as best as you can to show as follows:</font><a id=\"a41\"></a>"
   ]
  },
  {
   "cell_type": "code",
   "execution_count": 20,
   "metadata": {
    "ExecuteTime": {
     "end_time": "2022-02-02T08:37:16.637774Z",
     "start_time": "2022-02-02T08:37:16.395239Z"
    }
   },
   "outputs": [
    {
     "data": {
      "image/png": "[encoded data removed]",
      "text/plain": [
       "<Figure size 720x432 with 1 Axes>"
      ]
     },
     "metadata": {
      "needs_background": "light"
     },
     "output_type": "display_data"
    },
    {
     "name": "stdout",
     "output_type": "stream",
     "text": [
      "temp data shape (394, 494, 3)\n"
     ]
    }
   ],
   "source": [
    "'''Code'''\n"
   ]
  },
  {
   "cell_type": "markdown",
   "metadata": {},
   "source": [
    "### <font color=\"blue\">[4.2)](#toa)(15 pts) Scale the red channel by 150 C, the green channel by 90 C, and the blue channel by 40 C. Add the contribution of each channel to compute the resulting temperature. Calculate the area fraction with temperature between 220 C and 240 C and indicate the area on a plot of the array as follows. Explain your method to solve this problem.</font><a id=\"a42\"></a>"
   ]
  },
  {
   "cell_type": "code",
   "execution_count": 21,
   "metadata": {
    "ExecuteTime": {
     "end_time": "2022-02-02T08:37:16.848540Z",
     "start_time": "2022-02-02T08:37:16.639928Z"
    }
   },
   "outputs": [
    {
     "data": {
      "image/png": "[encoded data removed]",
      "text/plain": [
       "<Figure size 720x432 with 1 Axes>"
      ]
     },
     "metadata": {
      "needs_background": "light"
     },
     "output_type": "display_data"
    },
    {
     "name": "stdout",
     "output_type": "stream",
     "text": [
      "Area fraction [%] = 36.51\n"
     ]
    }
   ],
   "source": [
    "'''Code'''\n"
   ]
  },
  {
   "cell_type": "markdown",
   "metadata": {},
   "source": [
    "<font color=\"blue\">**Explanation:**</font> \n"
   ]
  },
  {
   "cell_type": "markdown",
   "metadata": {},
   "source": [
    "## [<font color=\"blue\">Assignment 5 (5 pts)</font>](#toa)<a id=\"a5\"></a>"
   ]
  },
  {
   "cell_type": "markdown",
   "metadata": {},
   "source": [
    "### <font color=\"blue\">Describe the most unclear point in the content presented so far. Then, make an effort to clarify the point on your own.</font>"
   ]
  },
  {
   "cell_type": "markdown",
   "metadata": {},
   "source": [
    "**Description and troubleshooting:**"
   ]
  },
  {
   "cell_type": "code",
   "execution_count": null,
   "metadata": {},
   "outputs": [],
   "source": []
  }
 ],
 "metadata": {
  "kernelspec": {
   "display_name": "Python 3 (ipykernel)",
   "language": "python",
   "name": "python3"
  },
  "language_info": {
   "codemirror_mode": {
    "name": "ipython",
    "version": 3
   },
   "file_extension": ".py",
   "mimetype": "text/x-python",
   "name": "python",
   "nbconvert_exporter": "python",
   "pygments_lexer": "ipython3",
   "version": "3.9.9"
  },
  "latex_envs": {
   "LaTeX_envs_menu_present": true,
   "autoclose": false,
   "autocomplete": true,
   "bibliofile": "biblio.bib",
   "cite_by": "apalike",
   "current_citInitial": 1,
   "eqLabelWithNumbers": true,
   "eqNumInitial": 1,
   "hotkeys": {
    "equation": "Ctrl-E",
    "itemize": "Ctrl-I"
   },
   "labels_anchors": false,
   "latex_user_defs": false,
   "report_style_numbering": false,
   "user_envs_cfg": false
  }
 },
 "nbformat": 4,
 "nbformat_minor": 2
}
