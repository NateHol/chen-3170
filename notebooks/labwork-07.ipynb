{
 "cells": [
  {
   "cell_type": "markdown",
   "metadata": {},
   "source": [
    "ChEn-3170: Computational Methods in Chemical Engineering Spring 2022 UMass Lowell; Prof. V. F. de Almeida **11Apr22**\n",
    "\n",
    "# Laboratory Work 07 (11Apr22)\n",
    "$\n",
    "  \\newcommand{\\Amtrx}{\\boldsymbol{\\mathsf{A}}}\n",
    "  \\newcommand{\\Bmtrx}{\\boldsymbol{\\mathsf{B}}}\n",
    "  \\newcommand{\\Cmtrx}{\\boldsymbol{\\mathsf{C}}}\n",
    "  \\newcommand{\\Mmtrx}{\\boldsymbol{\\mathsf{M}}}\n",
    "  \\newcommand{\\Smtrx}{\\boldsymbol{\\mathsf{S}}}\n",
    "  \\newcommand{\\Imtrx}{\\boldsymbol{\\mathsf{I}}}\n",
    "  \\newcommand{\\Pmtrx}{\\boldsymbol{\\mathsf{P}}}\n",
    "  \\newcommand{\\Qmtrx}{\\boldsymbol{\\mathsf{Q}}}\n",
    "  \\newcommand{\\Lmtrx}{\\boldsymbol{\\mathsf{L}}}\n",
    "  \\newcommand{\\Umtrx}{\\boldsymbol{\\mathsf{U}}}\n",
    "  \\newcommand{\\xvec}{\\boldsymbol{\\mathsf{x}}}\n",
    "  \\newcommand{\\yvec}{\\boldsymbol{\\mathsf{y}}}\n",
    "  \\newcommand{\\zvec}{\\boldsymbol{\\mathsf{z}}}\n",
    "  \\newcommand{\\avec}{\\boldsymbol{\\mathsf{a}}}\n",
    "  \\newcommand{\\bvec}{\\boldsymbol{\\mathsf{b}}}\n",
    "  \\newcommand{\\cvec}{\\boldsymbol{\\mathsf{c}}}\n",
    "  \\newcommand{\\rvec}{\\boldsymbol{\\mathsf{r}}}\n",
    "  \\newcommand{\\gvec}{\\boldsymbol{\\mathsf{g}}}\n",
    "  \\newcommand{\\norm}[1]{\\bigl\\lVert{#1}\\bigr\\rVert}\n",
    "  \\DeclareMathOperator{\\rank}{rank}\n",
    "  \\DeclareMathOperator{\\abs}{abs}\n",
    "$"
   ]
  },
  {
   "cell_type": "markdown",
   "metadata": {},
   "source": [
    "### Name: `your name`"
   ]
  },
  {
   "cell_type": "markdown",
   "metadata": {
    "cell_style": "center"
   },
   "source": [
    "### Rubric for each assignment: \n",
    "\n",
    "|      Context       |  Points |\n",
    "|:----------------------------|:-------:|\n",
    "| Precision of the answer     |  80%    |\n",
    "| Answer Markdown readability |  10%    |\n",
    "| Code readability            |  10%    |\n",
    "    "
   ]
  },
  {
   "cell_type": "markdown",
   "metadata": {
    "cell_style": "center"
   },
   "source": [
    "### <font color=\"red\">Guidance:</font>\n",
    "\n",
    "+  <font color=\"red\"> \n",
    "    Save your work frequently to a file locally to your computer.\n",
    "   </font>\n",
    "+  <font color=\"red\">\n",
    "    During your work and before submitting the final version do:</span> Kernel -> Restart & Run All<font color=\"red\">, to verify your notebook runs correctly.\n",
    "   </font>\n",
    "+  <font color=\"red\">\n",
    "    Save your file again.\n",
    "   </font>\n",
    "+  <font color=\"red\">\n",
    "    Upload the notebook file in the Blackboard submission portal as: \n",
    "   </font> \n",
    "   \n",
    "   **lastname-firstname-labwork-xx.ipynb**\n",
    "   \n",
    "   NB: Please note lowercase."
   ]
  },
  {
   "cell_type": "markdown",
   "metadata": {},
   "source": [
    "---\n",
    "### Table of Assignments<a id=\"toa\"></a>\n",
    "* [Assignment 1 (100 pts)](#a1) CSTR.\n",
    " - [1.1)](#a11)(5 pts) Governing equations.\n",
    " - [1.2)](#a12)(20 pts) Steady state.\n",
    " - [1.3)](#a13)(20 pts) Heating rates.\n",
    " - [1.4)](#a14)(20 pts) Heating cost.\n",
    " - [1.5)](#a15)(20 pts) Transient and new steady state.\n",
    " - [1.6)](#a16)(10 pts) Comparison of SS and analysis.\n",
    "* [Assignment 2 (5 pts)](#a2) Unclear points.\n",
    "---"
   ]
  },
  {
   "cell_type": "markdown",
   "metadata": {},
   "source": [
    "## [<font color=\"blue\">Assignment 1 (100 pts)</font>](#toa)<a id=\"a1\"></a>"
   ]
  },
  {
   "cell_type": "markdown",
   "metadata": {},
   "source": [
    "### <span style=\"color:blue\"> Irreversible first-order endothermic/exothermic reactions</span>\n",
    "\n",
    "<span style=\"color:blue\">\n",
    "\\begin{align*}\n",
    "\\text{A} &\\overset{k_1}{\\longrightarrow} 2\\,\\text{B} + 0.25\\,\\text{C} \\\\\n",
    "\\text{A} + 0.5 \\,\\text{B} &\\overset{k_2}{\\longrightarrow} \\text{C} \n",
    "\\end{align*}\n",
    "</span>\n",
    "\n",
    "### <span style=\"color:blue\"> are performed in a continuous-stirred-tank reactor (CSTR; sketch below). A feed stream containing reactant A enters the constant volume CSTR at a mass flow rate $w$, temperature $T_\\text{in}$ and molar concentration $c_\\text{Ain}$; there is no B or C products in the inflow. The product stream leaves the reactor at a mass flow rate $w$, temperature $T$, and molar concentration $c_\\text{A}$ for the reactant and $c_\\text{B}$, $c_\\text{C}$ for the products. The heating power addition rate to the CSTR is $\\dot{Q}$, the experimental reaction rates density for the reactions are\n",
    "</span>\n",
    "\n",
    "<span style=\"color:blue\">\n",
    "\\begin{align*}\n",
    "r_1 &= k_1\\,c^\\alpha_\\text{A}  , \\\\\n",
    "r_2 &= k_2\\,c^\\gamma_\\text{A}\\,c^\\beta_\\text{B}   \n",
    "\\end{align*}\n",
    "</span>\n",
    "\n",
    "### <span style=\"color:blue\"> where the rate constants are equal to the Arrhenius equations: $k_i = k_{0_i}\\,\\exp(\\frac{-E}{R\\,T})$. Additional parameters for the system are listed below.\n",
    "</span>\n",
    " \n",
    " ![](images/cstr.png)"
   ]
  },
  {
   "cell_type": "markdown",
   "metadata": {},
   "source": [
    "## <span style=\"color:blue\"> Input Data</span><a id=\"data\"></a>\n",
    "\n",
    "|Name                      | Parameter          | Value                | Unit              |\n",
    "|:-------------------------|:------------------:|:--------------------:|:-----------------:| \n",
    "|mass flow rate            | $w$                | 10                   | kg/s              | \n",
    "|inflow concentration of A | $c_\\text{Ain}$     | 1.2                  | kgmol/$\\text{m}^3$| \n",
    "|inflow concentration of B | $c_\\text{Bin}$     | 0.0                  | kgmol/$\\text{m}^3$| \n",
    "|inflow concentration of C | $c_\\text{Cin}$     | 0.0                  | kgmol/$\\text{m}^3$| \n",
    "|inflow temperature        | $T_\\text{in}$      | 425                  | K                 | \n",
    "|holdup volume             | $V$                | 0.2                  | $\\text{m}^3$      | \n",
    "|mass density              | $\\rho$             | 1000                 | kg/$\\text{m}^3$   |\n",
    "|heat capacity             | $C$                | 4184                 | J/(kg K)          |\n",
    "|heat of reaction          | $\\Delta H_{\\text{R}_1}$| $6.69 \\times 10^8$   | J/kgmol           |\n",
    "|heat of reaction          | $\\Delta H_{\\text{R}_2}$| $-6.69 \\times 10^7$   | J/kgmol           |\n",
    "|Arrhenius frequency       | $k_{0_1}$          | $1.97\\times 10^{24}$ | $\\text{s}^{-1}$   |\n",
    "|Arrhenius frequency       | $k_{0_2}$          | $1.97\\times 10^{23}$ | $\\text{s}^{-1}$   |\n",
    "|activation temperature    | $E/R$              | 20000                | K                 |\n",
    "|reaction order            | $\\alpha$           | 1.13                 |                   |\n",
    "|reverse reaction order    | $\\beta$            | 0.28                 |                   |\n",
    "|reverse reaction order    | $\\gamma$           | 0.12                 |                   |\n",
    "|S.S. reactor temperature  | $T_\\text{ss}$      | 350                  | K                 |"
   ]
  },
  {
   "cell_type": "code",
   "execution_count": 1,
   "metadata": {
    "ExecuteTime": {
     "end_time": "2022-04-12T07:21:41.544548Z",
     "start_time": "2022-04-12T07:21:41.539723Z"
    }
   },
   "outputs": [],
   "source": [
    "'''Parameters'''\n",
    "\n",
    "w_flow          =   10.0      # kg/s\n",
    "c_a_in          =   1.5       # kgmol/m^3\n",
    "c_b_in          =   0.0       # kgmol/m^3\n",
    "c_c_in          =   0.0       # kgmol/m^3\n",
    "temp_in         =   425.0     # K\n",
    "volume          =   0.2       # m^3\n",
    "rho             =   1000.0    # kg/m^3\n",
    "heat_capacity   =   4184.0    # J/kg/K\n",
    "enthalpy_rxn_1  =   6.69e8    # J/kgmol\n",
    "enthalpy_rxn_2  =  -6.69e7    # J/kgmol\n",
    "k_0_1           =   1.97e24   # 1/s\n",
    "k_0_2           =   1.97e23   # 1/s\n",
    "energy_a_over_r =   20000.0   # K\n",
    "alpha           =   1.13      #\n",
    "beta            =   0.48      #\n",
    "gamma           =   1.12      #\n",
    "temp_ss         =   350.0     # K"
   ]
  },
  {
   "cell_type": "code",
   "execution_count": 2,
   "metadata": {
    "ExecuteTime": {
     "end_time": "2022-04-12T07:21:41.552962Z",
     "start_time": "2022-04-12T07:21:41.547093Z"
    }
   },
   "outputs": [],
   "source": [
    "'''Parameters dictionary'''\n",
    "\n",
    "params = dict()\n",
    "\n",
    "params['w_flow']          =   w_flow\n",
    "params['c_a_in']          =   c_a_in\n",
    "params['c_b_in']          =   c_b_in\n",
    "params['c_c_in']          =   c_c_in\n",
    "params['temp_in']         =   temp_in\n",
    "params['volume']          =   volume\n",
    "params['rho']             =   rho\n",
    "params['heat_capacity']   =   heat_capacity\n",
    "params['enthalpy_rxn_1']  =   enthalpy_rxn_1\n",
    "params['enthalpy_rxn_2']  =   enthalpy_rxn_2\n",
    "params['k_0_1']           =   k_0_1\n",
    "params['k_0_2']           =   k_0_2\n",
    "params['energy_a_over_r'] =   energy_a_over_r\n",
    "params['alpha']           =   alpha\n",
    "params['beta']            =   beta\n",
    "params['gamma']           =   gamma\n",
    "params['temp_ss']         =   temp_ss\n",
    "\n",
    "q_flow = w_flow/rho\n",
    "params['q_flow'] = q_flow\n",
    "params['tau'] = volume/q_flow"
   ]
  },
  {
   "cell_type": "markdown",
   "metadata": {},
   "source": [
    "### <span style=\"color:blue\">[1.1)](#toa)(5 pts) Derive a dynamic model for the CSTR to determine the concentrations of reactant A and product B, and the CSTR temperature as a function of time.</span><a id=\"a11\"></a>"
   ]
  },
  {
   "cell_type": "markdown",
   "metadata": {},
   "source": [
    "### Species Mole Balance<a id=\"smb\"></a>"
   ]
  },
  {
   "cell_type": "markdown",
   "metadata": {},
   "source": [
    "### Energy balance<a id=\"eb\"></a>"
   ]
  },
  {
   "cell_type": "markdown",
   "metadata": {},
   "source": [
    "### <span style=\"color:blue\">[1.2)](#toa)(20 pts) Determine the steady-state effluent concentrations for reactant A and products B and C.</span><a id=\"a12\"></a>"
   ]
  },
  {
   "cell_type": "code",
   "execution_count": 10,
   "metadata": {
    "ExecuteTime": {
     "end_time": "2022-04-12T07:21:42.343619Z",
     "start_time": "2022-04-12T07:21:42.325283Z"
    }
   },
   "outputs": [
    {
     "name": "stdout",
     "output_type": "stream",
     "text": [
      "\n",
      "c_a_ss = 0.22482 kgmol/m^3\n",
      "c_b_ss = 2.14335 kgmol/m^3\n",
      "c_c_ss = 0.44089 kgmol/m^3\n"
     ]
    }
   ],
   "source": [
    "'''Steady state concentration'''\n"
   ]
  },
  {
   "cell_type": "markdown",
   "metadata": {},
   "source": [
    "### <span style=\"color:blue\">[1.3)](#toa)(20 pts) Calculate the required coil heating power in MW for the above conditions. Calculate the chemical heating power in MW and compare to the coil heating rate; explain the difference.</span><a id=\"a13\"></a>"
   ]
  },
  {
   "cell_type": "code",
   "execution_count": 11,
   "metadata": {
    "ExecuteTime": {
     "end_time": "2022-04-12T07:21:42.353646Z",
     "start_time": "2022-04-12T07:21:42.345906Z"
    }
   },
   "outputs": [
    {
     "name": "stdout",
     "output_type": "stream",
     "text": [
      "Coil heating power (SS) = 4.19487 [MW]\n"
     ]
    }
   ],
   "source": [
    "'''Steady-state coil power'''\n"
   ]
  },
  {
   "cell_type": "code",
   "execution_count": 12,
   "metadata": {
    "ExecuteTime": {
     "end_time": "2022-04-12T07:21:42.360553Z",
     "start_time": "2022-04-12T07:21:42.356849Z"
    }
   },
   "outputs": [
    {
     "name": "stdout",
     "output_type": "stream",
     "text": [
      "Chemical heating power (SS) = -7.33287 [MW]\n"
     ]
    }
   ],
   "source": [
    "'''Steady state chemical heating power'''\n"
   ]
  },
  {
   "cell_type": "markdown",
   "metadata": {},
   "source": [
    "<span style=\"color:blue\">**Explanation:**</span>"
   ]
  },
  {
   "cell_type": "markdown",
   "metadata": {},
   "source": [
    "### <span style=\"color:blue\">[1.4)](#toa)(20 pts) If the cost of 1 kWh of electricity in Massachusetts is 22.57 cents, calculate the cost of running the reactor (if heated by electricity) for 1 hour. If the reactor is profitable only at steady state, is one hour a reasonable time to make a profit? Explain.</span><a id=\"a14\"></a>"
   ]
  },
  {
   "cell_type": "code",
   "execution_count": 13,
   "metadata": {
    "ExecuteTime": {
     "end_time": "2022-04-12T07:21:42.371914Z",
     "start_time": "2022-04-12T07:21:42.367046Z"
    }
   },
   "outputs": [
    {
     "name": "stdout",
     "output_type": "stream",
     "text": [
      "Electricity cost to run reactor for 1 hour = $946.78\n"
     ]
    }
   ],
   "source": [
    "'''Cost of running the reactor for 1 hour'''\n"
   ]
  },
  {
   "cell_type": "markdown",
   "metadata": {},
   "source": [
    "<span style=\"color:blue\">**Explanation:**</span>"
   ]
  },
  {
   "cell_type": "markdown",
   "metadata": {},
   "source": [
    "### <span style=\"color:blue\">[1.5)](#toa)(20 pts) Using the above steady state condition as an initial condition of the reactor, and keeping the same external heating power, compute the history of the state of the reactor when a change in the inflow stream is made as follows: $c_A = 1.3$ kgmol/cc (lower concentration) $T_\\text{in} = 450$ K (higher inflow temperature). Provide a tabular result and a plot as below up to a time when a new steady state has been reached. Explain the transient behavior of the system. What is the probable engineering intention of the new inflow condition?</span><a id=\"a15\"></a>"
   ]
  },
  {
   "cell_type": "code",
   "execution_count": 16,
   "metadata": {
    "ExecuteTime": {
     "end_time": "2022-04-12T07:21:42.550927Z",
     "start_time": "2022-04-12T07:21:42.387141Z"
    }
   },
   "outputs": [
    {
     "name": "stdout",
     "output_type": "stream",
     "text": [
      "       Time [s]    c_A [kgmol/m^3]  c_B [kgmol/m^3]  c_C[kgmol/m^3]   T [K]\n",
      "      0.000e+00       2.248e-01       2.143e+00       4.409e-01       3.500e+02\n",
      "      3.015e+00       1.846e-01       2.164e+00       4.452e-01       3.518e+02\n",
      "      6.030e+00       1.490e-01       2.183e+00       4.493e-01       3.533e+02\n",
      "      9.045e+00       1.199e-01       2.196e+00       4.524e-01       3.548e+02\n",
      "      1.206e+01       9.637e-02       2.205e+00       4.547e-01       3.563e+02\n",
      "      1.508e+01       7.762e-02       2.210e+00       4.561e-01       3.578e+02\n",
      "      1.809e+01       6.282e-02       2.211e+00       4.570e-01       3.593e+02\n",
      "      2.111e+01       5.127e-02       2.211e+00       4.573e-01       3.607e+02\n",
      "      2.412e+01       4.230e-02       2.209e+00       4.573e-01       3.621e+02\n",
      "      2.714e+01       3.538e-02       2.205e+00       4.571e-01       3.634e+02\n",
      "      3.015e+01       3.003e-02       2.202e+00       4.566e-01       3.646e+02\n",
      "      3.317e+01       2.588e-02       2.197e+00       4.561e-01       3.657e+02\n",
      "      3.618e+01       2.266e-02       2.193e+00       4.556e-01       3.667e+02\n",
      "      3.920e+01       2.013e-02       2.189e+00       4.550e-01       3.676e+02\n",
      "      4.221e+01       1.813e-02       2.186e+00       4.545e-01       3.684e+02\n",
      "      4.523e+01       1.655e-02       2.182e+00       4.540e-01       3.691e+02\n",
      "      4.824e+01       1.527e-02       2.179e+00       4.535e-01       3.697e+02\n",
      "      5.126e+01       1.424e-02       2.176e+00       4.531e-01       3.703e+02\n",
      "      5.427e+01       1.340e-02       2.174e+00       4.527e-01       3.707e+02\n",
      "      5.729e+01       1.271e-02       2.172e+00       4.524e-01       3.711e+02\n",
      "      6.030e+01       1.214e-02       2.170e+00       4.521e-01       3.715e+02\n",
      "      6.332e+01       1.167e-02       2.168e+00       4.519e-01       3.718e+02\n",
      "      6.633e+01       1.128e-02       2.166e+00       4.516e-01       3.721e+02\n",
      "      6.935e+01       1.095e-02       2.165e+00       4.514e-01       3.723e+02\n",
      "      7.236e+01       1.068e-02       2.164e+00       4.513e-01       3.725e+02\n",
      "      7.538e+01       1.044e-02       2.163e+00       4.511e-01       3.727e+02\n",
      "      7.839e+01       1.025e-02       2.162e+00       4.510e-01       3.728e+02\n",
      "      8.141e+01       1.008e-02       2.162e+00       4.509e-01       3.729e+02\n",
      "      8.442e+01       9.943e-03       2.161e+00       4.508e-01       3.731e+02\n",
      "      8.744e+01       9.823e-03       2.160e+00       4.507e-01       3.732e+02\n",
      "      9.045e+01       9.721e-03       2.160e+00       4.506e-01       3.732e+02\n",
      "      9.347e+01       9.634e-03       2.159e+00       4.506e-01       3.733e+02\n",
      "      9.648e+01       9.560e-03       2.159e+00       4.505e-01       3.734e+02\n",
      "      9.950e+01       9.497e-03       2.159e+00       4.505e-01       3.734e+02\n",
      "      1.025e+02       9.442e-03       2.159e+00       4.504e-01       3.735e+02\n",
      "      1.055e+02       9.396e-03       2.158e+00       4.504e-01       3.735e+02\n",
      "      1.085e+02       9.356e-03       2.158e+00       4.503e-01       3.735e+02\n",
      "      1.116e+02       9.322e-03       2.158e+00       4.503e-01       3.736e+02\n",
      "      1.146e+02       9.293e-03       2.158e+00       4.503e-01       3.736e+02\n",
      "      1.176e+02       9.268e-03       2.158e+00       4.503e-01       3.736e+02\n"
     ]
    }
   ],
   "source": [
    "'''Evolve the CSTR'''\n"
   ]
  },
  {
   "cell_type": "code",
   "execution_count": 17,
   "metadata": {
    "ExecuteTime": {
     "end_time": "2022-04-12T07:21:43.559194Z",
     "start_time": "2022-04-12T07:21:42.553459Z"
    }
   },
   "outputs": [
    {
     "data": {
      "image/png": "[encoded data removed]",
      "text/plain": [
       "<Figure size 864x432 with 4 Axes>"
      ]
     },
     "metadata": {
      "needs_background": "light"
     },
     "output_type": "display_data"
    },
    {
     "name": "stdout",
     "output_type": "stream",
     "text": [
      "\n"
     ]
    }
   ],
   "source": [
    "'''Plot Concentration versus Time'''\n"
   ]
  },
  {
   "cell_type": "markdown",
   "metadata": {},
   "source": [
    "<span style=\"color:blue\">**Explanation:**</span>"
   ]
  },
  {
   "cell_type": "markdown",
   "metadata": {},
   "source": [
    "### <span style=\"color:blue\">[1.6)](#toa)(10 pts) Make a tabular comparison of the two steady states previously computed and analyze the results.</span><a id=\"a16\"></a>"
   ]
  },
  {
   "cell_type": "markdown",
   "metadata": {},
   "source": [
    "#### **Steady-state results analysis:**"
   ]
  },
  {
   "cell_type": "markdown",
   "metadata": {},
   "source": [
    "## <span style=\"color:blue\">[Assignment 2 (5 pts)](#toa)</span><a id=\"a2\"></a>"
   ]
  },
  {
   "cell_type": "markdown",
   "metadata": {},
   "source": [
    "### <span style=\"color:blue\">Describe the most unclear point in the content presented so far. Then, make an effort to clarify the point on your own.</span>"
   ]
  },
  {
   "cell_type": "code",
   "execution_count": null,
   "metadata": {},
   "outputs": [],
   "source": []
  }
 ],
 "metadata": {
  "kernelspec": {
   "display_name": "Python 3 (ipykernel)",
   "language": "python",
   "name": "python3"
  },
  "language_info": {
   "codemirror_mode": {
    "name": "ipython",
    "version": 3
   },
   "file_extension": ".py",
   "mimetype": "text/x-python",
   "name": "python",
   "nbconvert_exporter": "python",
   "pygments_lexer": "ipython3",
   "version": "3.9.9"
  },
  "latex_envs": {
   "LaTeX_envs_menu_present": true,
   "autoclose": false,
   "autocomplete": true,
   "bibliofile": "biblio.bib",
   "cite_by": "apalike",
   "current_citInitial": 1,
   "eqLabelWithNumbers": true,
   "eqNumInitial": 1,
   "hotkeys": {
    "equation": "Ctrl-E",
    "itemize": "Ctrl-I"
   },
   "labels_anchors": false,
   "latex_user_defs": false,
   "report_style_numbering": false,
   "user_envs_cfg": false
  }
 },
 "nbformat": 4,
 "nbformat_minor": 2
}
